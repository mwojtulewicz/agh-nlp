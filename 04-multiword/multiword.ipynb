{
 "cells": [
  {
   "cell_type": "markdown",
   "metadata": {},
   "source": [
    "# Multiword expression identification and extraction\n",
    "Mateusz Wojtulewicz"
   ]
  },
  {
   "cell_type": "code",
   "execution_count": 1,
   "metadata": {},
   "outputs": [],
   "source": [
    "import spacy\n",
    "import tqdm\n",
    "\n",
    "from pathlib import Path"
   ]
  },
  {
   "cell_type": "markdown",
   "metadata": {},
   "source": [
    "## 1. Use SpaCy tokenizer API to tokenize the text from the law corpus."
   ]
  },
  {
   "cell_type": "code",
   "execution_count": 2,
   "metadata": {},
   "outputs": [],
   "source": [
    "nlp = spacy.load(\"pl_core_news_sm\")\n",
    "tokenizer = nlp.tokenizer"
   ]
  },
  {
   "cell_type": "code",
   "execution_count": 3,
   "metadata": {},
   "outputs": [
    {
     "name": "stderr",
     "output_type": "stream",
     "text": [
      "Tokenizing acts: 100%|██████████| 1179/1179 [00:37<00:00, 31.82it/s]\n"
     ]
    }
   ],
   "source": [
    "tokenized_acts = {}\n",
    "\n",
    "acts_dir = Path(\"../data/ustawy/\")\n",
    "n_acts = len(list(acts_dir.iterdir()))\n",
    "\n",
    "for act in tqdm.tqdm(acts_dir.iterdir(), desc=\"Tokenizing acts\", total=n_acts):\n",
    "    act_id = act.stem\n",
    "    content = act.read_text(encoding=\"utf8\")\n",
    "    tokens = tokenizer(content)\n",
    "    tokenized_acts[act_id] = [token.text.lower() for token in tokens]"
   ]
  },
  {
   "cell_type": "markdown",
   "metadata": {},
   "source": [
    "## 2. Compute bigram counts of downcased tokens."
   ]
  },
  {
   "cell_type": "code",
   "execution_count": 2,
   "metadata": {},
   "outputs": [],
   "source": [
    "from collections import Counter"
   ]
  },
  {
   "cell_type": "code",
   "execution_count": 5,
   "metadata": {},
   "outputs": [],
   "source": [
    "bigrams = (\n",
    "    (f, s)\n",
    "    for tokens in tokenized_acts.values()\n",
    "    for (f, s) in zip(tokens[:-1], tokens[1:])\n",
    ")"
   ]
  },
  {
   "cell_type": "code",
   "execution_count": 6,
   "metadata": {},
   "outputs": [],
   "source": [
    "bigrams_count = Counter(bigrams)"
   ]
  },
  {
   "cell_type": "code",
   "execution_count": 7,
   "metadata": {},
   "outputs": [
    {
     "data": {
      "text/plain": [
       "[(('art', '.'), 83778),\n",
       " (('ust', '.'), 53552),\n",
       " (('.', '\\n'), 49741),\n",
       " (('poz', '.'), 45198),\n",
       " ((',', 'poz'), 39655),\n",
       " (('-', '-'), 36542),\n",
       " (('r', '.'), 33015),\n",
       " (('w', 'art'), 30170),\n",
       " (('.', '1'), 29734),\n",
       " ((',', 'o'), 28739)]"
      ]
     },
     "execution_count": 7,
     "metadata": {},
     "output_type": "execute_result"
    }
   ],
   "source": [
    "bigrams_count.most_common(10)"
   ]
  },
  {
   "cell_type": "markdown",
   "metadata": {},
   "source": [
    "## 3. Discard bigrams containing characters other than letters. Make sure that you discard the invalid entries after computing the bigram counts.\n",
    "\n",
    "I'm using a Token's property `is_alpha` which is `True` if the token consists only of alphabetic characters."
   ]
  },
  {
   "cell_type": "code",
   "execution_count": 3,
   "metadata": {},
   "outputs": [],
   "source": [
    "def is_word(s: str) -> bool:\n",
    "   return tokenizer(s)[0].is_alpha"
   ]
  },
  {
   "cell_type": "code",
   "execution_count": 9,
   "metadata": {},
   "outputs": [],
   "source": [
    "bigrams_filtered = (\n",
    "    (f, s)\n",
    "    for tokens in tokenized_acts.values()\n",
    "    for (f, s) in zip(tokens[:-1], tokens[1:])\n",
    "    if is_word(f) and is_word(s)\n",
    ")"
   ]
  },
  {
   "cell_type": "code",
   "execution_count": 10,
   "metadata": {},
   "outputs": [],
   "source": [
    "bigrams_filtered_count = Counter(bigrams_filtered)"
   ]
  },
  {
   "cell_type": "code",
   "execution_count": 11,
   "metadata": {},
   "outputs": [
    {
     "data": {
      "text/plain": [
       "[(('w', 'art'), 30170),\n",
       " (('mowa', 'w'), 27649),\n",
       " (('w', 'ust'), 22238),\n",
       " (('których', 'mowa'), 12973),\n",
       " (('o', 'których'), 12604),\n",
       " (('otrzymuje', 'brzmienie'), 9168),\n",
       " (('z', 'dnia'), 8989),\n",
       " (('którym', 'mowa'), 8689),\n",
       " (('o', 'którym'), 8525),\n",
       " (('do', 'spraw'), 8215),\n",
       " (('dodaje', 'się'), 7960),\n",
       " (('i', 'nr'), 7871),\n",
       " (('w', 'brzmieniu'), 6690),\n",
       " (('w', 'drodze'), 6623),\n",
       " (('stosuje', 'się'), 6232),\n",
       " (('na', 'podstawie'), 5906),\n",
       " (('w', 'przypadku'), 5371),\n",
       " (('której', 'mowa'), 5192),\n",
       " (('o', 'której'), 5061),\n",
       " (('od', 'dnia'), 4971)]"
      ]
     },
     "execution_count": 11,
     "metadata": {},
     "output_type": "execute_result"
    }
   ],
   "source": [
    "bigrams_filtered_count.most_common(20)"
   ]
  },
  {
   "cell_type": "markdown",
   "metadata": {},
   "source": [
    "## 4. Use pointwise mutual information to compute the measure for all pairs of words.\n",
    "The _PMI_ of a pair of outcomes $x$ and $y$ is calculated as follows:\n",
    "$$\n",
    "\\text{pmi}(x; y) = \\log_2 \\frac{p(x, y)}{p(x)p(y)}\n",
    "$$\n",
    "\n",
    "In our case:\n",
    "- $p(x, y)$ is a probability of drawing a bigram $(x,y)$ from all bigrams in the corpus;\n",
    "- $p(x)$ is a probabilty of drawing a token $x$ from all tokens in the corpus."
   ]
  },
  {
   "cell_type": "code",
   "execution_count": 12,
   "metadata": {},
   "outputs": [],
   "source": [
    "tokens_count = Counter(\n",
    "    token for tokens in tokenized_acts.values() for token in tokens\n",
    ")"
   ]
  },
  {
   "cell_type": "code",
   "execution_count": 13,
   "metadata": {},
   "outputs": [
    {
     "data": {
      "text/plain": [
       "[('.', 437694),\n",
       " (',', 341126),\n",
       " ('w', 201224),\n",
       " ('\\n', 181703),\n",
       " (')', 100194),\n",
       " ('i', 90009),\n",
       " ('art', 83804),\n",
       " ('z', 82443),\n",
       " ('1', 73108),\n",
       " ('o', 64776)]"
      ]
     },
     "execution_count": 13,
     "metadata": {},
     "output_type": "execute_result"
    }
   ],
   "source": [
    "tokens_count.most_common(10)"
   ]
  },
  {
   "cell_type": "markdown",
   "metadata": {},
   "source": [
    "Saving counters to be used to calculate _PMI_ in a `pmi_bigram_mp.py` script that uses parallelization."
   ]
  },
  {
   "cell_type": "code",
   "execution_count": 9,
   "metadata": {},
   "outputs": [],
   "source": [
    "import pickle\n",
    "\n",
    "def dump_counter(counter: Counter, name: str) -> None:\n",
    "    with open(f\"saved/{name}.p\", \"wb\") as f:\n",
    "        pickle.dump(counter, f)\n",
    "\n",
    "def load_counter(name) -> Counter:\n",
    "    with open(f\"saved/{name}.p\", \"rb\") as f:\n",
    "        return pickle.load(f)"
   ]
  },
  {
   "cell_type": "code",
   "execution_count": 17,
   "metadata": {},
   "outputs": [],
   "source": [
    "dump_counter(bigrams_count, \"bigrams_counter\")\n",
    "dump_counter(bigrams_filtered_count, \"bigrams_filtered_counter\")\n",
    "dump_counter(tokens_count, \"tokens_counter\")"
   ]
  },
  {
   "cell_type": "code",
   "execution_count": 10,
   "metadata": {},
   "outputs": [],
   "source": [
    "bigrams_count = load_counter(\"bigrams_counter\")\n",
    "bigrams_filtered_count = load_counter(\"bigrams_filtered_counter\")\n",
    "tokens_count = load_counter(\"tokens_counter\")"
   ]
  },
  {
   "cell_type": "markdown",
   "metadata": {},
   "source": [
    "Loading calculated results."
   ]
  },
  {
   "cell_type": "code",
   "execution_count": 20,
   "metadata": {},
   "outputs": [],
   "source": [
    "bigrams_pmi = pickle.load(open(\"saved/bigram_pmi_results.p\", \"rb\"))"
   ]
  },
  {
   "cell_type": "markdown",
   "metadata": {},
   "source": [
    "## 5. Sort the word pairs according to that measure in the descending order and determine top 10 entries."
   ]
  },
  {
   "cell_type": "code",
   "execution_count": 21,
   "metadata": {},
   "outputs": [
    {
     "data": {
      "text/plain": [
       "[(('kołowe', 'jednoosiowe'), 22.476105450088575),\n",
       " (('zbrojeń', 'żelbeto'), 22.476105450088575),\n",
       " (('prefabrykatów', 'wnętrzowe'), 22.476105450088575),\n",
       " (('gołe', 'aluminiowe'), 22.476105450088575),\n",
       " (('polistyrenu', 'spienionego'), 22.476105450088575),\n",
       " (('objaśnieniem', 'figur'), 22.476105450088575),\n",
       " (('wkładzie', 'wnoszonym'), 22.476105450088575),\n",
       " (('doktorem', 'habilitowanym'), 22.476105450088575),\n",
       " (('losy', 'loteryjne'), 22.476105450088575),\n",
       " (('ugaszone', 'zapałki'), 22.476105450088575)]"
      ]
     },
     "execution_count": 21,
     "metadata": {},
     "output_type": "execute_result"
    }
   ],
   "source": [
    "sorted(bigrams_pmi, key=lambda x: -x[1])[:10]"
   ]
  },
  {
   "cell_type": "markdown",
   "metadata": {},
   "source": [
    "## 6. Filter bigrams with number of occurrences lower than 5. Determine top 10 entries for the remaining dataset (>=5 occurrences)."
   ]
  },
  {
   "cell_type": "code",
   "execution_count": 22,
   "metadata": {},
   "outputs": [
    {
     "data": {
      "text/plain": [
       "[(('diagności', 'laboratoryjni'), 19.89114294936742),\n",
       " (('odczynów', 'poszczepiennych'), 19.89114294936742),\n",
       " (('adama', 'mickiewicza'), 19.89114294936742),\n",
       " (('papierem', 'wartościowym'), 19.668750528030973),\n",
       " (('piotrków', 'trybunalski'), 19.668750528030973),\n",
       " (('lambrekiny', 'okienne'), 19.668750528030973),\n",
       " (('schedę', 'spadkową'), 19.668750528030973),\n",
       " (('buraka', 'cukrowego'), 19.476105450088575),\n",
       " (('zdrowego', 'stylu'), 19.476105450088575),\n",
       " (('zapieczętowanej', 'kopercie'), 19.446358106694525)]"
      ]
     },
     "execution_count": 22,
     "metadata": {},
     "output_type": "execute_result"
    }
   ],
   "source": [
    "bigrams_pmi_5 = [(bigram, pmi) for bigram, pmi in bigrams_pmi if bigrams_count[bigram] > 5]\n",
    "sorted(bigrams_pmi_5, key=lambda x: -x[1])[:10]"
   ]
  },
  {
   "cell_type": "markdown",
   "metadata": {},
   "source": [
    "## 7. Use KRNNT or Clarin-PL API to tag and lemmatize the corpus.\n",
    "\n",
    "I've used Clarin-PL API with Moreusz 1, and then I've downloaded the XML output files."
   ]
  },
  {
   "cell_type": "code",
   "execution_count": 29,
   "metadata": {},
   "outputs": [],
   "source": [
    "import xml.etree.ElementTree as ET"
   ]
  },
  {
   "cell_type": "code",
   "execution_count": 86,
   "metadata": {},
   "outputs": [
    {
     "name": "stderr",
     "output_type": "stream",
     "text": [
      "Tokenizing tagged acts: 100%|██████████| 1179/1179 [02:16<00:00,  8.63it/s]\n"
     ]
    }
   ],
   "source": [
    "tag_tokenized_acts = {}\n",
    "\n",
    "tag_acts_dir = Path(\"../data/ustawy_tagged_clarin_morf1/\")\n",
    "n_acts = len(list(tag_acts_dir.iterdir()))\n",
    "\n",
    "for act in tqdm.tqdm(tag_acts_dir.iterdir(), desc=\"Tokenizing tagged acts\", total=n_acts):\n",
    "    act_id = act.stem\n",
    "    content = act.read_text(encoding=\"utf8\")\n",
    "    tree = ET.fromstring(text=content)\n",
    "    tag_tokens = []\n",
    "    for tok in tree.iter(\"tok\"):\n",
    "        lex = tok.find(\"lex\")\n",
    "        base = lex.find(\"base\").text\n",
    "        ctag = lex.find(\"ctag\").text\n",
    "        tag_token = f\"{base.lower()}:{ctag.split(':')[0]}\"\n",
    "        tag_tokens.append(tag_token)\n",
    "    tag_tokenized_acts[act_id] = tag_tokens"
   ]
  },
  {
   "cell_type": "markdown",
   "metadata": {},
   "source": [
    "## 8. Using the tagged corpus compute bigram statistic for the tokens containing: a. lemmatized, downcased word b. morphosyntactic category of the word (subst, fin, adj, etc.)"
   ]
  },
  {
   "cell_type": "code",
   "execution_count": 87,
   "metadata": {},
   "outputs": [],
   "source": [
    "tag_bigrams = [\n",
    "    (f, s)\n",
    "    for tag_tokens in tag_tokenized_acts.values()\n",
    "    for (f, s) in zip(tag_tokens[:-1], tag_tokens[1:])\n",
    "]"
   ]
  },
  {
   "cell_type": "code",
   "execution_count": 88,
   "metadata": {},
   "outputs": [],
   "source": [
    "tag_bigrams_counter = Counter(tag_bigrams)"
   ]
  },
  {
   "cell_type": "code",
   "execution_count": 89,
   "metadata": {},
   "outputs": [
    {
     "data": {
      "text/plain": [
       "[(('art:brev', '.:interp'), 83700),\n",
       " (('usta:subst', '.:interp'), 53553),\n",
       " (('poz:brev', '.:interp'), 45195),\n",
       " ((',:interp', 'poz:brev'), 43166),\n",
       " (('.:interp', '1:adj'), 39987),\n",
       " (('-:interp', '-:interp'), 36548),\n",
       " (('r:brev', '.:interp'), 33029),\n",
       " (('w:prep', 'art:brev'), 31988),\n",
       " ((',:interp', 'o:prep'), 29906),\n",
       " (('o:prep', 'który:adj'), 28646)]"
      ]
     },
     "execution_count": 89,
     "metadata": {},
     "output_type": "execute_result"
    }
   ],
   "source": [
    "tag_bigrams_counter.most_common(10)"
   ]
  },
  {
   "cell_type": "markdown",
   "metadata": {},
   "source": [
    "Now, I am filtering tokens that base is a word."
   ]
  },
  {
   "cell_type": "code",
   "execution_count": 95,
   "metadata": {},
   "outputs": [],
   "source": [
    "def is_word_base(token: str) -> bool:\n",
    "    parts = token.split(\":\")\n",
    "    if len(parts) != 2:\n",
    "        return False\n",
    "    else:\n",
    "        return is_word(s=parts[0])"
   ]
  },
  {
   "cell_type": "code",
   "execution_count": 96,
   "metadata": {},
   "outputs": [],
   "source": [
    "tag_bigrams_filtered = (\n",
    "    (f, s)\n",
    "    for tag_tokens in tag_tokenized_acts.values()\n",
    "    for (f, s) in zip(tag_tokens[:-1], tag_tokens[1:])\n",
    "    if is_word_base(f) and is_word_base(s)\n",
    ")"
   ]
  },
  {
   "cell_type": "code",
   "execution_count": 97,
   "metadata": {},
   "outputs": [],
   "source": [
    "tag_bigrams_filtered_counter = Counter(tag_bigrams_filtered)"
   ]
  },
  {
   "cell_type": "code",
   "execution_count": 99,
   "metadata": {},
   "outputs": [
    {
     "data": {
      "text/plain": [
       "[(('w:prep', 'art:brev'), 31988),\n",
       " (('o:prep', 'który:adj'), 28646),\n",
       " (('który:adj', 'mowa:subst'), 28538),\n",
       " (('mowa:subst', 'w:prep'), 28473),\n",
       " (('w:prep', 'usta:subst'), 23557),\n",
       " (('z:prep', 'dzień:subst'), 11360),\n",
       " (('otrzymywać:fin', 'brzmienie:subst'), 10536),\n",
       " (('określić:ppas', 'w:prep'), 10169),\n",
       " (('do:prep', 'sprawa:subst'), 8716),\n",
       " (('ustawa:subst', 'z:prep'), 8625),\n",
       " (('właściwy:adj', 'do:prep'), 8535),\n",
       " (('i:conj', 'nr:brev'), 8435),\n",
       " (('dodawać:fin', 'się:qub'), 8195),\n",
       " (('minister:subst', 'właściwy:adj'), 7931),\n",
       " (('w:prep', 'brzmienie:subst'), 7280),\n",
       " (('w:prep', 'droga:subst'), 7128),\n",
       " (('w:prep', 'przypadek:subst'), 6776),\n",
       " (('na:prep', 'podstawa:subst'), 6681),\n",
       " (('stosować:fin', 'się:qub'), 6535),\n",
       " (('się:qub', 'wyraz:subst'), 6077)]"
      ]
     },
     "execution_count": 99,
     "metadata": {},
     "output_type": "execute_result"
    }
   ],
   "source": [
    "tag_bigrams_filtered_counter.most_common(20)"
   ]
  },
  {
   "cell_type": "markdown",
   "metadata": {},
   "source": [
    "## 10. Compute the same statistics as for the non-lemmatized words (i.e. PMI) and print top-10 entries with at least 5 occurrences."
   ]
  },
  {
   "cell_type": "code",
   "execution_count": 100,
   "metadata": {},
   "outputs": [],
   "source": [
    "tag_tokens_counter = Counter(\n",
    "    tag_token for tag_tokens in tag_tokenized_acts.values() for tag_token in tag_tokens\n",
    ")"
   ]
  },
  {
   "cell_type": "code",
   "execution_count": 101,
   "metadata": {},
   "outputs": [
    {
     "data": {
      "text/plain": [
       "[('.:interp', 457356),\n",
       " (',:interp', 343058),\n",
       " ('w:prep', 202567),\n",
       " ('):interp', 102195),\n",
       " ('z:prep', 87991),\n",
       " ('i:conj', 87725),\n",
       " ('art:brev', 83706),\n",
       " ('1:adj', 74500),\n",
       " ('o:prep', 64712),\n",
       " ('-:interp', 61833)]"
      ]
     },
     "execution_count": 101,
     "metadata": {},
     "output_type": "execute_result"
    }
   ],
   "source": [
    "tag_tokens_counter.most_common(10)"
   ]
  },
  {
   "cell_type": "markdown",
   "metadata": {},
   "source": [
    "Saving counters to be used to calculate _PMI_ in a `pmi_bigram_mp.py` script that uses parallelization."
   ]
  },
  {
   "cell_type": "code",
   "execution_count": 103,
   "metadata": {},
   "outputs": [],
   "source": [
    "dump_counter(tag_bigrams_counter, \"tag_bigrams_counter\")\n",
    "dump_counter(tag_bigrams_filtered_counter, \"tag_bigrams_filtered_counter\")\n",
    "dump_counter(tag_tokens_counter, \"tag_tokens_counter\")"
   ]
  },
  {
   "cell_type": "code",
   "execution_count": 12,
   "metadata": {},
   "outputs": [],
   "source": [
    "tag_bigrams_counter = load_counter(\"tag_bigrams_counter\")\n",
    "tag_bigrams_filtered_counter = load_counter(\"tag_bigrams_filtered_counter\")\n",
    "tag_tokens_counter = load_counter(\"tag_tokens_counter\")"
   ]
  },
  {
   "cell_type": "markdown",
   "metadata": {},
   "source": [
    "Loading calculated results."
   ]
  },
  {
   "cell_type": "code",
   "execution_count": 17,
   "metadata": {},
   "outputs": [],
   "source": [
    "tag_bigrams_pmi = pickle.load(open(\"saved/tag_bigram_pmi_results.p\", \"rb\"))"
   ]
  },
  {
   "cell_type": "markdown",
   "metadata": {},
   "source": [
    "Top 10 bigrams with any number of occurrences."
   ]
  },
  {
   "cell_type": "code",
   "execution_count": 18,
   "metadata": {},
   "outputs": [
    {
     "data": {
      "text/plain": [
       "[(('tornister:subst', 'nieskórzany:adj'), 22.33079552748708),\n",
       " (('zbrojenia:subst', 'żelbeto:adja'), 22.33079552748708),\n",
       " (('reduktor:subst', 'membranowy:adj'), 22.33079552748708),\n",
       " (('prefabrykat:subst', 'wnętrzowy:adj'), 22.33079552748708),\n",
       " (('polistyren:subst', 'spienić:ppas'), 22.33079552748708),\n",
       " (('uw:subst', 'zględnieniu:subst'), 22.33079552748708),\n",
       " (('english:subst', 'language:subst'), 22.33079552748708),\n",
       " (('language:subst', 'college:subst'), 22.33079552748708),\n",
       " (('southern:subst', 'trade:subst'), 22.33079552748708),\n",
       " (('łęka:subst', 'dukielski:adj'), 22.33079552748708)]"
      ]
     },
     "execution_count": 18,
     "metadata": {},
     "output_type": "execute_result"
    }
   ],
   "source": [
    "sorted(tag_bigrams_pmi, key=lambda x: -x[1])[:10]"
   ]
  },
  {
   "cell_type": "markdown",
   "metadata": {},
   "source": [
    "Top 10 bigrams with at least 5 occurrences."
   ]
  },
  {
   "cell_type": "code",
   "execution_count": 19,
   "metadata": {},
   "outputs": [
    {
     "data": {
      "text/plain": [
       "[(('adam:subst', 'mickiewicz:subst'), 19.745833026765926),\n",
       " (('piotrków:subst', 'trybunalski:adj'), 19.523440605429478),\n",
       " (('przeponowy:adj', 'rurowy:adj'), 19.33079552748708),\n",
       " (('chrześcijanin:subst', 'baptysta:subst'), 19.108403106150632),\n",
       " (('maria:subst', 'curie:subst'), 19.00886743259972),\n",
       " (('hugo:subst', 'kołłątaj:subst'), 19.00886743259972),\n",
       " (('tadeusz:subst', 'kotarbiński:subst'), 19.00886743259972),\n",
       " (('upośledzony:adj', 'umysłowo:adv'), 18.871363908849784),\n",
       " (('jedwab:subst', 'wiskozowy:adj'), 18.871363908849784),\n",
       " (('vitis:subst', 'vinifera:subst'), 18.871363908849784)]"
      ]
     },
     "execution_count": 19,
     "metadata": {},
     "output_type": "execute_result"
    }
   ],
   "source": [
    "tag_bigrams_pmi_5 = [(tag_bigram, pmi) for tag_bigram, pmi in tag_bigrams_pmi if tag_bigrams_counter[tag_bigram] > 5]\n",
    "sorted(tag_bigrams_pmi_5, key=lambda x: -x[1])[:10]"
   ]
  },
  {
   "cell_type": "markdown",
   "metadata": {},
   "source": [
    "## 11. Compute **trigram** counts for both corpora and perform the same filtering."
   ]
  },
  {
   "cell_type": "markdown",
   "metadata": {},
   "source": [
    "### A. Non-lemmatized corpora."
   ]
  },
  {
   "cell_type": "code",
   "execution_count": 107,
   "metadata": {},
   "outputs": [],
   "source": [
    "trigrams_counter = Counter(\n",
    "    (first, second, third)\n",
    "    for tokens in tokenized_acts.values()\n",
    "    for (first, second, third) in zip(tokens, tokens[1:], tokens[2:])\n",
    ")"
   ]
  },
  {
   "cell_type": "code",
   "execution_count": 108,
   "metadata": {},
   "outputs": [
    {
     "data": {
      "text/plain": [
       "[((',', 'poz', '.'), 39633),\n",
       " (('-', '-', '-'), 34641),\n",
       " (('w', 'art', '.'), 30162),\n",
       " (('ust', '.', '1'), 22618),\n",
       " (('w', 'ust', '.'), 22204),\n",
       " (('r', '.', 'nr'), 16956),\n",
       " (('_', '_', '_'), 16111),\n",
       " (('których', 'mowa', 'w'), 12506),\n",
       " (('mowa', 'w', 'ust'), 12388),\n",
       " ((',', 'o', 'których'), 12009)]"
      ]
     },
     "execution_count": 108,
     "metadata": {},
     "output_type": "execute_result"
    }
   ],
   "source": [
    "trigrams_counter.most_common(10)"
   ]
  },
  {
   "cell_type": "code",
   "execution_count": 110,
   "metadata": {},
   "outputs": [],
   "source": [
    "trigrams_filtered_counter = Counter(\n",
    "    (first, second, third)\n",
    "    for tokens in tokenized_acts.values()\n",
    "    for (first, second, third) in zip(tokens, tokens[1:], tokens[2:])\n",
    "    if is_word(first) and is_word(second) and is_word(third)\n",
    ")"
   ]
  },
  {
   "cell_type": "code",
   "execution_count": 111,
   "metadata": {},
   "outputs": [
    {
     "data": {
      "text/plain": [
       "[(('których', 'mowa', 'w'), 12506),\n",
       " (('mowa', 'w', 'ust'), 12388),\n",
       " (('o', 'których', 'mowa'), 11714),\n",
       " (('mowa', 'w', 'art'), 10995),\n",
       " (('którym', 'mowa', 'w'), 8429),\n",
       " (('o', 'którym', 'mowa'), 8040),\n",
       " (('której', 'mowa', 'w'), 5020),\n",
       " (('o', 'której', 'mowa'), 4731),\n",
       " (('właściwy', 'do', 'spraw'), 4434),\n",
       " (('minister', 'właściwy', 'do'), 4106)]"
      ]
     },
     "execution_count": 111,
     "metadata": {},
     "output_type": "execute_result"
    }
   ],
   "source": [
    "trigrams_filtered_counter.most_common(10)"
   ]
  },
  {
   "cell_type": "markdown",
   "metadata": {},
   "source": [
    "### B. Lemmatized and tagged corpora."
   ]
  },
  {
   "cell_type": "code",
   "execution_count": 112,
   "metadata": {},
   "outputs": [],
   "source": [
    "tag_trigrams_counter = Counter(\n",
    "    (first, second, third)\n",
    "    for tokens in tag_tokenized_acts.values()\n",
    "    for (first, second, third) in zip(tokens, tokens[1:], tokens[2:])\n",
    ")"
   ]
  },
  {
   "cell_type": "code",
   "execution_count": 113,
   "metadata": {},
   "outputs": [
    {
     "data": {
      "text/plain": [
       "[((',:interp', 'poz:brev', '.:interp'), 43165),\n",
       " (('-:interp', '-:interp', '-:interp'), 34646),\n",
       " (('w:prep', 'art:brev', '.:interp'), 31987),\n",
       " (('o:prep', 'który:adj', 'mowa:subst'), 28525),\n",
       " ((',:interp', 'o:prep', 'który:adj'), 28445),\n",
       " (('który:adj', 'mowa:subst', 'w:prep'), 28442),\n",
       " (('w:prep', 'usta:subst', '.:interp'), 23520),\n",
       " (('usta:subst', '.:interp', '1:adj'), 23346),\n",
       " (('.:interp', 'art:brev', '.:interp'), 22917),\n",
       " (('r:brev', '.:interp', 'nr:brev'), 17860)]"
      ]
     },
     "execution_count": 113,
     "metadata": {},
     "output_type": "execute_result"
    }
   ],
   "source": [
    "tag_trigrams_counter.most_common(10)"
   ]
  },
  {
   "cell_type": "code",
   "execution_count": 114,
   "metadata": {},
   "outputs": [],
   "source": [
    "tag_trigrams_filtered_counter = Counter(\n",
    "    (first, second, third)\n",
    "    for tokens in tag_tokenized_acts.values()\n",
    "    for (first, second, third) in zip(tokens, tokens[1:], tokens[2:])\n",
    "    if is_word(first) and is_word(second) and is_word(third)\n",
    ")"
   ]
  },
  {
   "cell_type": "code",
   "execution_count": 115,
   "metadata": {},
   "outputs": [
    {
     "data": {
      "text/plain": [
       "[(('o:prep', 'który:adj', 'mowa:subst'), 28525),\n",
       " (('który:adj', 'mowa:subst', 'w:prep'), 28442),\n",
       " (('mowa:subst', 'w:prep', 'usta:subst'), 13474),\n",
       " (('mowa:subst', 'w:prep', 'art:brev'), 12293),\n",
       " (('ustawa:subst', 'z:prep', 'dzień:subst'), 8589),\n",
       " (('właściwy:adj', 'do:prep', 'sprawa:subst'), 7964),\n",
       " (('minister:subst', 'właściwy:adj', 'do:prep'), 7886),\n",
       " (('w:prep', 'droga:subst', 'rozporządzenie:subst'), 4748),\n",
       " (('zastępować:fin', 'się:qub', 'wyraz:subst'), 3653),\n",
       " (('w:prep', 'ustawa:subst', 'z:prep'), 3646)]"
      ]
     },
     "execution_count": 115,
     "metadata": {},
     "output_type": "execute_result"
    }
   ],
   "source": [
    "tag_trigrams_filtered_counter.most_common(10)"
   ]
  },
  {
   "cell_type": "markdown",
   "metadata": {},
   "source": [
    "## 12. Use PMI (with 5 occurrence threshold) to compute top 10 results for the trigrams. Devise a method for computing the values, based on the results for bigrams."
   ]
  },
  {
   "cell_type": "markdown",
   "metadata": {},
   "source": [
    "I am constructing _PMI_ of three outcomes $x$, $y$, $z$ to be:\n",
    "$$\n",
    "\\text{pmi}(x; y; z) = \\log_2 \\frac{p(x, y, z)}{p(x)p(y)p(z)}\n",
    "$$\n",
    "For this constructions still holds that _PMI_ of outcomes measures the divergence between probability of their coincidence and the probability of their individual, independent occurences."
   ]
  },
  {
   "cell_type": "markdown",
   "metadata": {},
   "source": [
    "Saving counters to be used to calculate _PMI_ in a `pmi_trigram_mp.py` script that uses parallelization."
   ]
  },
  {
   "cell_type": "code",
   "execution_count": 117,
   "metadata": {},
   "outputs": [],
   "source": [
    "dump_counter(trigrams_counter, \"trigrams_counter\")\n",
    "dump_counter(trigrams_filtered_counter, \"trigrams_filtered_counter\")\n",
    "\n",
    "dump_counter(tag_trigrams_counter, \"tag_trigrams_counter\")\n",
    "dump_counter(tag_trigrams_filtered_counter, \"tag_trigrams_filtered_counter\")"
   ]
  },
  {
   "cell_type": "code",
   "execution_count": 16,
   "metadata": {},
   "outputs": [],
   "source": [
    "trigrams_counter = load_counter(\"trigrams_counter\")\n",
    "trigrams_filtered_counter = load_counter(\"trigrams_filtered_counter\")\n",
    "\n",
    "tag_trigrams_counter = load_counter(\"tag_trigrams_counter\")\n",
    "tag_trigrams_filtered_counter = load_counter(\"tag_trigrams_filtered_counter\")"
   ]
  },
  {
   "cell_type": "markdown",
   "metadata": {},
   "source": [
    "Loading calculated results."
   ]
  },
  {
   "cell_type": "code",
   "execution_count": 27,
   "metadata": {},
   "outputs": [],
   "source": [
    "trigrams_pmi = pickle.load(open(\"saved/trigram_pmi_results.p\", \"rb\"))\n",
    "tag_trigrams_pmi = pickle.load(open(\"saved/tag_trigram_pmi_results.p\", \"rb\"))"
   ]
  },
  {
   "cell_type": "markdown",
   "metadata": {},
   "source": [
    "### Top 10 results for trigrams\n",
    "#### A. Non-lemmatized corpora\n",
    "With any number of occurrences:"
   ]
  },
  {
   "cell_type": "code",
   "execution_count": 25,
   "metadata": {},
   "outputs": [
    {
     "data": {
      "text/plain": [
       "[(('english', 'language', 'college'), 44.952210959141496),\n",
       " (('wniebowzięcia', 'najświętszej', 'maryi'), 44.952210959141496),\n",
       " (('najświętszej', 'maryi', 'panny'), 44.952210959141496),\n",
       " (('porejestrowe', 'doświadczalnictwo', 'odmianowe'), 44.952210959141496),\n",
       " (('world', 'jewish', 'restitution'), 44.952210959141496),\n",
       " (('jewish', 'restitution', 'organisation'), 44.952210959141496),\n",
       " (('wszywanie', 'zamków', 'błyskawicznych'), 44.952210959141496),\n",
       " (('mit', 'beschrankter', 'haftung'), 44.952210959141496),\n",
       " (('prosimy', 'uważnie', 'przeczytać'), 44.952210959141496),\n",
       " (('aegroti', 'suprema', 'lex'), 44.952210959141496)]"
      ]
     },
     "execution_count": 25,
     "metadata": {},
     "output_type": "execute_result"
    }
   ],
   "source": [
    "sorted(trigrams_pmi, key=lambda x: -x[1])[:10]"
   ]
  },
  {
   "cell_type": "markdown",
   "metadata": {},
   "source": [
    "With at lest 5 occurrences:"
   ]
  },
  {
   "cell_type": "code",
   "execution_count": 26,
   "metadata": {},
   "outputs": [
    {
     "data": {
      "text/plain": [
       "[(('profilem', 'zaufanym', 'epuap'), 37.43585430543938),\n",
       " (('finałowego', 'turnieju', 'mistrzostw'), 37.0553740281969),\n",
       " (('potwierdzonym', 'profilem', 'zaufanym'), 36.762835628053026),\n",
       " (('piłce', 'nożnej', 'uefa'), 36.70428344569791),\n",
       " (('szybkiemu', 'postępowi', 'technicznemu'), 36.29043286136951),\n",
       " (('turnieju', 'mistrzostw', 'europy'), 36.28983928183392),\n",
       " (('kurtki', 'anorak', 'etc'), 35.907816839783045),\n",
       " (('poddanych', 'szybkiemu', 'postępowi'), 35.59528744289793),\n",
       " (('byłych', 'hitlerowskich', 'obozów'), 35.57391610322961),\n",
       " (('mln', 'dolarów', 'usa'), 35.47041152747575)]"
      ]
     },
     "execution_count": 26,
     "metadata": {},
     "output_type": "execute_result"
    }
   ],
   "source": [
    "trigrams_pmi_5 = [(trigram, pmi) for trigram, pmi in trigrams_pmi if trigrams_counter[trigram] > 5]\n",
    "sorted(trigrams_pmi_5, key=lambda x: -x[1])[:10]"
   ]
  },
  {
   "cell_type": "markdown",
   "metadata": {},
   "source": [
    "#### B. Lemmatized and tagged corpora\n",
    "With any number of occurrences:"
   ]
  },
  {
   "cell_type": "code",
   "execution_count": 28,
   "metadata": {},
   "outputs": [
    {
     "data": {
      "text/plain": [
       "[(('english:subst', 'language:subst', 'college:subst'), 44.661591127103506),\n",
       " (('world:subst', 'jewish:subst', 'restitution:subst'), 44.661591127103506),\n",
       " (('jewish:subst', 'restitution:subst', 'organisation:subst'),\n",
       "  44.661591127103506),\n",
       " (('wszywać:ger', 'zamek:subst', 'błyskawiczny:adj'), 44.661591127103506),\n",
       " (('şnapełniania:xxx', 'butel:subst', 'turystycznychş:xxx'),\n",
       "  44.661591127103506),\n",
       " (('mitteldeutsche:subst', 'grundstucksgesellschaft:subst', 'mit:subst'),\n",
       "  44.661591127103506),\n",
       " (('grundstucksgesellschaft:subst', 'mit:subst', 'beschrankter:subst'),\n",
       "  44.661591127103506),\n",
       " (('mit:subst', 'beschrankter:subst', 'haftung:subst'), 44.661591127103506),\n",
       " (('ier:subst', 'ają:fin', 'cyc:subst'), 44.661591127103506),\n",
       " (('wl:subst', 'bezowdne:subst', 'cznik:subst'), 44.661591127103506)]"
      ]
     },
     "execution_count": 28,
     "metadata": {},
     "output_type": "execute_result"
    }
   ],
   "source": [
    "sorted(tag_trigrams_pmi, key=lambda x: -x[1])[:10]"
   ]
  },
  {
   "cell_type": "markdown",
   "metadata": {},
   "source": [
    "With at lest 5 occurrences:"
   ]
  },
  {
   "cell_type": "code",
   "execution_count": 30,
   "metadata": {},
   "outputs": [
    {
     "data": {
      "text/plain": [
       "[(('wymiennik:subst', 'przeponowy:adj', 'rurowy:adj'), 37.661591127103506),\n",
       " (('finałowy:adj', 'turniej:subst', 'mistrzostwa:subst'), 36.87368856771207),\n",
       " (('piłka:subst', 'nożny:adj', 'uefa:subst'), 35.90270169438254),\n",
       " (('turniej:subst', 'mistrzostwa:subst', 'europa:subst'), 35.672054706542426),\n",
       " (('przedwczesny:adj', 'wyrąb:subst', 'drzewostan:subst'), 35.44727200630274),\n",
       " (('kurtka:subst', 'anorak:subst', 'et\\xa0cetera:brev'), 35.30403912248542),\n",
       " (('profil:subst', 'zaufany:adj', 'epuap:subst'), 35.07850835960057),\n",
       " (('milion:brev', 'dolar:subst', 'usa:subst'), 34.91675728960396),\n",
       " (('ja:ppron12', 'dopomóc:impt', 'bóg:subst'), 34.032234507023894),\n",
       " (('uniwersytet:subst', 'maria:subst', 'curie:subst'), 34.026780076931786)]"
      ]
     },
     "execution_count": 30,
     "metadata": {},
     "output_type": "execute_result"
    }
   ],
   "source": [
    "tag_trigrams_pmi_5 = [(tag_trigram, pmi) for tag_trigram, pmi in tag_trigrams_pmi if tag_trigrams_counter[tag_trigram] > 5]\n",
    "sorted(tag_trigrams_pmi_5, key=lambda x: -x[1])[:10]"
   ]
  },
  {
   "cell_type": "markdown",
   "metadata": {},
   "source": [
    "## 13. Create a table comparing the results for corpora with and without tagging and lemmatization (separate tables for bigrams and trigrams)."
   ]
  },
  {
   "cell_type": "code",
   "execution_count": 31,
   "metadata": {},
   "outputs": [],
   "source": [
    "import pandas as pd"
   ]
  },
  {
   "cell_type": "code",
   "execution_count": 32,
   "metadata": {},
   "outputs": [],
   "source": [
    "pmi_sort_fn = lambda x: -x[1]"
   ]
  },
  {
   "cell_type": "markdown",
   "metadata": {},
   "source": [
    "A. Table for bigrams:\n"
   ]
  },
  {
   "cell_type": "code",
   "execution_count": 40,
   "metadata": {},
   "outputs": [],
   "source": [
    "plain_bigrams_df = pd.DataFrame.from_records(\n",
    "    data=[\n",
    "        (first, second, pmi)\n",
    "        for ((first, second), pmi) in sorted(bigrams_pmi_5, key=pmi_sort_fn)[:20]\n",
    "    ],\n",
    "    columns=[\"plain_first\", \"plain_second\", \"plain_pmi\"],\n",
    ")\n",
    "\n",
    "tag_bigrams_df = pd.DataFrame.from_records(\n",
    "    data=[\n",
    "        (first, second, pmi)\n",
    "        for ((first, second), pmi) in sorted(tag_bigrams_pmi_5, key=pmi_sort_fn)[:20]\n",
    "    ],\n",
    "    columns=[\"tagged_first\", \"tagged_second\", \"tagged_pmi\"],\n",
    ")"
   ]
  },
  {
   "cell_type": "code",
   "execution_count": 43,
   "metadata": {},
   "outputs": [
    {
     "data": {
      "text/html": [
       "<div>\n",
       "<style scoped>\n",
       "    .dataframe tbody tr th:only-of-type {\n",
       "        vertical-align: middle;\n",
       "    }\n",
       "\n",
       "    .dataframe tbody tr th {\n",
       "        vertical-align: top;\n",
       "    }\n",
       "\n",
       "    .dataframe thead tr th {\n",
       "        text-align: left;\n",
       "    }\n",
       "</style>\n",
       "<table border=\"1\" class=\"dataframe\">\n",
       "  <thead>\n",
       "    <tr>\n",
       "      <th></th>\n",
       "      <th colspan=\"3\" halign=\"left\">plain</th>\n",
       "      <th colspan=\"3\" halign=\"left\">tagged</th>\n",
       "    </tr>\n",
       "    <tr>\n",
       "      <th></th>\n",
       "      <th>first</th>\n",
       "      <th>second</th>\n",
       "      <th>pmi</th>\n",
       "      <th>first</th>\n",
       "      <th>second</th>\n",
       "      <th>pmi</th>\n",
       "    </tr>\n",
       "  </thead>\n",
       "  <tbody>\n",
       "    <tr>\n",
       "      <th>0</th>\n",
       "      <td>diagności</td>\n",
       "      <td>laboratoryjni</td>\n",
       "      <td>19.891143</td>\n",
       "      <td>adam:subst</td>\n",
       "      <td>mickiewicz:subst</td>\n",
       "      <td>19.745833</td>\n",
       "    </tr>\n",
       "    <tr>\n",
       "      <th>1</th>\n",
       "      <td>odczynów</td>\n",
       "      <td>poszczepiennych</td>\n",
       "      <td>19.891143</td>\n",
       "      <td>piotrków:subst</td>\n",
       "      <td>trybunalski:adj</td>\n",
       "      <td>19.523441</td>\n",
       "    </tr>\n",
       "    <tr>\n",
       "      <th>2</th>\n",
       "      <td>adama</td>\n",
       "      <td>mickiewicza</td>\n",
       "      <td>19.891143</td>\n",
       "      <td>przeponowy:adj</td>\n",
       "      <td>rurowy:adj</td>\n",
       "      <td>19.330796</td>\n",
       "    </tr>\n",
       "    <tr>\n",
       "      <th>3</th>\n",
       "      <td>papierem</td>\n",
       "      <td>wartościowym</td>\n",
       "      <td>19.668751</td>\n",
       "      <td>chrześcijanin:subst</td>\n",
       "      <td>baptysta:subst</td>\n",
       "      <td>19.108403</td>\n",
       "    </tr>\n",
       "    <tr>\n",
       "      <th>4</th>\n",
       "      <td>piotrków</td>\n",
       "      <td>trybunalski</td>\n",
       "      <td>19.668751</td>\n",
       "      <td>maria:subst</td>\n",
       "      <td>curie:subst</td>\n",
       "      <td>19.008867</td>\n",
       "    </tr>\n",
       "    <tr>\n",
       "      <th>5</th>\n",
       "      <td>lambrekiny</td>\n",
       "      <td>okienne</td>\n",
       "      <td>19.668751</td>\n",
       "      <td>hugo:subst</td>\n",
       "      <td>kołłątaj:subst</td>\n",
       "      <td>19.008867</td>\n",
       "    </tr>\n",
       "    <tr>\n",
       "      <th>6</th>\n",
       "      <td>schedę</td>\n",
       "      <td>spadkową</td>\n",
       "      <td>19.668751</td>\n",
       "      <td>tadeusz:subst</td>\n",
       "      <td>kotarbiński:subst</td>\n",
       "      <td>19.008867</td>\n",
       "    </tr>\n",
       "    <tr>\n",
       "      <th>7</th>\n",
       "      <td>buraka</td>\n",
       "      <td>cukrowego</td>\n",
       "      <td>19.476105</td>\n",
       "      <td>upośledzony:adj</td>\n",
       "      <td>umysłowo:adv</td>\n",
       "      <td>18.871364</td>\n",
       "    </tr>\n",
       "    <tr>\n",
       "      <th>8</th>\n",
       "      <td>zdrowego</td>\n",
       "      <td>stylu</td>\n",
       "      <td>19.476105</td>\n",
       "      <td>jedwab:subst</td>\n",
       "      <td>wiskozowy:adj</td>\n",
       "      <td>18.871364</td>\n",
       "    </tr>\n",
       "    <tr>\n",
       "      <th>9</th>\n",
       "      <td>zapieczętowanej</td>\n",
       "      <td>kopercie</td>\n",
       "      <td>19.446358</td>\n",
       "      <td>vitis:subst</td>\n",
       "      <td>vinifera:subst</td>\n",
       "      <td>18.871364</td>\n",
       "    </tr>\n",
       "    <tr>\n",
       "      <th>10</th>\n",
       "      <td>moszcz</td>\n",
       "      <td>gronowy</td>\n",
       "      <td>19.306180</td>\n",
       "      <td>nietykalność:subst</td>\n",
       "      <td>cielesny:adj</td>\n",
       "      <td>18.816222</td>\n",
       "    </tr>\n",
       "    <tr>\n",
       "      <th>11</th>\n",
       "      <td>zniekształcających</td>\n",
       "      <td>rzeźbę</td>\n",
       "      <td>19.306180</td>\n",
       "      <td>lambrekin:subst</td>\n",
       "      <td>okienny:adj</td>\n",
       "      <td>18.786475</td>\n",
       "    </tr>\n",
       "    <tr>\n",
       "      <th>12</th>\n",
       "      <td>ulgę</td>\n",
       "      <td>uczniowską</td>\n",
       "      <td>19.253713</td>\n",
       "      <td>chłodnica:subst</td>\n",
       "      <td>odmulina:subst</td>\n",
       "      <td>18.745833</td>\n",
       "    </tr>\n",
       "    <tr>\n",
       "      <th>13</th>\n",
       "      <td>wyznaniowa</td>\n",
       "      <td>żydowska</td>\n",
       "      <td>19.154177</td>\n",
       "      <td>michał:subst</td>\n",
       "      <td>oczapowski:subst</td>\n",
       "      <td>18.745833</td>\n",
       "    </tr>\n",
       "    <tr>\n",
       "      <th>14</th>\n",
       "      <td>małżeńską</td>\n",
       "      <td>wspólnością</td>\n",
       "      <td>19.136255</td>\n",
       "      <td>zatoka:subst</td>\n",
       "      <td>gdański:adj</td>\n",
       "      <td>18.646297</td>\n",
       "    </tr>\n",
       "    <tr>\n",
       "      <th>15</th>\n",
       "      <td>prewencję</td>\n",
       "      <td>rentową</td>\n",
       "      <td>19.113535</td>\n",
       "      <td>dolar:subst</td>\n",
       "      <td>usa:subst</td>\n",
       "      <td>18.630356</td>\n",
       "    </tr>\n",
       "    <tr>\n",
       "      <th>16</th>\n",
       "      <td>ziemiach</td>\n",
       "      <td>zachodnich</td>\n",
       "      <td>19.016674</td>\n",
       "      <td>zaufany:adj</td>\n",
       "      <td>epuap:subst</td>\n",
       "      <td>18.630356</td>\n",
       "    </tr>\n",
       "    <tr>\n",
       "      <th>17</th>\n",
       "      <td>sieroty</td>\n",
       "      <td>zupełnej</td>\n",
       "      <td>19.016674</td>\n",
       "      <td>ter:subst</td>\n",
       "      <td>torialnego:adj</td>\n",
       "      <td>18.523441</td>\n",
       "    </tr>\n",
       "    <tr>\n",
       "      <th>18</th>\n",
       "      <td>motywacji</td>\n",
       "      <td>zasługującej</td>\n",
       "      <td>19.016674</td>\n",
       "      <td>odczyn:subst</td>\n",
       "      <td>poszczepienny:adj</td>\n",
       "      <td>18.523441</td>\n",
       "    </tr>\n",
       "    <tr>\n",
       "      <th>19</th>\n",
       "      <td>partiom</td>\n",
       "      <td>politycznym</td>\n",
       "      <td>19.016674</td>\n",
       "      <td>radosław:subst</td>\n",
       "      <td>sikorski:subst</td>\n",
       "      <td>18.523441</td>\n",
       "    </tr>\n",
       "  </tbody>\n",
       "</table>\n",
       "</div>"
      ],
      "text/plain": [
       "                 plain                                           tagged  \\\n",
       "                 first           second        pmi                first   \n",
       "0            diagności    laboratoryjni  19.891143           adam:subst   \n",
       "1             odczynów  poszczepiennych  19.891143       piotrków:subst   \n",
       "2                adama      mickiewicza  19.891143       przeponowy:adj   \n",
       "3             papierem     wartościowym  19.668751  chrześcijanin:subst   \n",
       "4             piotrków      trybunalski  19.668751          maria:subst   \n",
       "5           lambrekiny          okienne  19.668751           hugo:subst   \n",
       "6               schedę         spadkową  19.668751        tadeusz:subst   \n",
       "7               buraka        cukrowego  19.476105      upośledzony:adj   \n",
       "8             zdrowego            stylu  19.476105         jedwab:subst   \n",
       "9      zapieczętowanej         kopercie  19.446358          vitis:subst   \n",
       "10              moszcz          gronowy  19.306180   nietykalność:subst   \n",
       "11  zniekształcających           rzeźbę  19.306180      lambrekin:subst   \n",
       "12                ulgę       uczniowską  19.253713      chłodnica:subst   \n",
       "13          wyznaniowa         żydowska  19.154177         michał:subst   \n",
       "14           małżeńską      wspólnością  19.136255         zatoka:subst   \n",
       "15           prewencję          rentową  19.113535          dolar:subst   \n",
       "16            ziemiach       zachodnich  19.016674          zaufany:adj   \n",
       "17             sieroty         zupełnej  19.016674            ter:subst   \n",
       "18           motywacji     zasługującej  19.016674         odczyn:subst   \n",
       "19             partiom      politycznym  19.016674       radosław:subst   \n",
       "\n",
       "                                  \n",
       "               second        pmi  \n",
       "0    mickiewicz:subst  19.745833  \n",
       "1     trybunalski:adj  19.523441  \n",
       "2          rurowy:adj  19.330796  \n",
       "3      baptysta:subst  19.108403  \n",
       "4         curie:subst  19.008867  \n",
       "5      kołłątaj:subst  19.008867  \n",
       "6   kotarbiński:subst  19.008867  \n",
       "7        umysłowo:adv  18.871364  \n",
       "8       wiskozowy:adj  18.871364  \n",
       "9      vinifera:subst  18.871364  \n",
       "10       cielesny:adj  18.816222  \n",
       "11        okienny:adj  18.786475  \n",
       "12     odmulina:subst  18.745833  \n",
       "13   oczapowski:subst  18.745833  \n",
       "14        gdański:adj  18.646297  \n",
       "15          usa:subst  18.630356  \n",
       "16        epuap:subst  18.630356  \n",
       "17     torialnego:adj  18.523441  \n",
       "18  poszczepienny:adj  18.523441  \n",
       "19     sikorski:subst  18.523441  "
      ]
     },
     "execution_count": 43,
     "metadata": {},
     "output_type": "execute_result"
    }
   ],
   "source": [
    "bigrams_df = pd.concat((plain_bigrams_df, tag_bigrams_df), axis=1)\n",
    "bigrams_df.columns = bigrams_df.columns.str.split(\"_\", expand=True)\n",
    "\n",
    "bigrams_df"
   ]
  },
  {
   "cell_type": "markdown",
   "metadata": {},
   "source": [
    "B. Table for trigrams:"
   ]
  },
  {
   "cell_type": "code",
   "execution_count": 44,
   "metadata": {},
   "outputs": [],
   "source": [
    "plain_trigrams_df = pd.DataFrame.from_records(\n",
    "    data=[\n",
    "        (first, second, third, pmi)\n",
    "        for ((first, second, third), pmi) in sorted(trigrams_pmi_5, key=pmi_sort_fn)[:20]\n",
    "    ],\n",
    "    columns=[\"plain_first\", \"plain_second\", \"plain_third\", \"plain_pmi\"],\n",
    ")\n",
    "\n",
    "tag_trigrams_df = pd.DataFrame.from_records(\n",
    "    data=[\n",
    "        (first, second, third, pmi)\n",
    "        for ((first, second, third), pmi) in sorted(tag_trigrams_pmi_5, key=pmi_sort_fn)[:20]\n",
    "    ],\n",
    "    columns=[\"tag_first\", \"tag_second\", \"tag_third\", \"tag_pmi\"],\n",
    ")"
   ]
  },
  {
   "cell_type": "code",
   "execution_count": 45,
   "metadata": {},
   "outputs": [
    {
     "data": {
      "text/html": [
       "<div>\n",
       "<style scoped>\n",
       "    .dataframe tbody tr th:only-of-type {\n",
       "        vertical-align: middle;\n",
       "    }\n",
       "\n",
       "    .dataframe tbody tr th {\n",
       "        vertical-align: top;\n",
       "    }\n",
       "\n",
       "    .dataframe thead tr th {\n",
       "        text-align: left;\n",
       "    }\n",
       "</style>\n",
       "<table border=\"1\" class=\"dataframe\">\n",
       "  <thead>\n",
       "    <tr>\n",
       "      <th></th>\n",
       "      <th colspan=\"4\" halign=\"left\">plain</th>\n",
       "      <th colspan=\"4\" halign=\"left\">tag</th>\n",
       "    </tr>\n",
       "    <tr>\n",
       "      <th></th>\n",
       "      <th>first</th>\n",
       "      <th>second</th>\n",
       "      <th>third</th>\n",
       "      <th>pmi</th>\n",
       "      <th>first</th>\n",
       "      <th>second</th>\n",
       "      <th>third</th>\n",
       "      <th>pmi</th>\n",
       "    </tr>\n",
       "  </thead>\n",
       "  <tbody>\n",
       "    <tr>\n",
       "      <th>0</th>\n",
       "      <td>profilem</td>\n",
       "      <td>zaufanym</td>\n",
       "      <td>epuap</td>\n",
       "      <td>37.435854</td>\n",
       "      <td>wymiennik:subst</td>\n",
       "      <td>przeponowy:adj</td>\n",
       "      <td>rurowy:adj</td>\n",
       "      <td>37.661591</td>\n",
       "    </tr>\n",
       "    <tr>\n",
       "      <th>1</th>\n",
       "      <td>finałowego</td>\n",
       "      <td>turnieju</td>\n",
       "      <td>mistrzostw</td>\n",
       "      <td>37.055374</td>\n",
       "      <td>finałowy:adj</td>\n",
       "      <td>turniej:subst</td>\n",
       "      <td>mistrzostwa:subst</td>\n",
       "      <td>36.873689</td>\n",
       "    </tr>\n",
       "    <tr>\n",
       "      <th>2</th>\n",
       "      <td>potwierdzonym</td>\n",
       "      <td>profilem</td>\n",
       "      <td>zaufanym</td>\n",
       "      <td>36.762836</td>\n",
       "      <td>piłka:subst</td>\n",
       "      <td>nożny:adj</td>\n",
       "      <td>uefa:subst</td>\n",
       "      <td>35.902702</td>\n",
       "    </tr>\n",
       "    <tr>\n",
       "      <th>3</th>\n",
       "      <td>piłce</td>\n",
       "      <td>nożnej</td>\n",
       "      <td>uefa</td>\n",
       "      <td>36.704283</td>\n",
       "      <td>turniej:subst</td>\n",
       "      <td>mistrzostwa:subst</td>\n",
       "      <td>europa:subst</td>\n",
       "      <td>35.672055</td>\n",
       "    </tr>\n",
       "    <tr>\n",
       "      <th>4</th>\n",
       "      <td>szybkiemu</td>\n",
       "      <td>postępowi</td>\n",
       "      <td>technicznemu</td>\n",
       "      <td>36.290433</td>\n",
       "      <td>przedwczesny:adj</td>\n",
       "      <td>wyrąb:subst</td>\n",
       "      <td>drzewostan:subst</td>\n",
       "      <td>35.447272</td>\n",
       "    </tr>\n",
       "    <tr>\n",
       "      <th>5</th>\n",
       "      <td>turnieju</td>\n",
       "      <td>mistrzostw</td>\n",
       "      <td>europy</td>\n",
       "      <td>36.289839</td>\n",
       "      <td>kurtka:subst</td>\n",
       "      <td>anorak:subst</td>\n",
       "      <td>et cetera:brev</td>\n",
       "      <td>35.304039</td>\n",
       "    </tr>\n",
       "    <tr>\n",
       "      <th>6</th>\n",
       "      <td>kurtki</td>\n",
       "      <td>anorak</td>\n",
       "      <td>etc</td>\n",
       "      <td>35.907817</td>\n",
       "      <td>profil:subst</td>\n",
       "      <td>zaufany:adj</td>\n",
       "      <td>epuap:subst</td>\n",
       "      <td>35.078508</td>\n",
       "    </tr>\n",
       "    <tr>\n",
       "      <th>7</th>\n",
       "      <td>poddanych</td>\n",
       "      <td>szybkiemu</td>\n",
       "      <td>postępowi</td>\n",
       "      <td>35.595287</td>\n",
       "      <td>milion:brev</td>\n",
       "      <td>dolar:subst</td>\n",
       "      <td>usa:subst</td>\n",
       "      <td>34.916757</td>\n",
       "    </tr>\n",
       "    <tr>\n",
       "      <th>8</th>\n",
       "      <td>byłych</td>\n",
       "      <td>hitlerowskich</td>\n",
       "      <td>obozów</td>\n",
       "      <td>35.573916</td>\n",
       "      <td>ja:ppron12</td>\n",
       "      <td>dopomóc:impt</td>\n",
       "      <td>bóg:subst</td>\n",
       "      <td>34.032235</td>\n",
       "    </tr>\n",
       "    <tr>\n",
       "      <th>9</th>\n",
       "      <td>mln</td>\n",
       "      <td>dolarów</td>\n",
       "      <td>usa</td>\n",
       "      <td>35.470412</td>\n",
       "      <td>uniwersytet:subst</td>\n",
       "      <td>maria:subst</td>\n",
       "      <td>curie:subst</td>\n",
       "      <td>34.026780</td>\n",
       "    </tr>\n",
       "    <tr>\n",
       "      <th>10</th>\n",
       "      <td>religijne</td>\n",
       "      <td>uroczystości</td>\n",
       "      <td>pogrzebowe</td>\n",
       "      <td>35.363496</td>\n",
       "      <td>trwale:adv</td>\n",
       "      <td>zniekształcać:pact</td>\n",
       "      <td>rzeźba:subst</td>\n",
       "      <td>33.761479</td>\n",
       "    </tr>\n",
       "    <tr>\n",
       "      <th>11</th>\n",
       "      <td>trwale</td>\n",
       "      <td>zniekształcających</td>\n",
       "      <td>rzeźbę</td>\n",
       "      <td>35.274491</td>\n",
       "      <td>zubożać:pact</td>\n",
       "      <td>warstwa:subst</td>\n",
       "      <td>ozonowy:adj</td>\n",
       "      <td>33.667238</td>\n",
       "    </tr>\n",
       "    <tr>\n",
       "      <th>12</th>\n",
       "      <td>komunalne</td>\n",
       "      <td>osady</td>\n",
       "      <td>ściekowe</td>\n",
       "      <td>35.223319</td>\n",
       "      <td>wielki:adj</td>\n",
       "      <td>księstwo:subst</td>\n",
       "      <td>luksemburg:subst</td>\n",
       "      <td>33.514750</td>\n",
       "    </tr>\n",
       "    <tr>\n",
       "      <th>13</th>\n",
       "      <td>wybitnych</td>\n",
       "      <td>młodych</td>\n",
       "      <td>naukowców</td>\n",
       "      <td>35.175367</td>\n",
       "      <td>niepożądany:adj</td>\n",
       "      <td>odczyn:subst</td>\n",
       "      <td>poszczepienny:adj</td>\n",
       "      <td>33.188900</td>\n",
       "    </tr>\n",
       "    <tr>\n",
       "      <th>14</th>\n",
       "      <td>zubożających</td>\n",
       "      <td>warstwę</td>\n",
       "      <td>ozonową</td>\n",
       "      <td>35.164308</td>\n",
       "      <td>hitlerowski:adj</td>\n",
       "      <td>obóz:subst</td>\n",
       "      <td>zagłada:subst</td>\n",
       "      <td>33.032235</td>\n",
       "    </tr>\n",
       "    <tr>\n",
       "      <th>15</th>\n",
       "      <td>wydatkom</td>\n",
       "      <td>bieżącym</td>\n",
       "      <td>ponoszonym</td>\n",
       "      <td>35.045320</td>\n",
       "      <td>królestwo:subst</td>\n",
       "      <td>wielki:adj</td>\n",
       "      <td>brytania:subst</td>\n",
       "      <td>32.885393</td>\n",
       "    </tr>\n",
       "    <tr>\n",
       "      <th>16</th>\n",
       "      <td>międzynarodowy</td>\n",
       "      <td>sygnał</td>\n",
       "      <td>wywoławczy</td>\n",
       "      <td>35.036332</td>\n",
       "      <td>filia:subst</td>\n",
       "      <td>politechnika:subst</td>\n",
       "      <td>łódzki:adj</td>\n",
       "      <td>32.884336</td>\n",
       "    </tr>\n",
       "    <tr>\n",
       "      <th>17</th>\n",
       "      <td>socjalistycznych</td>\n",
       "      <td>republik</td>\n",
       "      <td>radzieckich</td>\n",
       "      <td>35.027398</td>\n",
       "      <td>diagnostyka:subst</td>\n",
       "      <td>in:subst</td>\n",
       "      <td>vitro:subst</td>\n",
       "      <td>32.485418</td>\n",
       "    </tr>\n",
       "    <tr>\n",
       "      <th>18</th>\n",
       "      <td>kolektywną</td>\n",
       "      <td>pozycję</td>\n",
       "      <td>znaczącą</td>\n",
       "      <td>34.913463</td>\n",
       "      <td>kościół:subst</td>\n",
       "      <td>chrześcijanin:subst</td>\n",
       "      <td>baptysta:subst</td>\n",
       "      <td>32.343802</td>\n",
       "    </tr>\n",
       "    <tr>\n",
       "      <th>19</th>\n",
       "      <td>hitlerowskich</td>\n",
       "      <td>obozów</td>\n",
       "      <td>zagłady</td>\n",
       "      <td>34.883601</td>\n",
       "      <td>włóknina:subst</td>\n",
       "      <td>nawet:qub</td>\n",
       "      <td>impregnować:ppas</td>\n",
       "      <td>32.209736</td>\n",
       "    </tr>\n",
       "  </tbody>\n",
       "</table>\n",
       "</div>"
      ],
      "text/plain": [
       "               plain                                               \\\n",
       "               first              second         third        pmi   \n",
       "0           profilem            zaufanym         epuap  37.435854   \n",
       "1         finałowego            turnieju    mistrzostw  37.055374   \n",
       "2      potwierdzonym            profilem      zaufanym  36.762836   \n",
       "3              piłce              nożnej          uefa  36.704283   \n",
       "4          szybkiemu           postępowi  technicznemu  36.290433   \n",
       "5           turnieju          mistrzostw        europy  36.289839   \n",
       "6             kurtki              anorak           etc  35.907817   \n",
       "7          poddanych           szybkiemu     postępowi  35.595287   \n",
       "8             byłych       hitlerowskich        obozów  35.573916   \n",
       "9                mln             dolarów           usa  35.470412   \n",
       "10         religijne        uroczystości    pogrzebowe  35.363496   \n",
       "11            trwale  zniekształcających        rzeźbę  35.274491   \n",
       "12         komunalne               osady      ściekowe  35.223319   \n",
       "13         wybitnych             młodych     naukowców  35.175367   \n",
       "14      zubożających             warstwę       ozonową  35.164308   \n",
       "15          wydatkom            bieżącym    ponoszonym  35.045320   \n",
       "16    międzynarodowy              sygnał    wywoławczy  35.036332   \n",
       "17  socjalistycznych            republik   radzieckich  35.027398   \n",
       "18        kolektywną             pozycję      znaczącą  34.913463   \n",
       "19     hitlerowskich              obozów       zagłady  34.883601   \n",
       "\n",
       "                  tag                                                     \n",
       "                first               second              third        pmi  \n",
       "0     wymiennik:subst       przeponowy:adj         rurowy:adj  37.661591  \n",
       "1        finałowy:adj        turniej:subst  mistrzostwa:subst  36.873689  \n",
       "2         piłka:subst            nożny:adj         uefa:subst  35.902702  \n",
       "3       turniej:subst    mistrzostwa:subst       europa:subst  35.672055  \n",
       "4    przedwczesny:adj          wyrąb:subst   drzewostan:subst  35.447272  \n",
       "5        kurtka:subst         anorak:subst     et cetera:brev  35.304039  \n",
       "6        profil:subst          zaufany:adj        epuap:subst  35.078508  \n",
       "7         milion:brev          dolar:subst          usa:subst  34.916757  \n",
       "8          ja:ppron12         dopomóc:impt          bóg:subst  34.032235  \n",
       "9   uniwersytet:subst          maria:subst        curie:subst  34.026780  \n",
       "10         trwale:adv   zniekształcać:pact       rzeźba:subst  33.761479  \n",
       "11       zubożać:pact        warstwa:subst        ozonowy:adj  33.667238  \n",
       "12         wielki:adj       księstwo:subst   luksemburg:subst  33.514750  \n",
       "13    niepożądany:adj         odczyn:subst  poszczepienny:adj  33.188900  \n",
       "14    hitlerowski:adj           obóz:subst      zagłada:subst  33.032235  \n",
       "15    królestwo:subst           wielki:adj     brytania:subst  32.885393  \n",
       "16        filia:subst   politechnika:subst         łódzki:adj  32.884336  \n",
       "17  diagnostyka:subst             in:subst        vitro:subst  32.485418  \n",
       "18      kościół:subst  chrześcijanin:subst     baptysta:subst  32.343802  \n",
       "19     włóknina:subst            nawet:qub   impregnować:ppas  32.209736  "
      ]
     },
     "execution_count": 45,
     "metadata": {},
     "output_type": "execute_result"
    }
   ],
   "source": [
    "trigrams_df = pd.concat((plain_trigrams_df, tag_trigrams_df), axis=1)\n",
    "trigrams_df.columns = trigrams_df.columns.str.split(\"_\", expand=True)\n",
    "\n",
    "trigrams_df"
   ]
  },
  {
   "cell_type": "markdown",
   "metadata": {},
   "source": [
    "## 14. Answer the following questions:\n",
    "\n",
    "### 1. Why do we have to filter the bigrams, rather than the token sequence?\n",
    "Because otherwise some bigrams would not contain subsequent tokens.\n",
    "\n",
    "### 1. Which method works better for the bigrams and which for the trigrams?\n",
    "In my opinion the method using tagging and lemmatization works better for bigrams and the method not using tagging and lemmatization for trigrams.\n",
    "\n",
    "When analysing bigrams, if not using tagging and lemmatization, the results show pair of words that were used in particular inflectional form, such as `wyznaniowa żydowska`. By using tagging and lemmatization we find pair of words that are correlated in more general manner, in any form, such as `Adam Mickiewicz` or `zaufany epuap`.\n",
    "\n",
    "With trigrams though, when using tagging, the pmi score is downgraded visibly because the tokens that form the trigram can be used in any possible form thus its probability is lower. Without using tagging we find trigrams that are more specific in case of form but with less distorted per-token probability. For example `profil zaufany epuap` is much lower in tagged method, while `wymiennik przeponowy nowy` is only visible in tagged method.\n",
    "\n",
    "### 3. What types of expressions are discovered by the methods.\n",
    "\n",
    "Both methods find mainly n-grams built only from nouns.\n",
    "\n",
    "### 4. Can you devise a different type of filtering that would yield better results?\n",
    "\n",
    "I can propose a metric _gap pointwise mutual information_ which would calculate the divergance between probability of two words appearing in an n-gram at any positions and the probability of their occurrence but assuming independence. The metric would be higher for pair of words that often appear together, but possibly in a bigger scope, e.g. words `algorytm` and `maszynowego` in phrase `algorytm uczenia maszynowego`."
   ]
  }
 ],
 "metadata": {
  "kernelspec": {
   "display_name": "Python 3.10.8 ('ds')",
   "language": "python",
   "name": "python3"
  },
  "language_info": {
   "codemirror_mode": {
    "name": "ipython",
    "version": 3
   },
   "file_extension": ".py",
   "mimetype": "text/x-python",
   "name": "python",
   "nbconvert_exporter": "python",
   "pygments_lexer": "ipython3",
   "version": "3.10.8 (tags/v3.10.8:aaaf517, Oct 11 2022, 16:50:30) [MSC v.1933 64 bit (AMD64)]"
  },
  "orig_nbformat": 4,
  "vscode": {
   "interpreter": {
    "hash": "2886749ed11b87e200011d0e8b34479c2c945318db21e04a15735afb52256eb9"
   }
  }
 },
 "nbformat": 4,
 "nbformat_minor": 2
}
