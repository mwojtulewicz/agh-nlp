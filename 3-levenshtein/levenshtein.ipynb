{
 "cells": [
  {
   "cell_type": "markdown",
   "metadata": {},
   "source": [
    "# Levenshtein distance\n",
    "Mateusz Wojtulewicz"
   ]
  },
  {
   "cell_type": "code",
   "execution_count": 114,
   "metadata": {},
   "outputs": [],
   "source": [
    "import json\n",
    "import tqdm\n",
    "import requests\n",
    "\n",
    "from pathlib import Path"
   ]
  },
  {
   "cell_type": "markdown",
   "metadata": {},
   "source": [
    "## 1. Use the corpus from exercise no. 1.\n",
    "## 2. Make sure the text in the corpus does not contain HTML code.\n",
    "## 3. Use SpaCy tokenizer API to tokenize the text from the cleaned law corpus.\n",
    "\n",
    "I'm loading a pretrained polish pipeline from SpaCy. Then I'm extracting its tokenizer."
   ]
  },
  {
   "cell_type": "code",
   "execution_count": 16,
   "metadata": {},
   "outputs": [],
   "source": [
    "import spacy"
   ]
  },
  {
   "cell_type": "code",
   "execution_count": 17,
   "metadata": {},
   "outputs": [],
   "source": [
    "nlp = spacy.load(\"pl_core_news_sm\")\n",
    "tokenizer = nlp.tokenizer"
   ]
  },
  {
   "cell_type": "markdown",
   "metadata": {},
   "source": [
    "Example of tokenizer in action."
   ]
  },
  {
   "cell_type": "code",
   "execution_count": 18,
   "metadata": {},
   "outputs": [
    {
     "name": "stdout",
     "output_type": "stream",
     "text": [
      "Poczuł przyjemną woń mocnej kawy.\n",
      "Poczuł\n",
      "przyjemną\n",
      "woń\n",
      "mocnej\n",
      "kawy\n",
      ".\n"
     ]
    }
   ],
   "source": [
    "from spacy.lang.pl.examples import sentences\n",
    "\n",
    "tokenizer = nlp.tokenizer\n",
    "doc = tokenizer(sentences[0])\n",
    "\n",
    "print(doc.text)\n",
    "\n",
    "for token in doc:\n",
    "    print(token.text)"
   ]
  },
  {
   "cell_type": "code",
   "execution_count": 19,
   "metadata": {},
   "outputs": [
    {
     "name": "stderr",
     "output_type": "stream",
     "text": [
      "Tokenizing acts: 100%|██████████| 1179/1179 [00:36<00:00, 31.96it/s]\n"
     ]
    }
   ],
   "source": [
    "tokenized_acts = {}\n",
    "\n",
    "acts_dir = Path(\"../data/ustawy/\")\n",
    "n_acts = len(list(acts_dir.iterdir()))\n",
    "\n",
    "for act in tqdm.tqdm(acts_dir.iterdir(), desc=\"Tokenizing acts\", total=n_acts):\n",
    "    act_id = act.stem\n",
    "    content = act.read_text(encoding=\"utf8\")\n",
    "    tokens = tokenizer(content)\n",
    "    tokenized_acts[act_id] = [token.text.lower() for token in tokens]"
   ]
  },
  {
   "cell_type": "markdown",
   "metadata": {},
   "source": [
    "## 4. Compute a **frequency list** for each of the processed files."
   ]
  },
  {
   "cell_type": "code",
   "execution_count": 29,
   "metadata": {},
   "outputs": [],
   "source": [
    "from collections import Counter"
   ]
  },
  {
   "cell_type": "code",
   "execution_count": 30,
   "metadata": {},
   "outputs": [
    {
     "name": "stderr",
     "output_type": "stream",
     "text": [
      "Calculating frequency lists: 100%|██████████| 1179/1179 [00:00<00:00, 2303.61it/s]\n"
     ]
    }
   ],
   "source": [
    "frequency_list_per_act = {\n",
    "    act_id: Counter(tokens)\n",
    "    for act_id, tokens in tqdm.tqdm(\n",
    "        tokenized_acts.items(), desc=\"Calculating frequency lists\", total=n_acts\n",
    "    )\n",
    "}"
   ]
  },
  {
   "cell_type": "code",
   "execution_count": 40,
   "metadata": {},
   "outputs": [
    {
     "name": "stdout",
     "output_type": "stream",
     "text": [
      "1993_599: [('|', 1634), ('-', 858), ('\\n', 561), ('.', 497), ('   ', 485)]\n",
      "1993_602: [('.', 155), (',', 89), ('w', 63), ('\"', 44), ('\\n          ', 36)]\n",
      "1993_645: [('.', 23), (',', 7), ('\\n', 7), ('z', 6), ('r', 6)]\n",
      "1993_646: [('.', 688), (',', 610), ('w', 506), ('-', 324), ('\"', 304)]\n",
      "1994_150: [('.', 20), (',', 6), ('w', 6), ('z', 5), ('i', 4)]\n",
      "1994_195: [('.', 2724), (',', 2197), ('\\n  ', 1368), ('w', 1226), ('\\n', 1117)]\n",
      "1994_201: [('.', 36), (',', 19), ('\\n                ', 19), ('i', 9), ('z', 8)]\n",
      "1994_214: [('.', 17), ('\\n', 5), ('w', 4), ('\"', 4), ('z', 3)]\n",
      "1994_215: [('.', 39), (',', 23), ('w', 14), ('z', 8), ('\\n       ', 8)]\n",
      "1994_288: [(',', 26), ('.', 23), ('w', 17), (')', 16), ('\\n', 11)]\n"
     ]
    }
   ],
   "source": [
    "for act_id, counter in list(frequency_list_per_act.items())[:10]:\n",
    "    print(f\"{act_id}: {counter.most_common(5)}\")"
   ]
  },
  {
   "cell_type": "markdown",
   "metadata": {},
   "source": [
    "## 5. Aggregate the result to obtain one global frequency list."
   ]
  },
  {
   "cell_type": "code",
   "execution_count": 42,
   "metadata": {},
   "outputs": [
    {
     "name": "stdout",
     "output_type": "stream",
     "text": [
      "Most frequent tokens: [('.', 437694), (',', 341126), ('w', 201224), ('\\n', 181703), (')', 100194)]\n"
     ]
    }
   ],
   "source": [
    "all_tokens = [token for tokens in tokenized_acts.values() for token in tokens]\n",
    "frequency_list = Counter(all_tokens)\n",
    "\n",
    "print(f\"Most frequent tokens: {frequency_list.most_common(5)}\")"
   ]
  },
  {
   "cell_type": "markdown",
   "metadata": {},
   "source": [
    "## 6. Reject all entries that are shorter than 2 characters or contain non-letter characters (make sure to include Polish diacritics).\n",
    "\n",
    "I'm using a Token's property `is_alpha` which is `True` if the token consists of alphabetic characters. As shown below, it includes Polish diacritics."
   ]
  },
  {
   "cell_type": "code",
   "execution_count": 49,
   "metadata": {},
   "outputs": [
    {
     "data": {
      "text/plain": [
       "True"
      ]
     },
     "execution_count": 49,
     "metadata": {},
     "output_type": "execute_result"
    }
   ],
   "source": [
    "tokenizer(\"żółć\")[0].is_alpha"
   ]
  },
  {
   "cell_type": "code",
   "execution_count": 47,
   "metadata": {},
   "outputs": [
    {
     "name": "stderr",
     "output_type": "stream",
     "text": [
      "Filtering tokens: 100%|██████████| 5833029/5833029 [00:30<00:00, 193085.36it/s]\n"
     ]
    }
   ],
   "source": [
    "tokens_filtered = [\n",
    "    token\n",
    "    for token in tqdm.tqdm(all_tokens, desc=\"Filtering tokens\", total=len(all_tokens))\n",
    "    if tokenizer(token)[0].is_alpha and len(token) > 1\n",
    "]"
   ]
  },
  {
   "cell_type": "code",
   "execution_count": 61,
   "metadata": {},
   "outputs": [],
   "source": [
    "frequency_list = Counter(tokens_filtered)"
   ]
  },
  {
   "cell_type": "markdown",
   "metadata": {},
   "source": [
    "Most frequent tokens."
   ]
  },
  {
   "cell_type": "code",
   "execution_count": 62,
   "metadata": {},
   "outputs": [
    {
     "data": {
      "text/plain": [
       "[('art', 83804),\n",
       " ('do', 60735),\n",
       " ('ust', 53636),\n",
       " ('na', 50647),\n",
       " ('się', 45886),\n",
       " ('lub', 45800),\n",
       " ('poz', 45224),\n",
       " ('nr', 44950),\n",
       " ('oraz', 33558),\n",
       " ('mowa', 28783)]"
      ]
     },
     "execution_count": 62,
     "metadata": {},
     "output_type": "execute_result"
    }
   ],
   "source": [
    "frequency_list.most_common(10)"
   ]
  },
  {
   "cell_type": "markdown",
   "metadata": {},
   "source": [
    "## 7. Make a plot in a logarithmic scale [...]"
   ]
  },
  {
   "cell_type": "code",
   "execution_count": 50,
   "metadata": {},
   "outputs": [],
   "source": [
    "import matplotlib.pyplot as plt"
   ]
  },
  {
   "cell_type": "code",
   "execution_count": 55,
   "metadata": {},
   "outputs": [
    {
     "data": {
      "image/png": "[encoded data removed]",
      "text/plain": [
       "<Figure size 1200x500 with 1 Axes>"
      ]
     },
     "metadata": {},
     "output_type": "display_data"
    }
   ],
   "source": [
    "frequency_list_ranked = sorted(frequency_list.items(), key=lambda item: (item[1], item[0]), reverse=True)\n",
    "counts = [count for token, count in frequency_list_ranked]\n",
    "\n",
    "plt.figure(figsize=(12,5))\n",
    "plt.plot(counts)\n",
    "plt.yscale(\"log\")"
   ]
  },
  {
   "cell_type": "markdown",
   "metadata": {},
   "source": [
    "## 8. Install Morfeusz (Binding dla Pythona) and use it to find all words that do not appear in that dictionary.\n",
    "\n",
    "I'm instantiating Morfeusz with `agglutination` option set to `isolated` because I will be analysing text previously segmented by SpaCy."
   ]
  },
  {
   "cell_type": "code",
   "execution_count": 130,
   "metadata": {},
   "outputs": [],
   "source": [
    "import morfeusz2\n",
    "\n",
    "morf = morfeusz2.Morfeusz(aggl=\"isolated\")"
   ]
  },
  {
   "cell_type": "markdown",
   "metadata": {},
   "source": [
    "I'm using `analyse` method to determine proposed tags for every word and then I treat words tagged with `ign` (ignored) as not present in the dictionary."
   ]
  },
  {
   "cell_type": "code",
   "execution_count": 132,
   "metadata": {},
   "outputs": [
    {
     "data": {
      "text/plain": [
       "[(0, 1, ('Abcd', 'Abcd', 'ign', [], [])),\n",
       " (1, 2, ('znalazł', 'znaleźć', 'praet:sg:m1.m2.m3:perf', [], [])),\n",
       " (2, 3, ('się', 'się', 'part', [], [])),\n",
       " (3, 4, ('.', '.', 'interp', [], []))]"
      ]
     },
     "execution_count": 132,
     "metadata": {},
     "output_type": "execute_result"
    }
   ],
   "source": [
    "morf.analyse(\"Abcd znalazł się.\")"
   ]
  },
  {
   "cell_type": "code",
   "execution_count": 133,
   "metadata": {},
   "outputs": [],
   "source": [
    "def is_unknown(word: str) -> bool:\n",
    "    n1, n2, (word, base, tag, _, _) = morf.analyse(word)[0]\n",
    "    return tag == \"ign\"\n",
    "\n",
    "words_unknown = [\n",
    "    (word, count)\n",
    "    for (word, count) in frequency_list.items()\n",
    "    if is_unknown(word=word)\n",
    "]"
   ]
  },
  {
   "cell_type": "code",
   "execution_count": 137,
   "metadata": {},
   "outputs": [
    {
     "data": {
      "text/plain": [
       "[('późn', 1065),\n",
       " ('msv', 4),\n",
       " ('denodimo', 2),\n",
       " ('ustanowiewniu', 1),\n",
       " ('sust', 1),\n",
       " ('uzależnion', 1),\n",
       " ('nektarowania', 1),\n",
       " ('ism', 1),\n",
       " ('fenyloaminopropylo', 1)]"
      ]
     },
     "execution_count": 137,
     "metadata": {},
     "output_type": "execute_result"
    }
   ],
   "source": [
    "words_unknown = sorted(words_unknown, key=lambda item: item[1], reverse=True)\n",
    "\n",
    "words_unknown[::300]"
   ]
  },
  {
   "cell_type": "markdown",
   "metadata": {},
   "source": [
    "## 9. Find 30 words with the highest ranks that do not belong to the dictionary."
   ]
  },
  {
   "cell_type": "code",
   "execution_count": 231,
   "metadata": {},
   "outputs": [
    {
     "data": {
      "text/plain": [
       "[('późn', 1065),\n",
       " ('gmo', 298),\n",
       " ('sww', 216),\n",
       " ('skw', 196),\n",
       " ('ex', 167),\n",
       " ('ike', 162),\n",
       " ('remediacji', 120),\n",
       " ('ure', 103),\n",
       " ('uke', 97),\n",
       " ('kn', 95),\n",
       " ('cn', 83),\n",
       " ('pkwiu', 81),\n",
       " ('udt', 77),\n",
       " ('bswsg', 70),\n",
       " ('bswp', 66),\n",
       " ('biobójczych', 63),\n",
       " ('phs', 53),\n",
       " ('hcfc', 44),\n",
       " ('fep', 42),\n",
       " ('mgo', 41),\n",
       " ('utk', 40),\n",
       " ('frd', 36),\n",
       " ('ron', 35),\n",
       " ('uokik', 35),\n",
       " ('doke', 34),\n",
       " ('cbśp', 34),\n",
       " ('pcn', 32),\n",
       " ('vitro', 32),\n",
       " ('haccp', 32),\n",
       " ('iia', 31)]"
      ]
     },
     "execution_count": 231,
     "metadata": {},
     "output_type": "execute_result"
    }
   ],
   "source": [
    "words_unknown_most = words_unknown[:30]\n",
    "words_unknown_most"
   ]
  },
  {
   "cell_type": "markdown",
   "metadata": {},
   "source": [
    "## 10. Find 30 random words (i.e. shuffle the words) with 5 occurrences that do not belong to the dictionary."
   ]
  },
  {
   "cell_type": "code",
   "execution_count": 145,
   "metadata": {},
   "outputs": [
    {
     "data": {
      "text/plain": [
       "[('wapnio', 5),\n",
       " ('instrumen', 5),\n",
       " ('vista', 5),\n",
       " ('próbobiorców', 5),\n",
       " ('rci', 5),\n",
       " ('betezda', 5),\n",
       " ('swine', 5),\n",
       " ('contagious', 5),\n",
       " ('teryto', 5),\n",
       " ('rialnego', 5),\n",
       " ('szcze', 5),\n",
       " ('jed', 5),\n",
       " ('tów', 5),\n",
       " ('agave', 5),\n",
       " ('inci', 5),\n",
       " ('nym', 5),\n",
       " ('denitracyjne', 5),\n",
       " ('odgazowywacze', 5),\n",
       " ('rr', 5),\n",
       " ('cznika', 5),\n",
       " ('zawart', 5),\n",
       " ('ośc', 5),\n",
       " ('ami', 5),\n",
       " ('ym', 5),\n",
       " ('organicz', 5),\n",
       " ('chelatującym', 5),\n",
       " ('najmnie', 5),\n",
       " ('urt', 5),\n",
       " ('kpwig', 5),\n",
       " ('gj', 5)]"
      ]
     },
     "execution_count": 145,
     "metadata": {},
     "output_type": "execute_result"
    }
   ],
   "source": [
    "words_unknown_5 = [(word, count) for word, count in words_unknown if count == 5][:30]\n",
    "words_unknown_5"
   ]
  },
  {
   "cell_type": "markdown",
   "metadata": {},
   "source": [
    "## 11. Use Levenshtein distance and the frequency list, to determine the most probable correction of the words from lists defined in points 8 and 9. (Note: You don't have to apply the distance directly. Any method that is more efficient than scanning the dictionary will be appreciated.)\n",
    "\n",
    "I'm using Levenshtein automaton to effectively find corrections. It is doing up to 2 edits."
   ]
  },
  {
   "cell_type": "code",
   "execution_count": 209,
   "metadata": {},
   "outputs": [],
   "source": [
    "KNOWN_WORDS = {\n",
    "    word: count \n",
    "    for word, count in frequency_list.items()\n",
    "    if not is_unknown(word)\n",
    "}\n",
    "\n",
    "def rank(word: str) -> int:\n",
    "    \"\"\"Rank of `word`.\"\"\"\n",
    "    return KNOWN_WORDS[word]\n",
    "\n",
    "def corrections(word: str, n: int = 1, d: int = 1) -> str:\n",
    "    \"Returns `n` most ranked spelling corrections for word with Lavenhstein distance not greater than `d`.\"\n",
    "    return sorted(candidates(word=word, d=d), key=rank)[:n]\n",
    "\n",
    "def candidates(word:str, d: int) -> set: \n",
    "    \"Generate all possible spelling corrections with Lavenhstein distance not greater than `d`.\"\n",
    "    candidates = {word}\n",
    "    for i in range(d):\n",
    "        edits = (edits_one(c) for c in candidates)\n",
    "        candidates = candidates.union(*edits)\n",
    "    return known(candidates)\n",
    "\n",
    "def known(words) -> set: \n",
    "    \"The subset of `words` that appear in the dictionary of KNOWN_WORDS.\"\n",
    "    return set(w for w in words if w in KNOWN_WORDS)\n",
    "\n",
    "def edits_one(word: str) -> set:\n",
    "    \"All edits that are one edit away from `word` (in polish language).\"\n",
    "    letters    = 'aąbcćdeęfghijklłmnoópqrsśtuvwxyz'\n",
    "    splits     = [(word[:i], word[i:])    for i in range(len(word) + 1)]\n",
    "    deletes    = [L + R[1:]               for L, R in splits if R]\n",
    "    transposes = [L + R[1] + R[0] + R[2:] for L, R in splits if len(R)>1]\n",
    "    replaces   = [L + c + R[1:]           for L, R in splits if R for c in letters]\n",
    "    inserts    = [L + c + R               for L, R in splits for c in letters]\n",
    "    return set(deletes + transposes + replaces + inserts)"
   ]
  },
  {
   "cell_type": "code",
   "execution_count": 211,
   "metadata": {},
   "outputs": [
    {
     "data": {
      "text/plain": [
       "['konstytucję', 'konstytucja', 'konstrukcja', 'konstytucją', 'konstytucji']"
      ]
     },
     "execution_count": 211,
     "metadata": {},
     "output_type": "execute_result"
    }
   ],
   "source": [
    "corrections(\"konsttucja\", d=2, n=5)"
   ]
  },
  {
   "cell_type": "markdown",
   "metadata": {},
   "source": [
    "I've found that searching for corrections with Lavenhstein distance greater than 2 takes a lot of computational time, so I decided to limit it to two possible edits.\n",
    "\n",
    "Corrections for list defined in point 9:"
   ]
  },
  {
   "cell_type": "code",
   "execution_count": 232,
   "metadata": {},
   "outputs": [
    {
     "name": "stdout",
     "output_type": "stream",
     "text": [
      "Word: późn        [count: 1065] -> corrections: paź, płyn, pn, pół, pln\n",
      "Word: gmo         [count:  298] -> corrections: who, ho, mk, dma, ghz\n",
      "Word: sww         [count:  216] -> corrections: ws, sie, spp, łów, ow\n",
      "Word: skw         [count:  196] -> corrections: mk, skal, ow, sg, stp\n",
      "Word: ex          [count:  167] -> corrections: at, mem, mk, ow, sg\n",
      "Word: ike         [count:  162] -> corrections: mk, wek, ilo, pte, iłu\n",
      "Word: remediacji  [count:  120] -> corrections: mediacji\n",
      "Word: ure         [count:  103] -> corrections: turą, ar, turę, hurt, pte\n",
      "Word: uke         [count:   97] -> corrections: sie, uli, mk, umie, uw\n",
      "Word: kn          [count:   95] -> corrections: kal, at, mk, ow, fan\n",
      "Word: cn          [count:   83] -> corrections: at, mk, ow, fan, ocz\n",
      "Word: pkwiu       [count:   81] -> corrections: piwie, kwitu\n",
      "Word: udt         [count:   77] -> corrections: et, at, usta, ddt, itd\n",
      "Word: bswsg       [count:   70] -> corrections: \n",
      "Word: bswp        [count:   66] -> corrections: stp, spp, wp, bse, brwi\n",
      "Word: biobójczych [count:   63] -> corrections: \n",
      "Word: phs         [count:   53] -> corrections: who, ws, pub, ho, rys\n",
      "Word: hcfc        [count:   44] -> corrections: cyc, chcąc, hufce, cfc\n",
      "Word: fep         [count:   42] -> corrections: et, nap, spp, del, mem\n",
      "Word: mgo         [count:   41] -> corrections: mem, mk, mid, sg, maga\n",
      "Word: utk         [count:   40] -> corrections: et, at, usta, itd, nuty\n",
      "Word: frd         [count:   36] -> corrections: ar, lód, itd, ład, mid\n",
      "Word: ron         [count:   35] -> corrections: proc, rol, ow, fan, ról\n",
      "Word: uokik       [count:   35] -> corrections: boki, doki, koki, soki\n",
      "Word: doke        [count:   34] -> corrections: dob, boki, koka, dokąd, dorę\n",
      "Word: cbśp        [count:   34] -> corrections: coś, cba, bhp, nbp\n",
      "Word: pcn         [count:   32] -> corrections: fan, ocz, płyn, pęt, scen\n",
      "Word: vitro       [count:   32] -> corrections: nitro, litry, veto, mikro, litra\n",
      "Word: haccp       [count:   32] -> corrections: \n",
      "Word: iia         [count:   31] -> corrections: mid, dma, cha, nic, ata\n"
     ]
    }
   ],
   "source": [
    "for word, count in words_unknown_most:\n",
    "    corrs = corrections(word=word, d=2, n=5)\n",
    "    corrs_str = \", \".join(corrs)\n",
    "    print(f\"Word: {word: <11} [count: {count: >4}] -> corrections: {corrs_str}\")"
   ]
  },
  {
   "cell_type": "markdown",
   "metadata": {},
   "source": [
    "Corrections for list defined in point 10:"
   ]
  },
  {
   "cell_type": "code",
   "execution_count": 233,
   "metadata": {},
   "outputs": [
    {
     "name": "stdout",
     "output_type": "stream",
     "text": [
      "Word: wapnio        -> corrections: wapni, walnie, waniu, wanie, wapniowe\n",
      "Word: instrumen     -> corrections: instrument, instrumentu, instrumenty\n",
      "Word: vista         -> corrections: dosta, usta, cięta, niska, pusta\n",
      "Word: próbobiorców  -> corrections: \n",
      "Word: rci           -> corrections: rol, ocz, ról, eli, nic\n",
      "Word: betezda       -> corrections: \n",
      "Word: swine         -> corrections: sie, sile, śwince, sanie, zwie\n",
      "Word: contagious    -> corrections: \n",
      "Word: teryto        -> corrections: tery\n",
      "Word: rialnego      -> corrections: ratalnego, finalnego, pilnego, realnego, zdalnego\n",
      "Word: szcze         -> corrections: moszcze, szczuje, szczyt, szczerą, szcza\n",
      "Word: jed           -> corrections: mem, mid, wek, ef, et\n",
      "Word: tów           -> corrections: ow, kitów, ról, stój, tęp\n",
      "Word: agave         -> corrections: agar, agape\n",
      "Word: inci          -> corrections: nicz, winni, nfi, nic, pni\n",
      "Word: nym           -> corrections: nap, rys, mem, nów, nysa\n",
      "Word: denitracyjne  -> corrections: \n",
      "Word: odgazowywacze -> corrections: \n",
      "Word: rr            -> corrections: at, mk, rol, ow, sg\n",
      "Word: cznika        -> corrections: czytnika, znika, ocznika, licznika, rocznika\n",
      "Word: zawart        -> corrections: zwarta, zawory, wart, zawarło, zwarty\n",
      "Word: ośc           -> corrections: mości, cyc, ora, ow, ocz\n",
      "Word: ami           -> corrections: at, mk, mid, dma, tamy\n",
      "Word: ym            -> corrections: at, mem, mk, dma, ow\n",
      "Word: organicz      -> corrections: organiczna, ograniczą, organiczny, organiczno, organizm\n",
      "Word: chelatującym  -> corrections: \n",
      "Word: najmnie       -> corrections: zajmie, najmie, nadanie, najmniej\n",
      "Word: urt           -> corrections: at, turą, pęt, et, ar\n",
      "Word: kpwig         -> corrections: krwi\n",
      "Word: gj            -> corrections: at, mk, ow, sg, lz\n"
     ]
    }
   ],
   "source": [
    "for word, count in words_unknown_5:\n",
    "    corrs = corrections(word=word, d=2, n=5)\n",
    "    corrs_str = \", \".join(corrs)\n",
    "    print(f\"Word: {word: <13} -> corrections: {corrs_str}\")"
   ]
  },
  {
   "cell_type": "markdown",
   "metadata": {},
   "source": [
    "## 12. Load SGJP dictionary (Słownik SGJP dane tekstowe) to ElasticSearch (one document for each form) and use fuzzy matching to obtain the possible corrections of the 30 words with 5 occurrences that do not belong to the dictionary."
   ]
  },
  {
   "cell_type": "code",
   "execution_count": 240,
   "metadata": {},
   "outputs": [],
   "source": [
    "# helper function\n",
    "def pprint(response: requests.Response | dict | list):\n",
    "    if isinstance(response, requests.Response):\n",
    "        response = response.json()\n",
    "    print(json.dumps(response, indent=4, ensure_ascii=False))"
   ]
  },
  {
   "cell_type": "markdown",
   "metadata": {},
   "source": [
    "Connecting to Elasticsearch."
   ]
  },
  {
   "cell_type": "code",
   "execution_count": 249,
   "metadata": {},
   "outputs": [],
   "source": [
    "from elasticsearch import Elasticsearch\n",
    "from elasticsearch.helpers import parallel_bulk"
   ]
  },
  {
   "cell_type": "code",
   "execution_count": 241,
   "metadata": {},
   "outputs": [],
   "source": [
    "es_url = \"http://localhost:9200\""
   ]
  },
  {
   "cell_type": "code",
   "execution_count": 252,
   "metadata": {},
   "outputs": [
    {
     "name": "stdout",
     "output_type": "stream",
     "text": [
      "{\n",
      "    \"name\": \"b40d2515d547\",\n",
      "    \"cluster_name\": \"docker-cluster\",\n",
      "    \"cluster_uuid\": \"U5o6JseNQMWv_ouTF8lKYA\",\n",
      "    \"version\": {\n",
      "        \"number\": \"8.4.3\",\n",
      "        \"build_flavor\": \"default\",\n",
      "        \"build_type\": \"docker\",\n",
      "        \"build_hash\": \"42f05b9372a9a4a470db3b52817899b99a76ee73\",\n",
      "        \"build_date\": \"2022-10-04T07:17:24.662462378Z\",\n",
      "        \"build_snapshot\": false,\n",
      "        \"lucene_version\": \"9.3.0\",\n",
      "        \"minimum_wire_compatibility_version\": \"7.17.0\",\n",
      "        \"minimum_index_compatibility_version\": \"7.0.0\"\n",
      "    },\n",
      "    \"tagline\": \"You Know, for Search\"\n",
      "}\n"
     ]
    }
   ],
   "source": [
    "es = Elasticsearch(es_url)\n",
    "\n",
    "pprint(es.info().body)"
   ]
  },
  {
   "cell_type": "markdown",
   "metadata": {},
   "source": [
    "Creating new index."
   ]
  },
  {
   "cell_type": "code",
   "execution_count": 253,
   "metadata": {},
   "outputs": [
    {
     "name": "stdout",
     "output_type": "stream",
     "text": [
      "{\n",
      "    \"acknowledged\": true,\n",
      "    \"shards_acknowledged\": true,\n",
      "    \"index\": \"words\"\n",
      "}\n"
     ]
    }
   ],
   "source": [
    "response = es.indices.create(\n",
    "    index=\"words\", \n",
    "    mappings={\n",
    "        \"properties\": {\n",
    "            \"content\": {\n",
    "                \"type\": \"text\",\n",
    "                \"analyzer\": \"keyword\"\n",
    "            }\n",
    "        }\n",
    "    }\n",
    ").body\n",
    "\n",
    "pprint(response)"
   ]
  },
  {
   "cell_type": "markdown",
   "metadata": {},
   "source": [
    "Indexing dictionary words."
   ]
  },
  {
   "cell_type": "code",
   "execution_count": 258,
   "metadata": {},
   "outputs": [],
   "source": [
    "lines = Path(\"../data/sgjp.tab\").read_text(encoding=\"utf8\").split(\"\\n\")[:-1]"
   ]
  },
  {
   "cell_type": "code",
   "execution_count": 259,
   "metadata": {},
   "outputs": [],
   "source": [
    "def gen_actions():\n",
    "    index_name = \"words\"\n",
    "    for i, line in enumerate(lines):\n",
    "        word, base, tag, _, _ = line.split(\"\\t\")\n",
    "        doc = {\n",
    "            '_op_type': 'create',\n",
    "            '_index': index_name,\n",
    "            '_id': i,\n",
    "            'content': word\n",
    "        }\n",
    "        yield doc"
   ]
  },
  {
   "cell_type": "code",
   "execution_count": 260,
   "metadata": {},
   "outputs": [
    {
     "name": "stderr",
     "output_type": "stream",
     "text": []
    }
   ],
   "source": [
    "progress = tqdm.tqdm(desc=\"Indexing words\", total=len(lines))\n",
    "\n",
    "for ok, action in parallel_bulk(client=es, actions=gen_actions()):\n",
    "    progress.update(1)"
   ]
  },
  {
   "cell_type": "markdown",
   "metadata": {},
   "source": [
    "## 13. Compare the results of your algorithm and output of ES.\n",
    "\n",
    "For list defined in pint 9:"
   ]
  },
  {
   "cell_type": "code",
   "execution_count": 273,
   "metadata": {},
   "outputs": [
    {
     "name": "stdout",
     "output_type": "stream",
     "text": [
      "Word: późn        -> corrections: późni, późno, późna, późna, późne, późne, późne, późne, późni, późno\n",
      "Word: gmo         -> corrections: dmo, emo, emo, emo, emo, emo, emo, emo, emo, emo\n",
      "Word: sww         -> corrections: siw, sów, suw, swa, swe, swe, swe, swe, swą, swą\n",
      "Word: skw         -> corrections: sakw, siw, ska, ski, sków, sów, suw, kw, Lów, Lew\n",
      "Word: ex          -> corrections: Rex, em, eś, ee, ef, ef, eh, ej, el, em\n",
      "Word: ike         -> corrections: Mike, Mike, Mike, Nike, Mike, ile, ile, ile, ile, ile\n",
      "Word: remediacji  -> corrections: repudiacji, repudiacji, repudiacji, remediach, remediami, mediacji, mediacji, mediacji\n",
      "Word: ure         -> corrections: Sure, bure, bure, bure, bure, Bure, Bure, źre, użre, uje\n",
      "Word: uke         -> corrections: uje, ule, Ale, Ale, Age, Ale, Ale, Bek, Bek, Buce\n",
      "Word: kn          -> corrections: on, on, on, ka, kan, kb, ka, ki, kin, ku\n",
      "Word: cn          -> corrections: ce, cen, ck, ck, ck, ck, ck, ck, ck, ck\n",
      "Word: pkwiu       -> corrections: pawiu, pawiu, pawiu, pawiu, Skwir, Akwil, Akwilu, Akwin, Akwinu, nowiu\n",
      "Word: udt         -> corrections: udu, udy, uda, uda, uda, udo, udu, ust, Jdt, ust\n",
      "Word: bswsg       -> corrections: bywsi\n",
      "Word: bswp        -> corrections: Osip, Osip, Osip, bawi, biwa, brwi, brwi, brwi, brwi, brwi\n",
      "Word: biobójczych -> corrections: \n",
      "Word: phs         -> corrections: pas, pas, pas, pas, phi, phi, phu, phy, pąs, ps\n",
      "Word: hcfc        -> corrections: Ocic, chcic, chcąc, hafu, hafy, hafn, haft, harc, hufu, hufy\n",
      "Word: fep         -> corrections: Lep, Lep, Lep, Rep, Wep, cep, cep, Cep, Cep, Dep\n",
      "Word: mgo         -> corrections: ago, ago, Ago, Igo, mego, mgr, mgło, mgło, mgło, ego\n",
      "Word: utk         -> corrections: tuk, tuk, utka, utok, utyk, ut, Ata, Ata, Atek, Atka\n",
      "Word: frd         -> corrections: Ord, Urd, ord, ford, frr, fru, Aid, And, Art, Art\n",
      "Word: ron         -> corrections: Mon, Pon, Wron, Wron, bon, bon, Aron, Bon, Bon, Bon\n",
      "Word: uokik       -> corrections: Mokij, Mokin, Moksik, Moksik, Molik, Molik, Monik, Monik, Monik, Nobik\n",
      "Word: doke        -> corrections: doki, doku, doku, doku, doker, doje, dole, doże, doje, dole\n",
      "Word: cbśp        -> corrections: chap, chap, chip, chip, ciap, ciap, ciap, ciup, ciup, ciup\n",
      "Word: pcn         -> corrections: pan, pin, pun, dcn, płn, pn, pn, pn, Kun, Kun\n",
      "Word: vitro       -> corrections: Pitro, Pitro, nitro, litro, mitro, Kutro, Litero, Litero, Litko, Litko\n",
      "Word: haccp       -> corrections: hacce, Laccy, Macce, Paccy, Tacce, Tacce, Wacce, cacce, caccy, Cacce\n",
      "Word: iia         -> corrections: Pia, iwa, iła, iła, iii, ima, kia, sia, via, ii\n"
     ]
    }
   ],
   "source": [
    "for word, count in words_unknown_most:\n",
    "    response = requests.get(\n",
    "        url=f\"{es_url}/words/_search\",\n",
    "        json={\n",
    "            \"query\": {\n",
    "                \"match\": {\n",
    "                    \"content\": {\n",
    "                        \"query\": word,\n",
    "                        \"fuzziness\": 2\n",
    "                    }\n",
    "                }\n",
    "            }\n",
    "        }\n",
    "    ).json()\n",
    "    corrs = [hit[\"_source\"][\"content\"] for hit in response[\"hits\"][\"hits\"]]\n",
    "    corrs_str = \", \".join(corrs)\n",
    "    print(f\"Word: {word: <11} -> corrections: {corrs_str}\")\n",
    "    "
   ]
  },
  {
   "cell_type": "markdown",
   "metadata": {},
   "source": [
    "For list defined in pint 10:"
   ]
  },
  {
   "cell_type": "code",
   "execution_count": 274,
   "metadata": {},
   "outputs": [
    {
     "name": "stdout",
     "output_type": "stream",
     "text": [
      "Word: wapnio        -> corrections: wapnic, wapnico, wapnij, wapnią, wapnić, wapnię, wapnił, wapnił, wapniło, wapniło\n",
      "Word: instrumen     -> corrections: instrument, instrumentu, instrumenty\n",
      "Word: vista         -> corrections: lista, wista, visa, Liska, Liska, Lisna, Lisna, Lissa, Listka, Liszta\n",
      "Word: próbobiorców  -> corrections: pracobiorców, prądobiorców\n",
      "Word: rci           -> corrections: Irci, Irci, Irci, rai, rai, rai, rai, rai, rai, raci\n",
      "Word: betezda       -> corrections: etezja\n",
      "Word: swine         -> corrections: swing, swing, swing, swing, sine, sine, sine, sine, Kwice, Kwice\n",
      "Word: contagious    -> corrections: \n",
      "Word: teryto        -> corrections: teryno, Moryto, Moryto, Moryto, Pereto, Pereto, Perygo, Perygo, Peryta, Wereto\n",
      "Word: rialnego      -> corrections: realnego, realnego, Piasnego, Skalnego, analnego, analnego, arealnego, arealnego, atrialnego, atrialnego\n",
      "Word: szcze         -> corrections: czcze, czcze, czcze, czcze, sucze, sucze, sicze, sucze, sucze, sucze\n",
      "Word: jed           -> corrections: Led, Ped, Red, Red, Ted, Wed, Bed, Ded, Hed, Wed\n",
      "Word: tów           -> corrections: Lów, Otów, Rów, Sów, Sów, atów, nów, mów, mów, rów\n",
      "Word: agave         -> corrections: agape, Magaje, Nagaje, Sagale, Sagale, Zagaje, Zagaje, Zagaje, Zagaje, Zagaje\n",
      "Word: inci          -> corrections: Vinci, Vinci, nici, nici, nici, nici, nici, imci, imci, imci\n",
      "Word: nym           -> corrections: Sym, Tym, Zym, Zym, cnym, cnym, cym, cym, Cym, Dym\n",
      "Word: denitracyjne  -> corrections: defibracyjne, defibracyjne, defibracyjne, defibracyjne, penetracyjne, penetracyjne, penetracyjne, penetracyjne, denotacyjne, denotacyjne\n",
      "Word: odgazowywacze -> corrections: odgazowywanie, odgazowywane, odgazowywane\n",
      "Word: rr            -> corrections: Ur, ar, ar, brr, Ir, nr, prr, re, ro, rh\n",
      "Word: cznika        -> corrections: cynika, ocznika, cznia, znika, Lenika, Monika, Monika, Munika, Mącznika, Mącznika\n",
      "Word: zawart        -> corrections: Gawart, Gawart, zawarta, zawarte, zawarte, zawarto, zawarty, zawarć, zawarz, zawarty\n",
      "Word: ośc           -> corrections: ośca, ośce, oścu, oścu, ośm, ośce, ości, ości, ości, ości\n",
      "Word: ami           -> corrections: Lami, agi, agi, agi, agi, ali, amia, amie, amii, amii\n",
      "Word: ym            -> corrections: Sym, Tym, Zym, Zym, em, cym, cym, Cym, Dym, Dym\n",
      "Word: organicz      -> corrections: ogranicz, organicy, odgranicz, ogranicza, ograniczy, ograniczą, ograniczę, organach, organach, organach\n",
      "Word: chelatującym  -> corrections: nielatującym, nielatującym, nielatującym, nielatującym, chatującym, chatującym\n",
      "Word: najmnie       -> corrections: najemnie, najmniej, najmniej, najmniej, najmie, najmie, najmie, Najmanie, Najmanie, Rajmanie\n",
      "Word: urt           -> corrections: Kurt, Kurt, Kurt, burt, burt, Art, Art, Purt, nurt, jurt\n",
      "Word: kpwig         -> corrections: Dźwig, Dźwig, Hewig, Hewig, kawin, kawie, kpowi, kpowie, kpowi, krwie\n",
      "Word: gj            -> corrections: aj, oj, go, go, go, ej, gaj, gaj, gaj, gej\n"
     ]
    }
   ],
   "source": [
    "for word, count in words_unknown_5:\n",
    "    response = requests.get(\n",
    "        url=f\"{es_url}/words/_search\",\n",
    "        json={\n",
    "            \"query\": {\n",
    "                \"match\": {\n",
    "                    \"content\": {\n",
    "                        \"query\": word,\n",
    "                        \"fuzziness\": 2\n",
    "                    }\n",
    "                }\n",
    "            }\n",
    "        }\n",
    "    ).json()\n",
    "    corrs = [hit[\"_source\"][\"content\"] for hit in response[\"hits\"][\"hits\"]]\n",
    "    corrs_str = \", \".join(corrs)\n",
    "    print(f\"Word: {word: <13} -> corrections: {corrs_str}\")"
   ]
  },
  {
   "cell_type": "markdown",
   "metadata": {},
   "source": [
    "## 14. Draw conclusions regarding:\n",
    "\n",
    "### The distribution of words in the corpus.\n",
    "The corpus contains words in limited forms because of the nature of formal acts. Words with most occurences are redactional units, which is not suprising. \n",
    "\n",
    "### The number of true misspellings vs. the number of unknown words.\n",
    "Within 30 unknown words with the most occurrences appear words that do not exist (eq. `biobójczych`), words that are hardly identifiable as a misspelled, but rather an abbreviation (eq. `kn`, `cn`), words that are probably a splitted word (eq. `vitro`, `późn`). Misspellings can also be found in the other list. Words such as `najmnie` or `instrumen` are probably misspelled `najmniej` and `instrument`. In this list splitted words can be found as well: `cznika`, `teryto`, `rialnego`. Unknown word can be english word used in the polish corpus, such as `contagious`.\n",
    "\n",
    "### The performance of your method compared to ElasitcSearch.\n",
    "Elasticsearch outperfored my automaton method in case of time. It was almost instantaneous, while my method took about 2s. This is because ES uses indexed data and clever searching, while my method creates every possible word in a given Levenshtein distance.\n",
    "\n",
    "### The results provided by your method compared to ElasticSearch. The validity of the obtained corrections.\n",
    "ES results contain more general corrections, because it used every word from PJN dictionary. My method creates a word base from provided corpus which, for obvious reasons, does not contain so many different words.\n",
    "\n",
    "ES results are much more general and universal. But my method returns corrections that are most probable given the corpus as a word base.\n",
    "\n",
    "Examples:\n",
    "* `najmnie`: my method proposed `zajmie`, `najmnie`, `zadanie` and `najmniej`, ES proposed words such as `Najmanie` or `Rajmanie` which are not likely to be correct,\n",
    "* `próbobiorców`: my method found nothing, ES proposed `pracobiorców`, `prądobiorców`."
   ]
  }
 ],
 "metadata": {
  "kernelspec": {
   "display_name": "Python 3.10.8 ('ds')",
   "language": "python",
   "name": "python3"
  },
  "language_info": {
   "codemirror_mode": {
    "name": "ipython",
    "version": 3
   },
   "file_extension": ".py",
   "mimetype": "text/x-python",
   "name": "python",
   "nbconvert_exporter": "python",
   "pygments_lexer": "ipython3",
   "version": "3.10.8 (tags/v3.10.8:aaaf517, Oct 11 2022, 16:50:30) [MSC v.1933 64 bit (AMD64)]"
  },
  "orig_nbformat": 4,
  "vscode": {
   "interpreter": {
    "hash": "2886749ed11b87e200011d0e8b34479c2c945318db21e04a15735afb52256eb9"
   }
  }
 },
 "nbformat": 4,
 "nbformat_minor": 2
}
