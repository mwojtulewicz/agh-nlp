{
 "cells": [
  {
   "cell_type": "code",
   "execution_count": 1,
   "metadata": {},
   "outputs": [],
   "source": [
    "import regex\n",
    "import matplotlib.pyplot as plt\n",
    "\n",
    "from pathlib import Path"
   ]
  },
  {
   "cell_type": "code",
   "execution_count": 2,
   "metadata": {},
   "outputs": [],
   "source": [
    "def find_matches(pattern: str, limit: int = None):\n",
    "    out = {}\n",
    "    for ustawa in list(Path(\"./ustawy/\").iterdir())[:limit]:\n",
    "        matches = regex.findall(pattern=pattern, string=ustawa.read_text(encoding=\"utf8\"))\n",
    "        out[ustawa.name] = matches\n",
    "    return out\n",
    "\n",
    "def count_matches(pattern: str, limit: int = None):\n",
    "    out = {}\n",
    "    for ustawa in list(Path(\"./ustawy/\").iterdir())[:limit]:\n",
    "        matches = regex.findall(pattern=pattern, string=ustawa.read_text(encoding=\"utf8\"))\n",
    "        out[ustawa.name] = len(matches)\n",
    "    return out"
   ]
  },
  {
   "cell_type": "code",
   "execution_count": 43,
   "metadata": {},
   "outputs": [
    {
     "data": {
      "text/plain": [
       "['ust. 2a',\n",
       " 'ust. 2',\n",
       " 'ust. 3',\n",
       " 'ust. 1',\n",
       " 'art. 14',\n",
       " 'art. 7',\n",
       " 'ust. 1',\n",
       " 'art. 47',\n",
       " 'art. 21',\n",
       " 'pkt 2-4']"
      ]
     },
     "execution_count": 43,
     "metadata": {},
     "output_type": "execute_result"
    }
   ],
   "source": [
    "# Przydatny regex, dopasowujący wystąpienie jednostki redakcyjnej \n",
    "# artykuł, paragraf, ustęp, punkt, litera\n",
    "# wraz z zakresem (np. art. 1-3)\n",
    "# grupy są non-capturing, żeby regex nie zwracał krotek\n",
    "# dodany modyfikator case-insensitive\n",
    "\n",
    "jedn_regex = r\"(?i)(?:art\\. \\d+\\w*(?:-\\d+\\w*)*|§ \\d+(?:-\\d+)*|ust\\. \\d+\\w*(?:-\\d+\\w*)*|pkt \\d+\\w*(?:-\\d+\\w*)*|lit\\.\\w+\\)(?:-\\w+\\))*)\"\n",
    "\n",
    "find_matches(jedn_regex, 1)[\"1993_599.txt\"][33:43]"
   ]
  },
  {
   "cell_type": "markdown",
   "metadata": {},
   "source": [
    "### 1. Dla każdej ustawy policz wszystkie wystąpienie następujących nowelizacji:\n",
    "\n",
    "#### a. dodanie jednostki (e.g. dodaje się ust. 5a)\n",
    "\n",
    "Struktura:\n",
    "- na początku dodania występuje równoważnik zdania zawierający synonim \"dodaje się\" (składa się z liter, liczb, kropek, spacji, § - bo mogą być wypisane jednostki redakcyjne),\n",
    "- następnie określona jest dodawana jednostka redakcyjna (lub jednostki),\n",
    "- na końcu występuje \"w brzmieniu:\"."
   ]
  },
  {
   "cell_type": "code",
   "execution_count": 44,
   "metadata": {},
   "outputs": [
    {
     "data": {
      "text/plain": [
       "{'1993_599.txt': [' dodaje się ust. 2 w brzmieniu:',\n",
       "  ' po ust. 8 dodaje się ust. 8a w brzmieniu:',\n",
       "  ' po ust. 5 dodaje się ust. 5a w brzmieniu:',\n",
       "  ' po ust. 2 dodaje się ust. 2a w brzmieniu:',\n",
       "  ' w art. 20 po ust. 3 dodaje się ust. 4 i 5 w brzmieniu:',\n",
       "  ' po pkt 3 dodaje się pkt 4 w brzmieniu:',\n",
       "  ' po ust. 3 dodaje się ust. 4 w brzmieniu:',\n",
       "  ' dodaje się ust. 5 w brzmieniu:',\n",
       "  ' po pkt 3 dodaje się pkt 4 i 5 w brzmieniu:',\n",
       "  ' dodaje się ust. 3 w brzmieniu:'],\n",
       " '1993_602.txt': [' po ust. 3a dodaje się ust. 3b i 3c w brzmieniu:']}"
      ]
     },
     "execution_count": 44,
     "metadata": {},
     "output_type": "execute_result"
    }
   ],
   "source": [
    "r1a = fr\"(?i)[\\w\\d\\.§ ]+{jedn_regex}(?: i {jedn_regex}| i \\d+\\w*)? w brzmieniu:\"\n",
    "\n",
    "find_matches(pattern=r1a, limit=2)"
   ]
  },
  {
   "cell_type": "markdown",
   "metadata": {},
   "source": [
    "#### b. usunięcie jednostki (np. w art. 10 ust. 1 pkt 8 skreśla się)\n",
    "\n",
    "Struktura:\n",
    "- w skreśleniu występuje \"skreśla się\",\n",
    "- następnie występuje usuwana jednostka redakcyjna.\n",
    "\n",
    "Nie chcemy wykryć usunięcia czegoś innego niż jednostki redakcyjnej (np. wyrazy)."
   ]
  },
  {
   "cell_type": "code",
   "execution_count": 45,
   "metadata": {},
   "outputs": [
    {
     "data": {
      "text/plain": [
       "{'1993_599.txt': ['skreśla się art. 22'],\n",
       " '1993_602.txt': [],\n",
       " '1993_645.txt': [],\n",
       " '1993_646.txt': ['skreśla się ust. 6',\n",
       "  'skreśla się lit.c)',\n",
       "  'skreśla się ust. 2',\n",
       "  'skreśla się pkt 1']}"
      ]
     },
     "execution_count": 45,
     "metadata": {},
     "output_type": "execute_result"
    }
   ],
   "source": [
    "r1b = fr\"(?i)skreśla się {jedn_regex}\"\n",
    "\n",
    "find_matches(pattern=r1b, limit=4)"
   ]
  },
  {
   "cell_type": "markdown",
   "metadata": {},
   "source": [
    "#### c. zmianę jednostki (np. art. 5 otrzymuje brzmienie)\n",
    "\n",
    "Struktura:\n",
    "- zmiana jednostki zaczyna się od nazwy jednostki (lub jednostek),\n",
    "- następnie występuje \"otrzymuje/ą brzmienie:\"."
   ]
  },
  {
   "cell_type": "code",
   "execution_count": 46,
   "metadata": {},
   "outputs": [
    {
     "data": {
      "text/plain": [
       "{'1993_599.txt': ['ust. 4 otrzymuje brzmienie:',\n",
       "  'pkt 4 otrzymuje brzmienie:',\n",
       "  'ust. 3 otrzymuje brzmienie:',\n",
       "  'art. 14 otrzymuje brzmienie:',\n",
       "  'ust. 4 otrzymuje brzmienie:',\n",
       "  'ust. 3 otrzymuje brzmienie:',\n",
       "  'ust. 4 otrzymuje brzmienie:',\n",
       "  'ust. 6 otrzymuje brzmienie:',\n",
       "  'art. 23 otrzymuje brzmienie:',\n",
       "  'ust. 2 otrzymuje brzmienie:',\n",
       "  'pkt 1 i 2 otrzymują brzmienie:',\n",
       "  'ust. 4 otrzymuje brzmienie:',\n",
       "  'ust. 2 otrzymuje brzmienie:',\n",
       "  'art. 48 otrzymuje brzmienie:',\n",
       "  'pkt 2 otrzymuje brzmienie:',\n",
       "  'ust. 5 otrzymuje brzmienie:',\n",
       "  'art. 50 otrzymuje brzmienie:']}"
      ]
     },
     "execution_count": 46,
     "metadata": {},
     "output_type": "execute_result"
    }
   ],
   "source": [
    "r1c = fr\"(?i){jedn_regex}(?: i {jedn_regex}| i \\d+\\w*)? otrzymuj[eą] brzmienie:\"\n",
    "\n",
    "find_matches(pattern=r1c, limit=1)"
   ]
  },
  {
   "cell_type": "markdown",
   "metadata": {},
   "source": [
    "### 3. Pokaż na wykresie jak zmieniają się procenty typów nowelizacji z zadania 1. w kolejnych latach."
   ]
  },
  {
   "cell_type": "code",
   "execution_count": 47,
   "metadata": {},
   "outputs": [
    {
     "data": {
      "text/plain": [
       "{1993: [29, 5, 60],\n",
       " 1994: [86, 34, 172],\n",
       " 1995: [318, 82, 364],\n",
       " 1996: [402, 209, 880],\n",
       " 1997: [594, 271, 1052],\n",
       " 1998: [200, 78, 298],\n",
       " 1999: [140, 53, 163],\n",
       " 2000: [672, 307, 1475],\n",
       " 2001: [901, 255, 1329],\n",
       " 2002: [69, 1, 101],\n",
       " 2003: [746, 3, 1152],\n",
       " 2004: [719, 1, 1085]}"
      ]
     },
     "execution_count": 47,
     "metadata": {},
     "output_type": "execute_result"
    }
   ],
   "source": [
    "year_counts = {}\n",
    "\n",
    "for ustawa in Path(\"./ustawy/\").iterdir():\n",
    "    year = int(ustawa.stem.split(\"_\")[0])\n",
    "    text = ustawa.read_text(encoding=\"utf8\")\n",
    "    \n",
    "    counts = year_counts.get(year, [0,0,0])\n",
    "    \n",
    "    for i, pattern in enumerate([r1a, r1b, r1c]):\n",
    "        matches = regex.findall(pattern=pattern, string=text)\n",
    "        counts[i] += len(matches)\n",
    "    \n",
    "    year_counts[year] = counts\n",
    "\n",
    "year_counts"
   ]
  },
  {
   "cell_type": "code",
   "execution_count": 48,
   "metadata": {},
   "outputs": [],
   "source": [
    "year_perc = {}\n",
    "for year, counts in year_counts.items():\n",
    "    s = sum(counts)\n",
    "    percents = [n/s for n in counts]\n",
    "    year_perc[year] = percents"
   ]
  },
  {
   "cell_type": "code",
   "execution_count": 49,
   "metadata": {},
   "outputs": [],
   "source": [
    "additions = [p[0] for p in year_perc.values()]\n",
    "removals = [p[1] for p in year_perc.values()]\n",
    "changes = [p[2] for p in year_perc.values()]\n",
    "years = list(year_counts.keys())"
   ]
  },
  {
   "cell_type": "code",
   "execution_count": 50,
   "metadata": {},
   "outputs": [
    {
     "data": {
      "image/png": "[encoded data removed]",
      "text/plain": [
       "<Figure size 1000x400 with 1 Axes>"
      ]
     },
     "metadata": {},
     "output_type": "display_data"
    }
   ],
   "source": [
    "plt.figure(figsize=(10, 4))\n",
    "plt.plot(years, additions, \".-\", label=\"dodanie\")\n",
    "plt.plot(years, removals, \".-\", label=\"usunięcie\")\n",
    "plt.plot(years, changes, \".-\", label=\"zmiana\")\n",
    "plt.title(\"Procentowy udział typów nowelizacji w latach 1993-2004\")\n",
    "plt.xticks(years, years)\n",
    "plt.ylim(0, 1)\n",
    "plt.legend()\n",
    "plt.show()"
   ]
  },
  {
   "cell_type": "markdown",
   "metadata": {},
   "source": [
    "### 4. Policz liczbę wystąpień słowa ustawa w dowolnej formie fleksyjnej (ustawa, ustawie, itp.) i bez znaczenia na wielkość liter. Nie licz słów z tym samym prefiksem (np. ustawić).\n",
    "\n",
    "Konstrukcja regexa:\n",
    "- modyfikator case-insensitive,\n",
    "- początek wyrazu,\n",
    "- rdzeń \"ustaw\",\n",
    "- jeden z możliwych przyrostków (lub jego brak),\n",
    "- koniec wyrazu."
   ]
  },
  {
   "cell_type": "code",
   "execution_count": 37,
   "metadata": {},
   "outputs": [
    {
     "data": {
      "text/plain": [
       "{'1993_599.txt': ['USTAWA',\n",
       "  'ustawy',\n",
       "  'ustawie',\n",
       "  'ustawy',\n",
       "  'ustawy',\n",
       "  'ustawy',\n",
       "  'ustawy',\n",
       "  'ustawy',\n",
       "  'ustawy',\n",
       "  'ustawy',\n",
       "  'ustawą',\n",
       "  'Ustaw',\n",
       "  'ustawy',\n",
       "  'Ustawa',\n",
       "  'ustawy']}"
      ]
     },
     "execution_count": 37,
     "metadata": {},
     "output_type": "execute_result"
    }
   ],
   "source": [
    "r4 = r\"(?i)\\bustaw(?:a|y|ie|ę|ą|o|om|ami|ach|)\\b\"\n",
    "\n",
    "find_matches(pattern=r4, limit=1)"
   ]
  },
  {
   "cell_type": "code",
   "execution_count": 53,
   "metadata": {},
   "outputs": [
    {
     "data": {
      "text/plain": [
       "24934"
      ]
     },
     "execution_count": 53,
     "metadata": {},
     "output_type": "execute_result"
    }
   ],
   "source": [
    "out4 = sum(count_matches(pattern=r4).values())\n",
    "out4"
   ]
  },
  {
   "cell_type": "markdown",
   "metadata": {},
   "source": [
    "### 5. Jak wyżej, ale za którym występuje wyrażenie \"z dnia\"."
   ]
  },
  {
   "cell_type": "code",
   "execution_count": 54,
   "metadata": {},
   "outputs": [
    {
     "data": {
      "text/plain": [
       "6935"
      ]
     },
     "execution_count": 54,
     "metadata": {},
     "output_type": "execute_result"
    }
   ],
   "source": [
    "r5 = r\"(?i)\\bustaw(?:a|y|ie|ę|ą|o|om|ami|ach|)\\b z dnia\"\n",
    "\n",
    "out5 = sum(count_matches(pattern=r5).values())\n",
    "out5"
   ]
  },
  {
   "cell_type": "markdown",
   "metadata": {},
   "source": [
    "### 6. Jak wyżej, ale za którym nie występuje wyrażenie \"z dnia\"."
   ]
  },
  {
   "cell_type": "code",
   "execution_count": 56,
   "metadata": {},
   "outputs": [
    {
     "data": {
      "text/plain": [
       "17999"
      ]
     },
     "execution_count": 56,
     "metadata": {},
     "output_type": "execute_result"
    }
   ],
   "source": [
    "r6 = r\"(?i)\\bustaw(?:a|y|ie|ę|ą|o|om|ami|ach|)\\b(?! z dnia)\"\n",
    "\n",
    "out6 = sum(count_matches(pattern=r6).values())\n",
    "out6"
   ]
  },
  {
   "cell_type": "code",
   "execution_count": 58,
   "metadata": {},
   "outputs": [
    {
     "data": {
      "text/plain": [
       "True"
      ]
     },
     "execution_count": 58,
     "metadata": {},
     "output_type": "execute_result"
    }
   ],
   "source": [
    "out4 == out5 + out6"
   ]
  },
  {
   "cell_type": "markdown",
   "metadata": {},
   "source": [
    "### 7. Policz liczbę wystąpień słowa ustawa w dowolnej formie fleksyjnej, po którym nie występuje wyrażenie \"o zmianie\"."
   ]
  },
  {
   "cell_type": "code",
   "execution_count": 61,
   "metadata": {},
   "outputs": [
    {
     "data": {
      "text/plain": [
       "24168"
      ]
     },
     "execution_count": 61,
     "metadata": {},
     "output_type": "execute_result"
    }
   ],
   "source": [
    "r7 = r\"(?i)(?<!o zmianie )\\bustaw(?:a|y|ie|ę|ą|o|om|ami|ach|)\\b\"\n",
    "\n",
    "out7 = sum(count_matches(pattern=r7).values())\n",
    "out7"
   ]
  },
  {
   "cell_type": "markdown",
   "metadata": {},
   "source": [
    "### 8. Przedstaw wyniki z punktów 4-7 na wykresie słupkowym."
   ]
  },
  {
   "cell_type": "code",
   "execution_count": 68,
   "metadata": {},
   "outputs": [
    {
     "data": {
      "image/png": "[encoded data removed]",
      "text/plain": [
       "<Figure size 640x480 with 1 Axes>"
      ]
     },
     "metadata": {},
     "output_type": "display_data"
    }
   ],
   "source": [
    "plt.bar(range(4), [out4, out5, out6, out7])\n",
    "plt.xticks(range(4), [f\"zad.{n}\" for n in range(4, 8)])\n",
    "plt.show()"
   ]
  }
 ],
 "metadata": {
  "kernelspec": {
   "display_name": "Python 3.10.8 ('ds')",
   "language": "python",
   "name": "python3"
  },
  "language_info": {
   "codemirror_mode": {
    "name": "ipython",
    "version": 3
   },
   "file_extension": ".py",
   "mimetype": "text/x-python",
   "name": "python",
   "nbconvert_exporter": "python",
   "pygments_lexer": "ipython3",
   "version": "3.10.8"
  },
  "orig_nbformat": 4,
  "vscode": {
   "interpreter": {
    "hash": "2886749ed11b87e200011d0e8b34479c2c945318db21e04a15735afb52256eb9"
   }
  }
 },
 "nbformat": 4,
 "nbformat_minor": 2
}
