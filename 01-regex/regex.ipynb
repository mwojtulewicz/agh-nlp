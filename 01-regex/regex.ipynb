{
 "cells": [
  {
   "cell_type": "code",
   "execution_count": 35,
   "metadata": {},
   "outputs": [],
   "source": [
    "import regex\n",
    "\n",
    "from pathlib import Path"
   ]
  },
  {
   "cell_type": "code",
   "execution_count": 37,
   "metadata": {},
   "outputs": [],
   "source": [
    "def find_occurences(pattern: str, limit: int = None):\n",
    "    out = {}\n",
    "    for ustawa in list(Path(\"./ustawy/\").iterdir())[:limit]:\n",
    "        found = regex.findall(pattern=pattern, string=ustawa.read_text(encoding=\"utf8\"))\n",
    "        out[ustawa.name] = found\n",
    "    return out"
   ]
  },
  {
   "cell_type": "code",
   "execution_count": 73,
   "metadata": {},
   "outputs": [
    {
     "data": {
      "text/plain": [
       "['ust. 2a',\n",
       " 'ust. 2',\n",
       " 'ust. 3',\n",
       " 'ust. 1',\n",
       " 'art. 14',\n",
       " 'art. 7',\n",
       " 'ust. 1',\n",
       " 'art. 47',\n",
       " 'art. 21',\n",
       " 'pkt 2-4']"
      ]
     },
     "execution_count": 73,
     "metadata": {},
     "output_type": "execute_result"
    }
   ],
   "source": [
    "# Przydatny regex, dopasowujący wystąpienie jednostki redakcyjnej \n",
    "# artykuł, paragraf, ustęp, punkt, litera\n",
    "# wraz z zakresem (np. art. 1-3)\n",
    "# grupy są non-capturing, żeby regex nie zwracał krotek\n",
    "\n",
    "jedn_regex = r\"(?:art\\. \\d+\\w*(?:-\\d+\\w*)*|§ \\d+(?:-\\d+)*|ust\\. \\d+\\w*(?:-\\d+\\w*)*|pkt \\d+\\w*(?:-\\d+\\w*)*|lit\\.\\w+\\)(?:-\\w+\\))*)\"\n",
    "\n",
    "find_occurences(jedn_regex, 1)[\"1993_599.txt\"][32:42]"
   ]
  },
  {
   "cell_type": "markdown",
   "metadata": {},
   "source": [
    "### 1. Dla każdej ustawy policz wszystkie wystąpienie następujących nowelizacji:\n",
    "\n",
    "#### a. dodanie jednostki (e.g. dodaje się ust. 5a)\n",
    "\n",
    "Struktura:\n",
    "- na początku dodania występuje równoważnik zdania zawierający synonim \"dodaje się\" (składa się z liter, liczb, kropek, spacji, § - bo mogą być wypisane jednostki redakcyjne),\n",
    "- następnie określona jest dodawana jednostka redakcyjna (lub jednostki),\n",
    "- na końcu występuje \"w brzmieniu:\"."
   ]
  },
  {
   "cell_type": "code",
   "execution_count": 110,
   "metadata": {},
   "outputs": [
    {
     "data": {
      "text/plain": [
       "{'1993_599.txt': 10,\n",
       " '1993_602.txt': 1,\n",
       " '1993_645.txt': 0,\n",
       " '1993_646.txt': 18,\n",
       " '1994_150.txt': 0,\n",
       " '1994_195.txt': 2,\n",
       " '1994_201.txt': 1,\n",
       " '1994_214.txt': 0,\n",
       " '1994_215.txt': 1,\n",
       " '1994_288.txt': 0}"
      ]
     },
     "execution_count": 110,
     "metadata": {},
     "output_type": "execute_result"
    }
   ],
   "source": [
    "r1a = fr\"[\\w\\d\\.§ ]+{jedn_regex}(?: i {jedn_regex}| i \\d+\\w*)? w brzmieniu:\"\n",
    "out1a = find_occurences(pattern=r1a, limit=10)\n",
    "{k: len(v) for k, v in out1a.items()}"
   ]
  },
  {
   "cell_type": "markdown",
   "metadata": {},
   "source": [
    "#### b. usunięcie jednostki (np. w art. 10 ust. 1 pkt 8 skreśla się)\n",
    "\n",
    "Struktura:\n",
    "- w skreśleniu występuje \"skreśla się\",\n",
    "- następnie występuje usuwana jednostka redakcyjna.\n",
    "\n",
    "Nie chcemy wykryć usunięcia czegoś innego niż jednostki redakcyjnej (np. wyrazy)."
   ]
  },
  {
   "cell_type": "code",
   "execution_count": 123,
   "metadata": {},
   "outputs": [
    {
     "data": {
      "text/plain": [
       "{'1993_599.txt': 1,\n",
       " '1993_602.txt': 0,\n",
       " '1993_645.txt': 0,\n",
       " '1993_646.txt': 4,\n",
       " '1994_150.txt': 1,\n",
       " '1994_195.txt': 1,\n",
       " '1994_201.txt': 0,\n",
       " '1994_214.txt': 0,\n",
       " '1994_215.txt': 0,\n",
       " '1994_288.txt': 0}"
      ]
     },
     "execution_count": 123,
     "metadata": {},
     "output_type": "execute_result"
    }
   ],
   "source": [
    "r1b = fr\"skreśla się {jedn_regex}\"\n",
    "out1b = find_occurences(pattern=r1b, limit=10)\n",
    "{k: len(v) for k, v in out1b.items()}"
   ]
  },
  {
   "cell_type": "markdown",
   "metadata": {},
   "source": [
    "#### c. zmianę jednostki (np. art. 5 otrzymuje brzmienie)\n",
    "\n",
    "Struktura:\n",
    "- zmiana jednostki zaczyna się od nazwy jednostki (lub jednostek),\n",
    "- następnie występuje \"otrzymuje/ą brzmienie:\"."
   ]
  },
  {
   "cell_type": "code",
   "execution_count": 127,
   "metadata": {},
   "outputs": [
    {
     "data": {
      "text/plain": [
       "{'1993_599.txt': 17,\n",
       " '1993_602.txt': 8,\n",
       " '1993_645.txt': 0,\n",
       " '1993_646.txt': 35,\n",
       " '1994_150.txt': 1,\n",
       " '1994_195.txt': 1,\n",
       " '1994_201.txt': 0,\n",
       " '1994_214.txt': 0,\n",
       " '1994_215.txt': 2,\n",
       " '1994_288.txt': 0}"
      ]
     },
     "execution_count": 127,
     "metadata": {},
     "output_type": "execute_result"
    }
   ],
   "source": [
    "r1c = fr\"{jedn_regex}(?: i {jedn_regex}| i \\d+\\w*)? otrzymuj[eą] brzmienie:\"\n",
    "out1c = find_occurences(pattern=r1c, limit=10)\n",
    "{k: len(v) for k, v in out1c.items()}"
   ]
  }
 ],
 "metadata": {
  "kernelspec": {
   "display_name": "Python 3.10.8 ('ds')",
   "language": "python",
   "name": "python3"
  },
  "language_info": {
   "codemirror_mode": {
    "name": "ipython",
    "version": 3
   },
   "file_extension": ".py",
   "mimetype": "text/x-python",
   "name": "python",
   "nbconvert_exporter": "python",
   "pygments_lexer": "ipython3",
   "version": "3.10.8"
  },
  "orig_nbformat": 4,
  "vscode": {
   "interpreter": {
    "hash": "2886749ed11b87e200011d0e8b34479c2c945318db21e04a15735afb52256eb9"
   }
  }
 },
 "nbformat": 4,
 "nbformat_minor": 2
}
