{
 "cells": [
  {
   "cell_type": "code",
   "execution_count": 35,
   "metadata": {},
   "outputs": [],
   "source": [
    "import regex\n",
    "\n",
    "from pathlib import Path"
   ]
  },
  {
   "cell_type": "code",
   "execution_count": 37,
   "metadata": {},
   "outputs": [],
   "source": [
    "def find_occurences(pattern: str, limit: int = None):\n",
    "    out = {}\n",
    "    for ustawa in list(Path(\"./ustawy/\").iterdir())[:limit]:\n",
    "        found = regex.findall(pattern=pattern, string=ustawa.read_text(encoding=\"utf8\"))\n",
    "        out[ustawa.name] = found\n",
    "    return out"
   ]
  },
  {
   "cell_type": "code",
   "execution_count": 73,
   "metadata": {},
   "outputs": [
    {
     "data": {
      "text/plain": [
       "['ust. 2a',\n",
       " 'ust. 2',\n",
       " 'ust. 3',\n",
       " 'ust. 1',\n",
       " 'art. 14',\n",
       " 'art. 7',\n",
       " 'ust. 1',\n",
       " 'art. 47',\n",
       " 'art. 21',\n",
       " 'pkt 2-4']"
      ]
     },
     "execution_count": 73,
     "metadata": {},
     "output_type": "execute_result"
    }
   ],
   "source": [
    "# Przydatny regex, dopasowujący wystąpienie jednostki redakcyjnej \n",
    "# artykuł, paragraf, ustęp, punkt, litera\n",
    "# wraz z zakresem (np. art. 1-3)\n",
    "# grupy są non-capturing, żeby regex nie zwracał krotek\n",
    "jedn_regex = r\"(?:art\\. \\d+\\w*(?:-\\d+\\w*)*|§ \\d+(?:-\\d+)*|ust\\. \\d+\\w*(?:-\\d+\\w*)*|pkt \\d+\\w*(?:-\\d+\\w*)*|lit\\.\\w+\\)(?:-\\w+\\))*)\"\n",
    "find_occurences(jedn_regex, 1)[\"1993_599.txt\"][32:42]"
   ]
  },
  {
   "cell_type": "markdown",
   "metadata": {},
   "source": [
    "### 1. Dla każdej ustawy policz wszystkie wystąpienie następujących nowelizacji:\n",
    "#### a. dodanie jednostki (e.g. dodaje się ust. 5a)\n",
    "Spostrzeżenia:\n",
    "- na początku dodania występuje równoważnik zdania zawierający synonim \"dodaje się\" (składa się z liter, liczb, kropek, spacji, § - bo mogą być wypisane jednostki redakcyjne),\n",
    "- następnie określona jest dodawana jednostka redakcyjna (lub jednostki),\n",
    "- na końcu występuje \"w brzmieniu:\"."
   ]
  },
  {
   "cell_type": "code",
   "execution_count": 88,
   "metadata": {},
   "outputs": [
    {
     "data": {
      "text/plain": [
       "{'1993_599.txt': [' dodaje się ust. 2 w brzmieniu:',\n",
       "  ' po ust. 8 dodaje się ust. 8a w brzmieniu:',\n",
       "  ' po ust. 5 dodaje się ust. 5a w brzmieniu:',\n",
       "  ' po ust. 2 dodaje się ust. 2a w brzmieniu:',\n",
       "  ' w art. 20 po ust. 3 dodaje się ust. 4 i 5 w brzmieniu:',\n",
       "  ' po pkt 3 dodaje się pkt 4 w brzmieniu:',\n",
       "  ' po ust. 3 dodaje się ust. 4 w brzmieniu:',\n",
       "  ' dodaje się ust. 5 w brzmieniu:',\n",
       "  ' po pkt 3 dodaje się pkt 4 i 5 w brzmieniu:',\n",
       "  ' dodaje się ust. 3 w brzmieniu:'],\n",
       " '1993_602.txt': [],\n",
       " '1993_645.txt': []}"
      ]
     },
     "execution_count": 88,
     "metadata": {},
     "output_type": "execute_result"
    }
   ],
   "source": [
    "r1a = fr\"[\\w\\d\\.§ ]+{jedn_regex}(?: i {jedn_regex}| i \\d)? w brzmieniu:\"\n",
    "find_occurences(pattern=r1a, limit=3)"
   ]
  },
  {
   "cell_type": "markdown",
   "metadata": {},
   "source": [
    "#### b. usunięcie jednostki (np. w art. 10 ust. 1 pkt 8 skreśla się)"
   ]
  },
  {
   "cell_type": "code",
   "execution_count": null,
   "metadata": {},
   "outputs": [],
   "source": []
  },
  {
   "cell_type": "markdown",
   "metadata": {},
   "source": [
    "#### c. zmianę jednostki (np. art. 5 otrzymuje brzmienie)"
   ]
  },
  {
   "cell_type": "code",
   "execution_count": null,
   "metadata": {},
   "outputs": [],
   "source": []
  }
 ],
 "metadata": {
  "kernelspec": {
   "display_name": "Python 3.10.8 ('ds')",
   "language": "python",
   "name": "python3"
  },
  "language_info": {
   "codemirror_mode": {
    "name": "ipython",
    "version": 3
   },
   "file_extension": ".py",
   "mimetype": "text/x-python",
   "name": "python",
   "nbconvert_exporter": "python",
   "pygments_lexer": "ipython3",
   "version": "3.10.8"
  },
  "orig_nbformat": 4,
  "vscode": {
   "interpreter": {
    "hash": "2886749ed11b87e200011d0e8b34479c2c945318db21e04a15735afb52256eb9"
   }
  }
 },
 "nbformat": 4,
 "nbformat_minor": 2
}
