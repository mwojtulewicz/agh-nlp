{
 "cells": [
  {
   "cell_type": "code",
   "execution_count": 1,
   "metadata": {},
   "outputs": [],
   "source": [
    "import tqdm\n",
    "import requests\n",
    "\n",
    "from pathlib import Path\n",
    "from elasticsearch import Elasticsearch"
   ]
  },
  {
   "cell_type": "code",
   "execution_count": 2,
   "metadata": {},
   "outputs": [
    {
     "name": "stdout",
     "output_type": "stream",
     "text": [
      "True\n",
      "{'name': 'b40d2515d547', 'cluster_name': 'docker-cluster', 'cluster_uuid': 'U5o6JseNQMWv_ouTF8lKYA', 'version': {'number': '8.4.3', 'build_flavor': 'default', 'build_type': 'docker', 'build_hash': '42f05b9372a9a4a470db3b52817899b99a76ee73', 'build_date': '2022-10-04T07:17:24.662462378Z', 'build_snapshot': False, 'lucene_version': '9.3.0', 'minimum_wire_compatibility_version': '7.17.0', 'minimum_index_compatibility_version': '7.0.0'}, 'tagline': 'You Know, for Search'}\n"
     ]
    }
   ],
   "source": [
    "es = Elasticsearch(\"http://localhost:9200\")\n",
    "\n",
    "print(es.ping())\n",
    "print(es.info())"
   ]
  },
  {
   "cell_type": "code",
   "execution_count": 3,
   "metadata": {},
   "outputs": [],
   "source": [
    "es_url = \"http://localhost:9200\""
   ]
  },
  {
   "cell_type": "code",
   "execution_count": 4,
   "metadata": {},
   "outputs": [
    {
     "data": {
      "text/plain": [
       "{'name': 'b40d2515d547',\n",
       " 'cluster_name': 'docker-cluster',\n",
       " 'cluster_uuid': 'U5o6JseNQMWv_ouTF8lKYA',\n",
       " 'version': {'number': '8.4.3',\n",
       "  'build_flavor': 'default',\n",
       "  'build_type': 'docker',\n",
       "  'build_hash': '42f05b9372a9a4a470db3b52817899b99a76ee73',\n",
       "  'build_date': '2022-10-04T07:17:24.662462378Z',\n",
       "  'build_snapshot': False,\n",
       "  'lucene_version': '9.3.0',\n",
       "  'minimum_wire_compatibility_version': '7.17.0',\n",
       "  'minimum_index_compatibility_version': '7.0.0'},\n",
       " 'tagline': 'You Know, for Search'}"
      ]
     },
     "execution_count": 4,
     "metadata": {},
     "output_type": "execute_result"
    }
   ],
   "source": [
    "requests.get(es_url).json()"
   ]
  },
  {
   "cell_type": "code",
   "execution_count": 5,
   "metadata": {},
   "outputs": [
    {
     "data": {
      "text/plain": [
       "{'acknowledged': True, 'shards_acknowledged': True, 'index': 'acts'}"
      ]
     },
     "execution_count": 5,
     "metadata": {},
     "output_type": "execute_result"
    }
   ],
   "source": [
    "response = requests.put(\n",
    "    url=f\"{es_url}/acts\",\n",
    "    json={\n",
    "        \"settings\": {\n",
    "            \"analysis\": {\n",
    "                \"analyzer\": {\n",
    "                    \"polish-law-analyzer\": {\n",
    "                        \"type\": \"custom\",\n",
    "                        \"tokenizer\": \"standard\",\n",
    "                        \"filter\": [\n",
    "                            \"synonym-filter\",\n",
    "                            \"morfologik_stem\",\n",
    "                            \"lowercase\"\n",
    "                        ]\n",
    "                    }\n",
    "                },\n",
    "                \"filter\": {\n",
    "                    \"synonym-filter\": {\n",
    "                        \"type\": \"synonym\",\n",
    "                        \"expand\": False,\n",
    "                        \"synonyms\": [\n",
    "                            \"kpk => kodeks postępowania karnego\",\n",
    "                            \"kpc => kodeks postępowania cywilnego\",\n",
    "                            \"kk => kodeks karny\",\n",
    "                            \"kc => kodeks cywilny\"\n",
    "                        ]\n",
    "                    }\n",
    "                }\n",
    "            }\n",
    "        }\n",
    "    }\n",
    ")\n",
    "\n",
    "response.json()"
   ]
  },
  {
   "cell_type": "code",
   "execution_count": 6,
   "metadata": {},
   "outputs": [
    {
     "data": {
      "text/plain": [
       "{'acknowledged': True}"
      ]
     },
     "execution_count": 6,
     "metadata": {},
     "output_type": "execute_result"
    }
   ],
   "source": [
    "response = requests.put(\n",
    "    url=f\"{es_url}/acts/_mapping\",\n",
    "    json={\n",
    "        \"properties\": {\n",
    "            \"content\": {\n",
    "                \"type\": \"text\",\n",
    "                \"analyzer\": \"polish-law-analyzer\"\n",
    "            }\n",
    "        }\n",
    "    }\n",
    ")\n",
    "\n",
    "response.json()"
   ]
  },
  {
   "cell_type": "code",
   "execution_count": 7,
   "metadata": {},
   "outputs": [
    {
     "data": {
      "text/plain": [
       "{'tokens': [{'token': 'być',\n",
       "   'start_offset': 0,\n",
       "   'end_offset': 6,\n",
       "   'type': '<ALPHANUM>',\n",
       "   'position': 0},\n",
       "  {'token': 'kodeks',\n",
       "   'start_offset': 7,\n",
       "   'end_offset': 10,\n",
       "   'type': 'SYNONYM',\n",
       "   'position': 1},\n",
       "  {'token': 'postępowanie',\n",
       "   'start_offset': 7,\n",
       "   'end_offset': 10,\n",
       "   'type': 'SYNONYM',\n",
       "   'position': 2},\n",
       "  {'token': 'postępować',\n",
       "   'start_offset': 7,\n",
       "   'end_offset': 10,\n",
       "   'type': 'SYNONYM',\n",
       "   'position': 2},\n",
       "  {'token': 'cywilny',\n",
       "   'start_offset': 7,\n",
       "   'end_offset': 10,\n",
       "   'type': 'SYNONYM',\n",
       "   'position': 3}]}"
      ]
     },
     "execution_count": 7,
     "metadata": {},
     "output_type": "execute_result"
    }
   ],
   "source": [
    "response = requests.get(\n",
    "    url=f\"{es_url}/acts/_analyze\",\n",
    "    json={\n",
    "        \"text\": \"jestem kpc\",\n",
    "        \"analyzer\": \"polish-law-analyzer\"\n",
    "    }\n",
    ")\n",
    "\n",
    "response.json()"
   ]
  },
  {
   "cell_type": "code",
   "execution_count": 25,
   "metadata": {},
   "outputs": [
    {
     "data": {
      "text/plain": [
       "{'tokens': [{'token': 'ustawa',\n",
       "   'start_offset': 0,\n",
       "   'end_offset': 5,\n",
       "   'type': '<ALPHANUM>',\n",
       "   'position': 0},\n",
       "  {'token': 'ustawić',\n",
       "   'start_offset': 0,\n",
       "   'end_offset': 5,\n",
       "   'type': '<ALPHANUM>',\n",
       "   'position': 0}]}"
      ]
     },
     "execution_count": 25,
     "metadata": {},
     "output_type": "execute_result"
    }
   ],
   "source": [
    "response = requests.get(\n",
    "    url=f\"{es_url}/acts/_analyze\",\n",
    "    json={\n",
    "        \"text\": \"ustaw\",\n",
    "        \"analyzer\": \"polish-law-analyzer\"\n",
    "    }\n",
    ")\n",
    "\n",
    "response.json()"
   ]
  },
  {
   "cell_type": "code",
   "execution_count": 9,
   "metadata": {},
   "outputs": [
    {
     "name": "stderr",
     "output_type": "stream",
     "text": [
      "Indexing acts: 100%|██████████| 1179/1179 [00:30<00:00, 38.11it/s]\n"
     ]
    }
   ],
   "source": [
    "acts_dir = Path(\"../data/ustawy/\")\n",
    "n_acts = len(list(acts_dir.iterdir()))\n",
    "\n",
    "index_name = \"acts\"\n",
    "\n",
    "for act in tqdm.tqdm(acts_dir.iterdir(), desc=\"Indexing acts\", total=n_acts):\n",
    "    act_id = act.stem\n",
    "    requests.post(\n",
    "        url=f\"{es_url}/{index_name}/_doc/{act_id}\",\n",
    "        json={\n",
    "            \"content\": act.read_text(encoding=\"utf8\")\n",
    "        }\n",
    "    )"
   ]
  },
  {
   "cell_type": "code",
   "execution_count": 13,
   "metadata": {},
   "outputs": [
    {
     "data": {
      "text/plain": [
       "{'_index': 'acts',\n",
       " '_id': '1993_645',\n",
       " '_version': 1,\n",
       " '_seq_no': 2,\n",
       " '_primary_term': 1,\n",
       " 'found': True,\n",
       " '_source': {'content': '\\n\\n\\n\\nDz.U. z 1993 r. Nr 134, poz. 645\\n                                Ustawa \\n                          z dnia 3 grudnia 1993 r.\\n         o zmianie ustawy o kombatantach oraz niektórych osobach\\n        będących ofiarami represji wojennych i okresu powojennego.\\n                                Art. 1.\\nW ustawie z dnia 24 stycznia 1991 r. o kombatantach oraz niektórych osobach\\nbędących ofiarami represji wojennych i okresu powojennego (Dz.U. Nr 17, poz. 75 i\\nNr 104, poz. 450, z 1992 r. Nr 21, poz. 85 oraz z 1993 r. Nr 29, poz. 133 i Nr 129,\\npoz. 602) w art. 27 skreśla się wyrazy \"jednak nie dłużej niż do dnia 31 grudnia\\n1993 r.\"\\n                                Art. 2.\\nUstawa wchodzi w życie z dniem ogłoszenia. \\n'}}"
      ]
     },
     "execution_count": 13,
     "metadata": {},
     "output_type": "execute_result"
    }
   ],
   "source": [
    "requests.get(\n",
    "    url=f\"{es_url}/acts/_doc/1993_645\"\n",
    ").json()"
   ]
  },
  {
   "cell_type": "code",
   "execution_count": 12,
   "metadata": {},
   "outputs": [],
   "source": [
    "for act in acts_dir.iterdir():\n",
    "    found = requests.get(url=f\"{es_url}/acts/_doc/{act.stem}\").json()[\"found\"]\n",
    "    if not found:\n",
    "        print(act.stem)"
   ]
  },
  {
   "cell_type": "code",
   "execution_count": 17,
   "metadata": {},
   "outputs": [
    {
     "data": {
      "text/plain": [
       "1178"
      ]
     },
     "execution_count": 17,
     "metadata": {},
     "output_type": "execute_result"
    }
   ],
   "source": [
    "response = requests.get(\n",
    "    url=f\"{es_url}/acts/_search\",\n",
    "    json={\n",
    "        \"query\": {\n",
    "            \"match\": {\n",
    "                \"content\": {\n",
    "                    \"query\": \"ustawa\"\n",
    "                }\n",
    "            }\n",
    "        }\n",
    "    }\n",
    ")\n",
    "\n",
    "response.json()[\"hits\"][\"total\"][\"value\"]"
   ]
  },
  {
   "cell_type": "code",
   "execution_count": 26,
   "metadata": {},
   "outputs": [
    {
     "data": {
      "text/plain": [
       "{'count': 1178,\n",
       " '_shards': {'total': 1, 'successful': 1, 'skipped': 0, 'failed': 0}}"
      ]
     },
     "execution_count": 26,
     "metadata": {},
     "output_type": "execute_result"
    }
   ],
   "source": [
    "response = requests.get(\n",
    "    url=f\"{es_url}/acts/_count\",\n",
    "    json={\n",
    "        \"query\": {\n",
    "            \"match\": {\n",
    "                \"content\": {\n",
    "                    \"query\": \"ustawa\"\n",
    "                }\n",
    "            }\n",
    "        }\n",
    "    }\n",
    ")\n",
    "\n",
    "response.json()"
   ]
  },
  {
   "cell_type": "code",
   "execution_count": null,
   "metadata": {},
   "outputs": [],
   "source": []
  },
  {
   "cell_type": "code",
   "execution_count": null,
   "metadata": {},
   "outputs": [],
   "source": []
  },
  {
   "cell_type": "code",
   "execution_count": null,
   "metadata": {},
   "outputs": [],
   "source": []
  }
 ],
 "metadata": {
  "kernelspec": {
   "display_name": "Python 3.10.8 ('ds')",
   "language": "python",
   "name": "python3"
  },
  "language_info": {
   "codemirror_mode": {
    "name": "ipython",
    "version": 3
   },
   "file_extension": ".py",
   "mimetype": "text/x-python",
   "name": "python",
   "nbconvert_exporter": "python",
   "pygments_lexer": "ipython3",
   "version": "3.10.8"
  },
  "orig_nbformat": 4,
  "vscode": {
   "interpreter": {
    "hash": "2886749ed11b87e200011d0e8b34479c2c945318db21e04a15735afb52256eb9"
   }
  }
 },
 "nbformat": 4,
 "nbformat_minor": 2
}
