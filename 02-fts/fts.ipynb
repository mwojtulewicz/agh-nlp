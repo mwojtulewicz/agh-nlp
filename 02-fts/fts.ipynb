{
 "cells": [
  {
   "cell_type": "markdown",
   "metadata": {},
   "source": [
    "# Full Text Search\n",
    "Mateusz Wojtulewicz"
   ]
  },
  {
   "cell_type": "code",
   "execution_count": 1,
   "metadata": {},
   "outputs": [],
   "source": [
    "import json\n",
    "import tqdm\n",
    "import requests\n",
    "\n",
    "from pathlib import Path"
   ]
  },
  {
   "cell_type": "code",
   "execution_count": 2,
   "metadata": {},
   "outputs": [],
   "source": [
    "# helper function\n",
    "def pprint(response: requests.Response):\n",
    "    print(json.dumps(response.json(), indent=4, ensure_ascii=False))"
   ]
  },
  {
   "cell_type": "code",
   "execution_count": 3,
   "metadata": {},
   "outputs": [],
   "source": [
    "es_url = \"http://localhost:9200\""
   ]
  },
  {
   "cell_type": "code",
   "execution_count": 4,
   "metadata": {},
   "outputs": [
    {
     "name": "stdout",
     "output_type": "stream",
     "text": [
      "{\n",
      "    \"name\": \"b40d2515d547\",\n",
      "    \"cluster_name\": \"docker-cluster\",\n",
      "    \"cluster_uuid\": \"U5o6JseNQMWv_ouTF8lKYA\",\n",
      "    \"version\": {\n",
      "        \"number\": \"8.4.3\",\n",
      "        \"build_flavor\": \"default\",\n",
      "        \"build_type\": \"docker\",\n",
      "        \"build_hash\": \"42f05b9372a9a4a470db3b52817899b99a76ee73\",\n",
      "        \"build_date\": \"2022-10-04T07:17:24.662462378Z\",\n",
      "        \"build_snapshot\": false,\n",
      "        \"lucene_version\": \"9.3.0\",\n",
      "        \"minimum_wire_compatibility_version\": \"7.17.0\",\n",
      "        \"minimum_index_compatibility_version\": \"7.0.0\"\n",
      "    },\n",
      "    \"tagline\": \"You Know, for Search\"\n",
      "}\n"
     ]
    }
   ],
   "source": [
    "pprint(requests.get(es_url))"
   ]
  },
  {
   "cell_type": "markdown",
   "metadata": {},
   "source": [
    "## 3. Define an ES analyzer for Polish texts containing [...]\n",
    "\n",
    "## 4. Define an ES index for storing the contents of the legislative acts.\n",
    "\n",
    "I'm defining an `acts` index with property `content` of type `text` with custom analyzer `polish-law-analyzer`. Note that the mapping is set after the analyzer.\n",
    "\n",
    "`polish-law-analyzer` uses `standard` tokenizer and has custom `synonym` filter, `morfologik_stem` filter and `lowercase` filter. The first filter maps abbreviations with their definitions and the second one is a Morfologik-based polish lemmatizer."
   ]
  },
  {
   "cell_type": "code",
   "execution_count": 5,
   "metadata": {},
   "outputs": [
    {
     "name": "stdout",
     "output_type": "stream",
     "text": [
      "{\n",
      "    \"acknowledged\": true,\n",
      "    \"shards_acknowledged\": true,\n",
      "    \"index\": \"acts\"\n",
      "}\n"
     ]
    }
   ],
   "source": [
    "response = requests.put(\n",
    "    url=f\"{es_url}/acts\",\n",
    "    json={\n",
    "        \"settings\": {\n",
    "            \"analysis\": {\n",
    "                \"analyzer\": {\n",
    "                    \"polish-law-analyzer\": {\n",
    "                        \"type\": \"custom\",\n",
    "                        \"tokenizer\": \"standard\",\n",
    "                        \"filter\": [\n",
    "                            \"synonym-filter\",\n",
    "                            \"morfologik_stem\",\n",
    "                            \"lowercase\"\n",
    "                        ]\n",
    "                    }\n",
    "                },\n",
    "                \"filter\": {\n",
    "                    \"synonym-filter\": {\n",
    "                        \"type\": \"synonym\",\n",
    "                        \"synonyms\": [\n",
    "                            \"kpk => kodeks postępowania karnego\",\n",
    "                            \"kpc => kodeks postępowania cywilnego\",\n",
    "                            \"kk => kodeks karny\",\n",
    "                            \"kc => kodeks cywilny\"\n",
    "                        ]\n",
    "                    }\n",
    "                }\n",
    "            }\n",
    "        }\n",
    "    }\n",
    ")\n",
    "\n",
    "pprint(response)"
   ]
  },
  {
   "cell_type": "code",
   "execution_count": 6,
   "metadata": {},
   "outputs": [
    {
     "name": "stdout",
     "output_type": "stream",
     "text": [
      "{\n",
      "    \"acknowledged\": true\n",
      "}\n"
     ]
    }
   ],
   "source": [
    "response = requests.put(\n",
    "    url=f\"{es_url}/acts/_mapping\",\n",
    "    json={\n",
    "        \"properties\": {\n",
    "            \"content\": {\n",
    "                \"type\": \"text\",\n",
    "                \"analyzer\": \"polish-law-analyzer\"\n",
    "            }\n",
    "        }\n",
    "    }\n",
    ")\n",
    "\n",
    "pprint(response)"
   ]
  },
  {
   "cell_type": "markdown",
   "metadata": {},
   "source": [
    "Example of `polish-law-analyzer` in action:"
   ]
  },
  {
   "cell_type": "code",
   "execution_count": 7,
   "metadata": {},
   "outputs": [
    {
     "name": "stdout",
     "output_type": "stream",
     "text": [
      "{\n",
      "    \"tokens\": [\n",
      "        {\n",
      "            \"token\": \"być\",\n",
      "            \"start_offset\": 0,\n",
      "            \"end_offset\": 6,\n",
      "            \"type\": \"<ALPHANUM>\",\n",
      "            \"position\": 0\n",
      "        },\n",
      "        {\n",
      "            \"token\": \"kodeks\",\n",
      "            \"start_offset\": 7,\n",
      "            \"end_offset\": 10,\n",
      "            \"type\": \"SYNONYM\",\n",
      "            \"position\": 1\n",
      "        },\n",
      "        {\n",
      "            \"token\": \"postępowanie\",\n",
      "            \"start_offset\": 7,\n",
      "            \"end_offset\": 10,\n",
      "            \"type\": \"SYNONYM\",\n",
      "            \"position\": 2\n",
      "        },\n",
      "        {\n",
      "            \"token\": \"postępować\",\n",
      "            \"start_offset\": 7,\n",
      "            \"end_offset\": 10,\n",
      "            \"type\": \"SYNONYM\",\n",
      "            \"position\": 2\n",
      "        },\n",
      "        {\n",
      "            \"token\": \"cywilny\",\n",
      "            \"start_offset\": 7,\n",
      "            \"end_offset\": 10,\n",
      "            \"type\": \"SYNONYM\",\n",
      "            \"position\": 3\n",
      "        }\n",
      "    ]\n",
      "}\n"
     ]
    }
   ],
   "source": [
    "response = requests.get(\n",
    "    url=f\"{es_url}/acts/_analyze\",\n",
    "    json={\n",
    "        \"text\": \"jestem kpc\",\n",
    "        \"analyzer\": \"polish-law-analyzer\"\n",
    "    }\n",
    ")\n",
    "\n",
    "pprint(response)"
   ]
  },
  {
   "cell_type": "markdown",
   "metadata": {},
   "source": [
    "## 5. Load the data to the ES index."
   ]
  },
  {
   "cell_type": "code",
   "execution_count": 8,
   "metadata": {},
   "outputs": [
    {
     "name": "stderr",
     "output_type": "stream",
     "text": [
      "Indexing acts: 100%|██████████| 1179/1179 [00:37<00:00, 31.47it/s]\n"
     ]
    }
   ],
   "source": [
    "acts_dir = Path(\"../data/ustawy/\")\n",
    "n_acts = len(list(acts_dir.iterdir()))\n",
    "\n",
    "index_name = \"acts\"\n",
    "\n",
    "for act in tqdm.tqdm(acts_dir.iterdir(), desc=\"Indexing acts\", total=n_acts):\n",
    "    act_id = act.stem\n",
    "    requests.post(\n",
    "        url=f\"{es_url}/{index_name}/_doc/{act_id}\",\n",
    "        json={\n",
    "            \"content\": act.read_text(encoding=\"utf8\")\n",
    "        }\n",
    "    )"
   ]
  },
  {
   "cell_type": "markdown",
   "metadata": {},
   "source": [
    "Ensuring that each act was loaded."
   ]
  },
  {
   "cell_type": "code",
   "execution_count": 9,
   "metadata": {},
   "outputs": [],
   "source": [
    "for act in acts_dir.iterdir():\n",
    "    found = requests.get(url=f\"{es_url}/acts/_doc/{act.stem}\").json()[\"found\"]\n",
    "    if not found:\n",
    "        print(act.stem)"
   ]
  },
  {
   "cell_type": "markdown",
   "metadata": {},
   "source": [
    "Examplary document:"
   ]
  },
  {
   "cell_type": "code",
   "execution_count": 10,
   "metadata": {},
   "outputs": [
    {
     "name": "stdout",
     "output_type": "stream",
     "text": [
      "{\n",
      "    \"_index\": \"acts\",\n",
      "    \"_id\": \"1993_645\",\n",
      "    \"_version\": 1,\n",
      "    \"_seq_no\": 2,\n",
      "    \"_primary_term\": 1,\n",
      "    \"found\": true,\n",
      "    \"_source\": {\n",
      "        \"content\": \"\\n\\n\\n\\nDz.U. z 1993 r. Nr 134, poz. 645\\n                                Ustawa \\n                          z dnia 3 grudnia 1993 r.\\n         o zmianie ustawy o kombatantach oraz niektórych osobach\\n        będących ofiarami represji wojennych i okresu powojennego.\\n                                Art. 1.\\nW ustawie z dnia 24 stycznia 1991 r. o kombatantach oraz niektórych osobach\\nbędących ofiarami represji wojennych i okresu powojennego (Dz.U. Nr 17, poz. 75 i\\nNr 104, poz. 450, z 1992 r. Nr 21, poz. 85 oraz z 1993 r. Nr 29, poz. 133 i Nr 129,\\npoz. 602) w art. 27 skreśla się wyrazy \\\"jednak nie dłużej niż do dnia 31 grudnia\\n1993 r.\\\"\\n                                Art. 2.\\nUstawa wchodzi w życie z dniem ogłoszenia. \\n\"\n",
      "    }\n",
      "}\n"
     ]
    }
   ],
   "source": [
    "response = requests.get(url=f\"{es_url}/acts/_doc/1993_645\")\n",
    "\n",
    "pprint(response)"
   ]
  },
  {
   "cell_type": "markdown",
   "metadata": {},
   "source": [
    "## 6. Determine the number of legislative acts containing the word **ustawa** (in any form).\n",
    "\n",
    "I've used basic search, with highlits and response filtering."
   ]
  },
  {
   "cell_type": "code",
   "execution_count": 11,
   "metadata": {},
   "outputs": [
    {
     "name": "stdout",
     "output_type": "stream",
     "text": [
      "{\n",
      "    \"hits\": {\n",
      "        \"total\": {\n",
      "            \"value\": 1178\n",
      "        },\n",
      "        \"hits\": [\n",
      "            {\n",
      "                \"highlight\": {\n",
      "                    \"content\": [\n",
      "                        \"<em>ustawy</em>\",\n",
      "                        \" \\n<em>ustawa</em>\",\n",
      "                        \"<em>ustawy</em>\",\n",
      "                        \"<em>ustaw</em>\",\n",
      "                        \"<em>ustawie</em>\"\n",
      "                    ]\n",
      "                }\n",
      "            },\n",
      "            {\n",
      "                \"highlight\": {\n",
      "                    \"content\": [\n",
      "                        \"<em>ustawy</em>\",\n",
      "                        \" \\n<em>USTAWA</em>\",\n",
      "                        \"<em>ustawy</em>\",\n",
      "                        \"<em>ustaw</em>\",\n",
      "                        \"<em>ustawie</em>\"\n",
      "                    ]\n",
      "                }\n",
      "            }\n",
      "        ]\n",
      "    }\n",
      "}\n"
     ]
    }
   ],
   "source": [
    "response = requests.get(\n",
    "    url=f\"{es_url}/acts/_search?filter_path=hits.total.value,hits.hits.highlight.content\",\n",
    "    json={\n",
    "        \"query\": {\n",
    "            \"match\": {\n",
    "                \"content\": {\n",
    "                    \"query\": \"ustawa\"\n",
    "                }\n",
    "            }\n",
    "        },\n",
    "        \"highlight\": {\n",
    "            \"fields\": {\n",
    "                \"content\": {\n",
    "                    \"fragment_size\": 1\n",
    "                }\n",
    "            }\n",
    "        },\n",
    "        \"size\": 2\n",
    "    }\n",
    ")\n",
    "\n",
    "pprint(response)"
   ]
  },
  {
   "cell_type": "markdown",
   "metadata": {},
   "source": [
    "Answer:"
   ]
  },
  {
   "cell_type": "code",
   "execution_count": 12,
   "metadata": {},
   "outputs": [
    {
     "data": {
      "text/plain": [
       "1178"
      ]
     },
     "execution_count": 12,
     "metadata": {},
     "output_type": "execute_result"
    }
   ],
   "source": [
    "response.json()[\"hits\"][\"total\"][\"value\"]"
   ]
  },
  {
   "cell_type": "markdown",
   "metadata": {},
   "source": [
    "## 7. Determine the number of occurrences of the word **ustawa** by searching for this particular form, including the other inflectional forms.\n",
    "\n",
    "Using `termvectors` I've found `total term frequency`  (`ttf`) in all indexed documents for term **ustawa**. All its inflectional forms will be found because it is a base form."
   ]
  },
  {
   "cell_type": "code",
   "execution_count": 13,
   "metadata": {},
   "outputs": [
    {
     "data": {
      "text/plain": [
       "{'doc_freq': 1178,\n",
       " 'ttf': 24934,\n",
       " 'term_freq': 15,\n",
       " 'tokens': [{'position': 8, 'start_offset': 70, 'end_offset': 76},\n",
       "  {'position': 17, 'start_offset': 186, 'end_offset': 192},\n",
       "  {'position': 31, 'start_offset': 387, 'end_offset': 394},\n",
       "  {'position': 106, 'start_offset': 887, 'end_offset': 893},\n",
       "  {'position': 318, 'start_offset': 2531, 'end_offset': 2537},\n",
       "  {'position': 2524, 'start_offset': 20244, 'end_offset': 20250},\n",
       "  {'position': 2667, 'start_offset': 21274, 'end_offset': 21280},\n",
       "  {'position': 2954, 'start_offset': 23306, 'end_offset': 23312},\n",
       "  {'position': 3024, 'start_offset': 23823, 'end_offset': 23829},\n",
       "  {'position': 3077, 'start_offset': 24629, 'end_offset': 24635},\n",
       "  {'position': 3092, 'start_offset': 24713, 'end_offset': 24719},\n",
       "  {'position': 3112, 'start_offset': 24864, 'end_offset': 24869},\n",
       "  {'position': 3117, 'start_offset': 24912, 'end_offset': 24918},\n",
       "  {'position': 3142, 'start_offset': 25116, 'end_offset': 25122},\n",
       "  {'position': 3154, 'start_offset': 25230, 'end_offset': 25236}]}"
      ]
     },
     "execution_count": 13,
     "metadata": {},
     "output_type": "execute_result"
    }
   ],
   "source": [
    "response = requests.get(\n",
    "    url=f\"{es_url}/acts/_termvectors/1993_599\",\n",
    "    json={\n",
    "        \"fields\": [\"content\"],\n",
    "        \"term_statistics\": True\n",
    "    }\n",
    ")\n",
    "\n",
    "response.json()[\"term_vectors\"][\"content\"][\"terms\"][\"ustawa\"]"
   ]
  },
  {
   "cell_type": "markdown",
   "metadata": {},
   "source": [
    "Answer:"
   ]
  },
  {
   "cell_type": "code",
   "execution_count": 14,
   "metadata": {},
   "outputs": [
    {
     "data": {
      "text/plain": [
       "24934"
      ]
     },
     "execution_count": 14,
     "metadata": {},
     "output_type": "execute_result"
    }
   ],
   "source": [
    "response.json()[\"term_vectors\"][\"content\"][\"terms\"][\"ustawa\"][\"ttf\"]"
   ]
  },
  {
   "cell_type": "markdown",
   "metadata": {},
   "source": [
    "## 8. Determine the number of occurrences of the word **ustaw** by searching for this particular form, including the other inflectional forms.\n",
    "\n",
    "First, I've checked what are all basic inflectional forms for word **ustaw**. Then I've checked `total term frequency` for each of them to add them up."
   ]
  },
  {
   "cell_type": "code",
   "execution_count": 15,
   "metadata": {},
   "outputs": [
    {
     "name": "stdout",
     "output_type": "stream",
     "text": [
      "{\n",
      "    \"tokens\": [\n",
      "        {\n",
      "            \"token\": \"ustawa\",\n",
      "            \"start_offset\": 0,\n",
      "            \"end_offset\": 5,\n",
      "            \"type\": \"<ALPHANUM>\",\n",
      "            \"position\": 0\n",
      "        },\n",
      "        {\n",
      "            \"token\": \"ustawić\",\n",
      "            \"start_offset\": 0,\n",
      "            \"end_offset\": 5,\n",
      "            \"type\": \"<ALPHANUM>\",\n",
      "            \"position\": 0\n",
      "        }\n",
      "    ]\n",
      "}\n"
     ]
    }
   ],
   "source": [
    "response = requests.get(\n",
    "    url=f\"{es_url}/acts/_analyze\",\n",
    "    json={\n",
    "        \"text\": \"ustaw\",\n",
    "        \"analyzer\": \"polish-law-analyzer\"\n",
    "    }\n",
    ")\n",
    "\n",
    "pprint(response)"
   ]
  },
  {
   "cell_type": "code",
   "execution_count": 16,
   "metadata": {},
   "outputs": [
    {
     "data": {
      "text/plain": [
       "913"
      ]
     },
     "execution_count": 16,
     "metadata": {},
     "output_type": "execute_result"
    }
   ],
   "source": [
    "response = requests.get(\n",
    "    url=f\"{es_url}/acts/_termvectors/1993_599\",\n",
    "    json={\n",
    "        \"fields\": [\"content\"],\n",
    "        \"term_statistics\": True\n",
    "    }\n",
    ")\n",
    "\n",
    "response.json()[\"term_vectors\"][\"content\"][\"terms\"][\"ustawić\"][\"ttf\"]"
   ]
  },
  {
   "cell_type": "code",
   "execution_count": 17,
   "metadata": {},
   "outputs": [
    {
     "data": {
      "text/plain": [
       "24934"
      ]
     },
     "execution_count": 17,
     "metadata": {},
     "output_type": "execute_result"
    }
   ],
   "source": [
    "response.json()[\"term_vectors\"][\"content\"][\"terms\"][\"ustawa\"][\"ttf\"]"
   ]
  },
  {
   "cell_type": "markdown",
   "metadata": {},
   "source": [
    "Answer: "
   ]
  },
  {
   "cell_type": "code",
   "execution_count": 18,
   "metadata": {},
   "outputs": [
    {
     "data": {
      "text/plain": [
       "25847"
      ]
     },
     "execution_count": 18,
     "metadata": {},
     "output_type": "execute_result"
    }
   ],
   "source": [
    "response.json()[\"term_vectors\"][\"content\"][\"terms\"][\"ustawić\"][\"ttf\"] + response.json()[\"term_vectors\"][\"content\"][\"terms\"][\"ustawa\"][\"ttf\"]"
   ]
  },
  {
   "cell_type": "markdown",
   "metadata": {},
   "source": [
    "## 9. Determine the number of legislative acts containing the words **kodeks postępowania cywilnego** in the specified order, but in any inflection form.\n",
    "\n",
    "I've used `match_phrase` query to match the words in the specified order."
   ]
  },
  {
   "cell_type": "code",
   "execution_count": 20,
   "metadata": {},
   "outputs": [
    {
     "name": "stdout",
     "output_type": "stream",
     "text": [
      "{\n",
      "    \"hits\": {\n",
      "        \"total\": {\n",
      "            \"value\": 99\n",
      "        },\n",
      "        \"hits\": [\n",
      "            {\n",
      "                \"highlight\": {\n",
      "                    \"content\": [\n",
      "                        \"– <em>Kodeks</em> <em>postępowania</em>\\n<em>cywilnego</em> oraz niektórych innych ustaw[1])\\nArt. 1. \",\n",
      "                        \"W\\nustawie z dnia 17 listopada 1964 r. – <em>Kodeks</em> <em>postępowania</em> <em>cywilnego</em>\\n(Dz. \"\n",
      "                    ]\n",
      "                }\n",
      "            },\n",
      "            {\n",
      "                \"highlight\": {\n",
      "                    \"content\": [\n",
      "                        \"Przepisu art. 694{6} § 2 <em>Kodeksu</em> <em>postępowania</em> <em>cywilnego</em> nie\\n           stosuje się.\\n         4.\",\n",
      "                        \"Przepisu art. 694{6} § 2 <em>Kodeksu</em> <em>postępowania</em> <em>cywilnego</em>\\n             nie stosuje się.\\n         2.\"\n",
      "                    ]\n",
      "                }\n",
      "            }\n",
      "        ]\n",
      "    }\n",
      "}\n"
     ]
    }
   ],
   "source": [
    "response = requests.get(\n",
    "    url=f\"{es_url}/acts/_search?filter_path=hits.total.value,hits.hits.highlight.content\",\n",
    "    json={\n",
    "        \"query\": {\n",
    "            \"match_phrase\": {\n",
    "                \"content\": {\n",
    "                    \"query\": \"kodeks postępowania cywilnego\"\n",
    "                }\n",
    "            }\n",
    "        },\n",
    "        \"highlight\": {\n",
    "            \"fields\": {\n",
    "                \"content\": {\n",
    "                    \"number_of_fragments\": 2\n",
    "                }\n",
    "            }\n",
    "        },\n",
    "        \"size\": 2\n",
    "    }\n",
    ")\n",
    "\n",
    "pprint(response)"
   ]
  },
  {
   "cell_type": "markdown",
   "metadata": {},
   "source": [
    "Answer:"
   ]
  },
  {
   "cell_type": "code",
   "execution_count": 21,
   "metadata": {},
   "outputs": [
    {
     "data": {
      "text/plain": [
       "99"
      ]
     },
     "execution_count": 21,
     "metadata": {},
     "output_type": "execute_result"
    }
   ],
   "source": [
    "response.json()[\"hits\"][\"total\"][\"value\"]"
   ]
  },
  {
   "cell_type": "markdown",
   "metadata": {},
   "source": [
    "## 10. Determine the number of legislative acts containing the words **wchodzi w życie** (in any form) allowing for up to 2 additional words in the searched phrase.\n",
    "\n",
    "I've used `match_phrase` with `\"slop\": 2` to allow for up to 2 additional words in the phrase."
   ]
  },
  {
   "cell_type": "code",
   "execution_count": 22,
   "metadata": {},
   "outputs": [
    {
     "name": "stdout",
     "output_type": "stream",
     "text": [
      "{\n",
      "    \"hits\": {\n",
      "        \"total\": {\n",
      "            \"value\": 1174\n",
      "        },\n",
      "        \"hits\": [\n",
      "            {\n",
      "                \"highlight\": {\n",
      "                    \"content\": [\n",
      "                        \"Nr 91, poz.\\n  578), zwana dalej \\\"ustawą o samorządzie powiatowym\\\", <em>wchodzi</em> <em>w</em> <em>życie</em> z dniem\\n  1 stycznia\",\n",
      "                        \"Akty powołania, o których mowa w art. 35 ust. 3 pkt 1 ustawy o samorządzie\\n  powiatowym, <em>wchodzą</em> <em>w</em> <em>życie</em>\"\n",
      "                    ]\n",
      "                }\n",
      "            },\n",
      "            {\n",
      "                \"highlight\": {\n",
      "                    \"content\": [\n",
      "                        \"Ustawa <em>wchodzi</em> <em>w</em> <em>życie</em> po upływie 6 miesięcy od dnia ogłoszenia,\\n           z wyjątkiem:\\n           1\",\n",
      "                        \"Ustawa <em>wchodzi</em> <em>w</em> <em>życie</em> z dniem ogłoszenia.\"\n",
      "                    ]\n",
      "                }\n",
      "            }\n",
      "        ]\n",
      "    }\n",
      "}\n"
     ]
    }
   ],
   "source": [
    "response = requests.get(\n",
    "    url=f\"{es_url}/acts/_search?filter_path=hits.total.value,hits.hits.highlight.content\",\n",
    "    json={\n",
    "        \"query\": {\n",
    "            \"match_phrase\": {\n",
    "                \"content\": {\n",
    "                    \"query\": \"wchodzi w życie\"\n",
    "                }\n",
    "            }\n",
    "        },\n",
    "        \"highlight\": {\n",
    "            \"fields\": {\n",
    "                \"content\": {\n",
    "                    \"number_of_fragments\": 2\n",
    "                }\n",
    "            }\n",
    "        },\n",
    "        \"size\": 2\n",
    "    }\n",
    ")\n",
    "\n",
    "pprint(response)"
   ]
  },
  {
   "cell_type": "markdown",
   "metadata": {},
   "source": [
    "Answer:"
   ]
  },
  {
   "cell_type": "code",
   "execution_count": 23,
   "metadata": {},
   "outputs": [
    {
     "data": {
      "text/plain": [
       "1174"
      ]
     },
     "execution_count": 23,
     "metadata": {},
     "output_type": "execute_result"
    }
   ],
   "source": [
    "response.json()[\"hits\"][\"total\"][\"value\"]"
   ]
  },
  {
   "cell_type": "markdown",
   "metadata": {},
   "source": [
    "## 11. Determine the 10 documents that are the most relevant for the phrase **konstytucja**.\n",
    "\n",
    "I've found 10 documents with highest matching score."
   ]
  },
  {
   "cell_type": "code",
   "execution_count": 40,
   "metadata": {},
   "outputs": [],
   "source": [
    "response = requests.get(\n",
    "    url=f\"{es_url}/acts/_search?filter_path=hits.hits._id,hits.hits._score\",\n",
    "    json={\n",
    "        \"query\": {\n",
    "            \"match\": {\n",
    "                \"content\": {\n",
    "                    \"query\": \"konstytucja\"\n",
    "                }\n",
    "            }\n",
    "        },\n",
    "        \"size\": 10\n",
    "    }\n",
    ")"
   ]
  },
  {
   "cell_type": "markdown",
   "metadata": {},
   "source": [
    "Answer:"
   ]
  },
  {
   "cell_type": "code",
   "execution_count": 44,
   "metadata": {},
   "outputs": [
    {
     "data": {
      "text/plain": [
       "[{'_id': '1997_629', '_score': 6.869184},\n",
       " {'_id': '2000_443', '_score': 6.663479},\n",
       " {'_id': '1997_604', '_score': 6.632288},\n",
       " {'_id': '1996_350', '_score': 6.6273947},\n",
       " {'_id': '1997_642', '_score': 6.2522817},\n",
       " {'_id': '2001_23', '_score': 6.056855},\n",
       " {'_id': '1996_199', '_score': 5.9267144},\n",
       " {'_id': '1999_688', '_score': 5.848894},\n",
       " {'_id': '1997_681', '_score': 5.4653444},\n",
       " {'_id': '2001_1082', '_score': 5.4653444}]"
      ]
     },
     "execution_count": 44,
     "metadata": {},
     "output_type": "execute_result"
    }
   ],
   "source": [
    "response.json()[\"hits\"][\"hits\"]"
   ]
  },
  {
   "cell_type": "markdown",
   "metadata": {},
   "source": [
    "## 12. Print the excerpts containing the word **konstytucja** (up to three excerpts per document) from the previous task."
   ]
  },
  {
   "cell_type": "code",
   "execution_count": 47,
   "metadata": {},
   "outputs": [
    {
     "name": "stdout",
     "output_type": "stream",
     "text": [
      "{\n",
      "    \"hits\": {\n",
      "        \"hits\": [\n",
      "            {\n",
      "                \"_id\": \"1997_629\",\n",
      "                \"highlight\": {\n",
      "                    \"content\": [\n",
      "                        \"o zmianie ustawy konstytucyjnej o trybie przygotowania\\n           i uchwalenia <em>Konstytucji</em> Rzeczypospolitej\",\n",
      "                        \"W ustawie  konstytucyjnej z  dnia 23 kwietnia 1992 r. o trybie przygotowania i \\nuchwalenia <em>Konstytucji</em>\"\n",
      "                    ]\n",
      "                }\n",
      "            },\n",
      "            {\n",
      "                \"_id\": \"2000_443\",\n",
      "                \"highlight\": {\n",
      "                    \"content\": [\n",
      "                        \"umowy międzynarodowej i nie wypełnia przesłanek określonych w art. 89\\n     ust. 1 lub art. 90 <em>Konstytucji</em>\",\n",
      "                        \"co do zasadności wyboru\\n  trybu ratyfikacji umowy międzynarodowej, o którym mowa w art. 89 ust. 2\\n  <em>Konstytucji</em>\"\n",
      "                    ]\n",
      "                }\n",
      "            },\n",
      "            {\n",
      "                \"_id\": \"1997_604\",\n",
      "                \"highlight\": {\n",
      "                    \"content\": [\n",
      "                        \"Jeżeli Trybunał Konstytucyjny wyda orzeczenie o sprzeczności celów partii \\n   politycznej z <em>Konstytucją</em>\",\n",
      "                        \"Jeżeli Trybunał Konstytucyjny wyda orzeczenie o sprzeczności z <em>Konstytucją</em>\\n   celów lub działalności\"\n",
      "                    ]\n",
      "                }\n",
      "            },\n",
      "            {\n",
      "                \"_id\": \"1996_350\",\n",
      "                \"highlight\": {\n",
      "                    \"content\": [\n",
      "                        \"Za naruszenie <em>Konstytucji</em> lub ustawy, w związku z zajmowanym\\n              stanowiskiem lub w zakresie\",\n",
      "                        \"W zakresie określonym w art. 107 <em>Konstytucji</em> odpowiedzialność przed\\n           Trybunałem Stanu ponoszą\"\n",
      "                    ]\n",
      "                }\n",
      "            },\n",
      "            {\n",
      "                \"_id\": \"1997_642\",\n",
      "                \"highlight\": {\n",
      "                    \"content\": [\n",
      "                        \"wnioskami o:\\n             1) stwierdzenie zgodności ustaw i umów międzynarodowych z\\n               <em>Konstytucją</em>\",\n",
      "                        \"stwierdzenie zgodności przepisów prawa wydawanych przez\\n               centralne organy państwowe, z <em>Konstytucją</em>\"\n",
      "                    ]\n",
      "                }\n",
      "            },\n",
      "            {\n",
      "                \"_id\": \"2001_23\",\n",
      "                \"highlight\": {\n",
      "                    \"content\": [\n",
      "                        \"W Dzienniku Ustaw Rzeczypospolitej Polskiej, zwanym dalej \\\"Dziennikiem\\n  Ustaw\\\", ogłasza się:\\n   1) <em>Konstytucję</em>\",\n",
      "                        \"akty prawne dotyczące:\\n   1) stanu wojny i zawarcia pokoju,\\n   2) referendum zatwierdzającego zmianę <em>Konstytucji</em>\"\n",
      "                    ]\n",
      "                }\n",
      "            },\n",
      "            {\n",
      "                \"_id\": \"1996_199\",\n",
      "                \"highlight\": {\n",
      "                    \"content\": [\n",
      "                        \"Prezydent Rzeczypospolitej Polskiej zarządza poddanie <em>Konstytucji</em> pod referendum\\n   w trybie określonym\",\n",
      "                        \"Przyjęcie w referendum <em>Konstytucji</em> następuje wówczas, gdy opowiedziała \\n   się za nią większość biorących\"\n",
      "                    ]\n",
      "                }\n",
      "            },\n",
      "            {\n",
      "                \"_id\": \"1999_688\",\n",
      "                \"highlight\": {\n",
      "                    \"content\": [\n",
      "                        \"Projekt ustawy nie może dotyczyć spraw, dla których <em>Konstytucja</em>\\nRzeczypospolitej Polskiej zastrzega wyłączną\",\n",
      "                        \"Projekt ustawy wniesiony do Marszałka Sejmu powinien odpowiadać wymogom\\n  zawartym w <em>Konstytucji</em> i Regulaminie\"\n",
      "                    ]\n",
      "                }\n",
      "            },\n",
      "            {\n",
      "                \"_id\": \"1997_681\",\n",
      "                \"highlight\": {\n",
      "                    \"content\": [\n",
      "                        \"Rzecznik Praw Dziecka, zwany dalej Rzecznikiem, stoi na straży praw dziecka\\n  określonych w <em>Konstytucji</em>\",\n",
      "                        \"uroczyście, że przy wykonywaniu powierzonych mi obowiązków\\n     Rzecznika Praw Dziecka dochowam wierności <em>Konstytucji</em>\"\n",
      "                    ]\n",
      "                }\n",
      "            },\n",
      "            {\n",
      "                \"_id\": \"2001_1082\",\n",
      "                \"highlight\": {\n",
      "                    \"content\": [\n",
      "                        \"Krajowa Rada Sądownictwa, zwana dalej \\\"Radą\\\", realizuje cele określone w\\n  <em>Konstytucji</em> Rzeczypospolitej\",\n",
      "                        \") podejmuje uchwały w sprawach wystąpienia do Trybunału Konstytucyjnego o\\n     zbadanie zgodności z <em>Konstytucją</em>\"\n",
      "                    ]\n",
      "                }\n",
      "            }\n",
      "        ]\n",
      "    }\n",
      "}\n"
     ]
    }
   ],
   "source": [
    "response = requests.get(\n",
    "    url=f\"{es_url}/acts/_search?filter_path=hits.hits._id,hits.hits.highlight\",\n",
    "    json={\n",
    "        \"query\": {\n",
    "            \"match\": {\n",
    "                \"content\": {\n",
    "                    \"query\": \"konstytucja\"\n",
    "                }\n",
    "            }\n",
    "        },\n",
    "        \"highlight\": {\n",
    "            \"fields\": {\n",
    "                \"content\": {\n",
    "                    \"number_of_fragments\": 2\n",
    "                }\n",
    "            }\n",
    "        },\n",
    "        \"size\": 10\n",
    "    }\n",
    ")\n",
    "\n",
    "pprint(response)"
   ]
  }
 ],
 "metadata": {
  "kernelspec": {
   "display_name": "Python 3.10.8 ('ds')",
   "language": "python",
   "name": "python3"
  },
  "language_info": {
   "codemirror_mode": {
    "name": "ipython",
    "version": 3
   },
   "file_extension": ".py",
   "mimetype": "text/x-python",
   "name": "python",
   "nbconvert_exporter": "python",
   "pygments_lexer": "ipython3",
   "version": "3.10.8"
  },
  "orig_nbformat": 4,
  "vscode": {
   "interpreter": {
    "hash": "2886749ed11b87e200011d0e8b34479c2c945318db21e04a15735afb52256eb9"
   }
  }
 },
 "nbformat": 4,
 "nbformat_minor": 2
}
