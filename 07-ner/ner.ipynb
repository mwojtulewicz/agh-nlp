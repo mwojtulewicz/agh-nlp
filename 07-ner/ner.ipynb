{
 "cells": [
  {
   "attachments": {},
   "cell_type": "markdown",
   "metadata": {},
   "source": [
    "# Named Entity Recognition\n",
    "Mateusz Wojtulewicz"
   ]
  },
  {
   "cell_type": "code",
   "execution_count": 1,
   "metadata": {},
   "outputs": [],
   "source": [
    "from xml.etree import ElementTree as ET\n",
    "from pathlib import Path\n",
    "from collections import Counter"
   ]
  },
  {
   "attachments": {},
   "cell_type": "markdown",
   "metadata": {},
   "source": [
    "### 1. Read the classification of [Named Entities](https://clarin-pl.eu/dspace/bitstream/handle/11321/294/WytyczneKPWr-jednostkiidentyfikacyjne.pdf).\n",
    "\n",
    "\n",
    "### 2. Read the [API of NER](https://wiki.clarin-pl.eu/pl/nlpws/services/liner2) in [Clarin](https://ws.clarin-pl.eu/ner.shtml).\n",
    "\n",
    "### 3. Read the [documentation of CCL format](https://wiki.clarin-pl.eu/pl/nlpws/services/ccl) or [more tourough documentation of CCL format](http://nlp.pwr.wroc.pl/redmine/projects/corpus2/wiki/CCL_format).\n",
    "\n",
    "### 4. Sort bills according to their size and take top 50 (largest) bills."
   ]
  },
  {
   "cell_type": "code",
   "execution_count": 16,
   "metadata": {},
   "outputs": [
    {
     "data": {
      "text/plain": [
       "[('2000_696.txt', 579582),\n",
       " ('1996_465.txt', 420981),\n",
       " ('2001_627.txt', 413929),\n",
       " ('1997_555.txt', 396494),\n",
       " ('2002_1689.txt', 352618),\n",
       " ('2000_1186.txt', 275546),\n",
       " ('1998_1118.txt', 271036),\n",
       " ('1997_117.txt', 262973),\n",
       " ('2001_1070.txt', 259359),\n",
       " ('2001_1368.txt', 258344)]"
      ]
     },
     "execution_count": 16,
     "metadata": {},
     "output_type": "execute_result"
    }
   ],
   "source": [
    "acts_dir = Path(\"../data/ustawy/\")\n",
    "\n",
    "acts_stats = ((act.name, act.stat().st_size) for act in acts_dir.iterdir())\n",
    "acts_stats = sorted(acts_stats, key=lambda x: x[1], reverse=True)\n",
    "acts_stats[:10]"
   ]
  },
  {
   "cell_type": "code",
   "execution_count": 17,
   "metadata": {},
   "outputs": [],
   "source": [
    "acts_longest = [path for path, size in acts_stats[:50]]"
   ]
  },
  {
   "attachments": {},
   "cell_type": "markdown",
   "metadata": {},
   "source": [
    "### 5. Use the lemmatized and sentence split documents (from ex. 5) to identify the expressions that consist of consecutive words starting with a capital letter (you will have to look at the inflected form of the word to check its capitalization) that do not occupy the first position in a sentence."
   ]
  },
  {
   "cell_type": "code",
   "execution_count": 18,
   "metadata": {},
   "outputs": [
    {
     "data": {
      "text/plain": [
       "50"
      ]
     },
     "execution_count": 18,
     "metadata": {},
     "output_type": "execute_result"
    }
   ],
   "source": [
    "clarin_acts_dir = Path(\"../data/ustawy_tagged_clarin_morf1/\")\n",
    "\n",
    "acts_longest_clarin = [clarin_acts_dir / act for act in acts_longest]\n",
    "len(acts_longest_clarin)"
   ]
  },
  {
   "cell_type": "code",
   "execution_count": 19,
   "metadata": {},
   "outputs": [],
   "source": [
    "acts_entities = {}\n",
    "\n",
    "for act in acts_longest_clarin:\n",
    "    \n",
    "    act_id = act.stem\n",
    "    content = act.read_text(encoding=\"utf8\")\n",
    "    tree = ET.fromstring(text=content)\n",
    "    \n",
    "    entities = []\n",
    "    for sentence in tree.iter(\"sentence\"):\n",
    "        tokens = list(sentence.iter(\"tok\"))[1:]\n",
    "        entity_parts = []\n",
    "        for token in tokens:\n",
    "            orth = token.find(\"orth\")\n",
    "            if orth.text[0].isupper():\n",
    "                base = token.find(\"lex\").find(\"base\").text.capitalize()\n",
    "                entity_parts.append(base)\n",
    "            elif len(entity_parts) > 0:\n",
    "                entity = \" \".join(entity_parts)\n",
    "                entities.append(entity)\n",
    "                entity_parts = []\n",
    "    \n",
    "    acts_entities[act_id] = entities"
   ]
  },
  {
   "attachments": {},
   "cell_type": "markdown",
   "metadata": {},
   "source": [
    "### 6. Compute the frequency of each identified expression and print 50 results with the largest number of occurrences."
   ]
  },
  {
   "cell_type": "code",
   "execution_count": 21,
   "metadata": {},
   "outputs": [
    {
     "data": {
      "text/plain": [
       "[('Nr', 4585),\n",
       " ('Dziennik', 1601),\n",
       " ('U', 1543),\n",
       " ('Art', 1191),\n",
       " ('Rzeczpospolita Polski', 751),\n",
       " ('Kodeks', 509),\n",
       " ('Policja', 464),\n",
       " ('Skarb Państwo', 395),\n",
       " ('Prawo', 330),\n",
       " ('Kasa Chory', 321),\n",
       " ('Unia Europejski', 292),\n",
       " ('Straż Graniczny', 290),\n",
       " ('Minister', 276),\n",
       " ('Rada Minister', 274),\n",
       " ('Państwowy Straż Pożarny', 239),\n",
       " ('Zakład', 230),\n",
       " ('Państwowy Komisja Wyborczy', 211),\n",
       " ('Rada', 190),\n",
       " ('Pozostały', 185),\n",
       " ('Fundusz', 183),\n",
       " ('Prezes Urząd', 183),\n",
       " ('I', 181),\n",
       " ('Zmiana', 175),\n",
       " ('Minister Obrona Narodowy', 174),\n",
       " ('Minister Sprawiedliwość', 172),\n",
       " ('Urząd Patentowy', 172),\n",
       " ('Sprawiedliwość', 164),\n",
       " ('Azot', 160),\n",
       " ('Ii', 150),\n",
       " ('Urząd Ochrona Państwo', 141),\n",
       " ('Tkanina', 138),\n",
       " ('Prezes Rada Minister', 134),\n",
       " ('Obrona Narodowy', 129),\n",
       " ('Minister Finanse', 127),\n",
       " ('Finanse', 116),\n",
       " ('Iii', 115),\n",
       " ('Inspektor Nadzór Wewnętrzny', 115),\n",
       " ('Efta', 114),\n",
       " ('P2o5', 110),\n",
       " ('Biuro', 109),\n",
       " ('Komisja', 107),\n",
       " ('Nawóz', 107),\n",
       " ('Administracja', 106),\n",
       " ('Europejski Obszar Gospodarczy', 105),\n",
       " ('Europejski Porozumienie', 104),\n",
       " ('Wolny Handel', 104),\n",
       " ('Przepis', 101),\n",
       " ('Sąd Wysoki', 98),\n",
       " ('Urząd', 97),\n",
       " ('Minister Sprawa Wewnętrzny', 92)]"
      ]
     },
     "execution_count": 21,
     "metadata": {},
     "output_type": "execute_result"
    }
   ],
   "source": [
    "entities_all = [entity for entities in acts_entities.values() for entity in entities]\n",
    "entities_counter = Counter(entities_all)\n",
    "entities_counter.most_common(50)"
   ]
  },
  {
   "attachments": {},
   "cell_type": "markdown",
   "metadata": {},
   "source": [
    "### 7. Apply the NER algorithm to identify the named entities in the same set of documents (not lemmatized) using the `n82` model.\n",
    "\n",
    "Firstly, I copied 50 longest acts to a separate directory. Then I zipped it and put into Clarin `n82` model. At the end I saved the results and unpacked them."
   ]
  },
  {
   "cell_type": "code",
   "execution_count": 29,
   "metadata": {},
   "outputs": [],
   "source": [
    "import shutil"
   ]
  },
  {
   "cell_type": "code",
   "execution_count": 33,
   "metadata": {},
   "outputs": [],
   "source": [
    "acts_longest_dir = Path(\"../data/ustawy_longest/\")\n",
    "acts_longest_dir.mkdir(parents=True, exist_ok=True)\n",
    "\n",
    "for act_path in acts_longest:\n",
    "    shutil.copy(\n",
    "        src=acts_dir / act_path,\n",
    "        dst=acts_longest_dir / act_path\n",
    "    )"
   ]
  },
  {
   "cell_type": "code",
   "execution_count": 38,
   "metadata": {},
   "outputs": [],
   "source": [
    "acts_n82_dir = Path(\"../data/ustawy_entities_n82/\")\n",
    "\n",
    "acts_entities_n82 = {}\n",
    "\n",
    "for act in acts_n82_dir.iterdir():\n",
    "    \n",
    "    act_id = act.stem\n",
    "    content = act.read_text(encoding=\"utf8\")\n",
    "    tree = ET.fromstring(text=content)\n",
    "    \n",
    "    entities = []\n",
    "    \n",
    "    for sentence in tree.iter(\"sentence\"):\n",
    "        \n",
    "        sentence_id = sentence.attrib[\"id\"]\n",
    "        tokens = sentence.iter(\"tok\")\n",
    "\n",
    "        # for every annotation class store list of bases and orths\n",
    "        bases = {}\n",
    "        orths = {}\n",
    "        \n",
    "        for token in tokens:\n",
    "            \n",
    "            orth = token.find(\"orth\")\n",
    "            base = token.find(\"lex\").find(\"base\")\n",
    "            \n",
    "            anns = token.iter(\"ann\")\n",
    "            \n",
    "            for ann in anns:\n",
    "                # zero values mean that token is not part of given enetity type\n",
    "                if ann.text == \"0\":\n",
    "                    continue\n",
    "                \n",
    "                # type and instance id\n",
    "                type_and_id = f\"{ann.attrib['chan']}:{ann.text}\"\n",
    "                \n",
    "                # initialize empty lists if new type\n",
    "                if not type_and_id in bases.keys():\n",
    "                    bases[type_and_id] = []\n",
    "                    orths[type_and_id] = []\n",
    "                \n",
    "                bases[type_and_id].append(base.text.lower())\n",
    "                orths[type_and_id].append(orth.text)\n",
    "            \n",
    "        # construct entities tuples: (bases, orths, type, sentence_id)\n",
    "        for type_and_id in bases.keys():\n",
    "            e_bases = \" \".join(bases[type_and_id])\n",
    "            e_orths = \" \".join(orths[type_and_id])\n",
    "            e_type = type_and_id.split(\":\")[0]\n",
    "            entity_tuple = e_bases, e_orths, e_type, sentence_id\n",
    "            entities.append(entity_tuple)\n",
    "        \n",
    "    acts_entities_n82[act_id] = entities"
   ]
  },
  {
   "attachments": {},
   "cell_type": "markdown",
   "metadata": {},
   "source": [
    "Examplary output:"
   ]
  },
  {
   "cell_type": "code",
   "execution_count": 39,
   "metadata": {},
   "outputs": [
    {
     "data": {
      "text/plain": [
       "[('urząd patentowy rzeczpospolita polski',\n",
       "  'Urzędu Patentowego Rzeczypospolitej Polskiej',\n",
       "  'nam_org_institution',\n",
       "  's6'),\n",
       " ('urząd patentowy', 'Urzędem Patentowym', 'nam_org_institution', 's6'),\n",
       " ('rzeczpospolita polski',\n",
       "  'Rzeczypospolitej Polskiej',\n",
       "  'nam_loc_gpe_country',\n",
       "  's13'),\n",
       " ('rzeczpospolita polska',\n",
       "  'Rzeczpospolita Polska',\n",
       "  'nam_loc_gpe_country',\n",
       "  's13'),\n",
       " ('konwencja paryski', 'Konwencję paryską', 'nam_pro_title_document', 's13')]"
      ]
     },
     "execution_count": 39,
     "metadata": {},
     "output_type": "execute_result"
    }
   ],
   "source": [
    "acts_entities_n82[\"ustawy_longest%1994_195\"][:5]"
   ]
  },
  {
   "attachments": {},
   "cell_type": "markdown",
   "metadata": {},
   "source": [
    "### 8. Plot the frequency (histogram) of the coarse-grained classes (e.g. `nam_adj`, `nam_eve`, `nam_fac`)."
   ]
  },
  {
   "cell_type": "code",
   "execution_count": 55,
   "metadata": {},
   "outputs": [],
   "source": [
    "import matplotlib.pyplot as plt"
   ]
  },
  {
   "cell_type": "code",
   "execution_count": 42,
   "metadata": {},
   "outputs": [],
   "source": [
    "def get_ctype(entity_tuple: tuple) -> str:\n",
    "    e_type = entity_tuple[2]\n",
    "    ctype = \"_\".join(e_type.split(\"_\")[:2])\n",
    "    return ctype"
   ]
  },
  {
   "cell_type": "code",
   "execution_count": 43,
   "metadata": {},
   "outputs": [],
   "source": [
    "entities_n82_all = [entity for entities in acts_entities_n82.values() for entity in entities]\n",
    "ctypes_all = [get_ctype(entity_tuple) for entity_tuple in entities_n82_all]\n",
    "ctypes_counter = Counter(ctypes_all)"
   ]
  },
  {
   "cell_type": "code",
   "execution_count": 71,
   "metadata": {},
   "outputs": [
    {
     "data": {
      "text/plain": [
       "[('nam_org', 9751),\n",
       " ('nam_pro', 3191),\n",
       " ('nam_loc', 1537),\n",
       " ('nam_liv', 652),\n",
       " ('nam_oth', 557),\n",
       " ('nam_adj', 383),\n",
       " ('nam_fac', 147),\n",
       " ('nam_eve', 30),\n",
       " ('nam_num', 14)]"
      ]
     },
     "execution_count": 71,
     "metadata": {},
     "output_type": "execute_result"
    }
   ],
   "source": [
    "ctypes_sorted = ctypes_counter.most_common()\n",
    "ctypes_sorted"
   ]
  },
  {
   "cell_type": "code",
   "execution_count": null,
   "metadata": {},
   "outputs": [
    {
     "data": {
      "image/png": "[encoded data removed]",
      "text/plain": [
       "<Figure size 1000x400 with 1 Axes>"
      ]
     },
     "metadata": {},
     "output_type": "display_data"
    }
   ],
   "source": [
    "ctype_names = [ctype for ctype, count in ctypes_sorted] \n",
    "ctype_count = [count for ctype, count in ctypes_sorted] \n",
    "\n",
    "plt.figure(figsize=(10, 4))\n",
    "plt.bar(ctype_names, ctype_count)\n",
    "plt.xlabel(\"Entity coarse type (NKJP format)\")\n",
    "plt.ylabel(\"Count\")\n",
    "plt.xticks(rotation=60)\n",
    "plt.tight_layout()\n",
    "plt.show()"
   ]
  },
  {
   "attachments": {},
   "cell_type": "markdown",
   "metadata": {},
   "source": [
    "### 9. Display 10 most frequent Named Entities for each coarse-grained type."
   ]
  },
  {
   "cell_type": "code",
   "execution_count": 78,
   "metadata": {},
   "outputs": [
    {
     "name": "stdout",
     "output_type": "stream",
     "text": [
      "\n",
      "--- NAM_ORG ---\n",
      "skarb państwo [410]\n",
      "minister sprawiedliwość [322]\n",
      "unia europejski [297]\n",
      "minister obrona narodowy [287]\n",
      "rada minister [279]\n",
      "państwowy komisja wyborczy [268]\n",
      "prezes rad minister [264]\n",
      "państwowy straż pożarny [259]\n",
      "minister finanse [234]\n",
      "prezes urząd [201]\n",
      "\n",
      "--- NAM_LOC ---\n",
      "rzeczpospolita polski [815]\n",
      "rzeczpospolita polska [95]\n",
      "polska [72]\n",
      "warszawa [71]\n",
      "nawóz [28]\n",
      "konfederacja szwajcarski [14]\n",
      "rejestr [8]\n",
      "londyn [7]\n",
      "mazowiecki [7]\n",
      "zakład [6]\n",
      "\n",
      "--- NAM_PRO ---\n",
      "dzieje_(apostolskie) . u . [1097]\n",
      "dziennik . u . [438]\n",
      "dziennik . urz [80]\n",
      "ordynacja podatkowy [78]\n",
      "kodeks karny [68]\n",
      "monitor polska [62]\n",
      "sprawa wewnętrzny [51]\n",
      "kodeks postępowanie cywilny [41]\n",
      "kodeks postępowanie administracyjny [40]\n",
      "kodeks postępowanie karny [36]\n",
      "\n",
      "--- NAM_ADJ ---\n",
      "polski [204]\n",
      "wojewódzki [20]\n",
      "europejski [15]\n",
      "mazowiecki [7]\n",
      "internetowy [5]\n",
      "macierzyński [3]\n",
      "warszawski [3]\n",
      "afrykański [2]\n",
      "lubiński [2]\n",
      "wrocławski [2]\n",
      "\n",
      "--- NAM_LIV ---\n",
      "kasa chora [109]\n",
      "pan [40]\n",
      "straż graniczny [36]\n",
      "krajowy depozyt [25]\n",
      "siła zbrojny [24]\n",
      "art [18]\n",
      "gospodarka żywnościowy [16]\n",
      "główny inspektor [16]\n",
      "najwyższy [13]\n",
      "główny lekarz weterynaria [11]\n",
      "\n",
      "--- NAM_OTH ---\n",
      "złoty [334]\n",
      "euro [118]\n",
      "pesel [14]\n",
      "bat [12]\n",
      "nowy_polski_złoty [10]\n",
      "minister edukacja narodowy [8]\n",
      "ecu [7]\n",
      "nip [7]\n",
      "viii [5]\n",
      "internet [5]\n",
      "\n",
      "--- NAM_FAC ---\n",
      "inspektor nadzór wewnętrzny [50]\n",
      "komendant główny [16]\n",
      "straż graniczny [13]\n",
      "mangan [8]\n",
      "obrona narodowy [6]\n",
      "krajowy rejestr karny [5]\n",
      "molibden [4]\n",
      "zatoka gdańska [4]\n",
      "zasłużony dawca przeszczep [4]\n",
      "mn [3]\n",
      "\n",
      "--- NAM_EVE ---\n",
      "euro [5]\n",
      "maksymalny limit pozostałość [4]\n",
      "monitor sądowy [2]\n",
      "przejściowy plan krajowy [2]\n",
      "oddział 2 tranzyt [1]\n",
      "x . opieka domowy nad dziecko [1]\n",
      "ii wojna światowy [1]\n",
      "top secret [1]\n",
      "narodowy bank polska [1]\n",
      "międzynarodowy standard rachunkowość [1]\n",
      "\n",
      "--- NAM_NUM ---\n",
      "1 [13]\n",
      "112 [1]\n"
     ]
    }
   ],
   "source": [
    "for ctype in ctypes_counter.keys():\n",
    "    print(f\"\\n--- {ctype.upper()} ---\")\n",
    "    \n",
    "    entities_filtered = [entity[0] for entity in entities_n82_all if get_ctype(entity) == ctype]\n",
    "    ef_counter = Counter(entities_filtered)\n",
    "    for entity, count in ef_counter.most_common(10):\n",
    "        print(f\"{entity} [{count}]\")"
   ]
  },
  {
   "attachments": {},
   "cell_type": "markdown",
   "metadata": {},
   "source": [
    "### 10. Display 50 most frequent Named Entities including their count and fine-grained type."
   ]
  },
  {
   "cell_type": "code",
   "execution_count": 81,
   "metadata": {},
   "outputs": [
    {
     "data": {
      "text/plain": [
       "[(('dzieje_(apostolskie) . u .', 'nam_pro_media_periodic'), 1097),\n",
       " (('rzeczpospolita polski', 'nam_loc_gpe_country'), 815),\n",
       " (('dziennik . u .', 'nam_pro_media_periodic'), 438),\n",
       " (('skarb państwo', 'nam_org_institution'), 410),\n",
       " (('złoty', 'nam_oth_currency'), 334),\n",
       " (('minister sprawiedliwość', 'nam_org_institution'), 322),\n",
       " (('unia europejski', 'nam_org_organization'), 296),\n",
       " (('minister obrona narodowy', 'nam_org_institution'), 287),\n",
       " (('rada minister', 'nam_org_institution'), 279),\n",
       " (('państwowy komisja wyborczy', 'nam_org_institution'), 267),\n",
       " (('prezes rad minister', 'nam_org_institution'), 264),\n",
       " (('minister finanse', 'nam_org_institution'), 234),\n",
       " (('państwowy straż pożarny', 'nam_org_organization'), 225),\n",
       " (('polski', 'nam_adj_country'), 204),\n",
       " (('prezes urząd', 'nam_org_institution'), 201),\n",
       " (('urząd patentowy', 'nam_org_institution'), 196),\n",
       " (('urząd ochrona państwo', 'nam_org_institution'), 181),\n",
       " (('euro', 'nam_oth_currency'), 118),\n",
       " (('sąd najwyższy', 'nam_org_institution'), 116),\n",
       " (('efta', 'nam_org_organization'), 114),\n",
       " (('kasa chora', 'nam_liv_person'), 109),\n",
       " (('europejski porozumienie o wolny handel', 'nam_org_company'), 103),\n",
       " (('rzeczpospolita polska', 'nam_loc_gpe_country'), 95),\n",
       " (('sejm', 'nam_org_institution'), 91),\n",
       " (('prezes urząd regulacja energetyka', 'nam_org_institution'), 86),\n",
       " (('minister zdrowie i opieka społeczny', 'nam_org_institution'), 82),\n",
       " (('komisja europejski', 'nam_org_institution'), 82),\n",
       " (('okręg', 'nam_org_organization'), 81),\n",
       " (('okręgowy komisja wyborczy', 'nam_org_institution'), 81),\n",
       " (('dziennik . urz', 'nam_pro_media_periodic'), 80),\n",
       " (('ordynacja podatkowy', 'nam_pro_title_document'), 78),\n",
       " (('minister sprawa wewnętrzny i administracja', 'nam_org_institution'), 76),\n",
       " (('polska', 'nam_loc_gpe_country'), 72),\n",
       " (('komendant główny straż graniczny', 'nam_org_institution'), 72),\n",
       " (('zakład ubezpieczenie społeczny', 'nam_org_institution'), 70),\n",
       " (('warszawa', 'nam_loc_gpe_city'), 70),\n",
       " (('bswsg', 'nam_org_organization'), 70),\n",
       " (('kodeks karny', 'nam_pro_title_document'), 68),\n",
       " (('biuro ochrona rząd', 'nam_org_institution'), 66),\n",
       " (('komendant główny policja', 'nam_org_institution'), 64),\n",
       " (('monitor polska', 'nam_pro_title'), 62),\n",
       " (('wspólnota europejski', 'nam_org_organization'), 61),\n",
       " (('minister skarb państwo', 'nam_org_institution'), 56),\n",
       " (('w', 'nam_org_organization'), 55),\n",
       " (('senat', 'nam_org_institution'), 54),\n",
       " (('minister praca i polityka socjalna', 'nam_org_institution'), 52),\n",
       " (('główny inspektor farmaceutyczny', 'nam_org_institution'), 52),\n",
       " (('dziennik urzędowy rzeczpospolita polski \"', 'nam_org_institution'), 51),\n",
       " (('sprawa wewnętrzny', 'nam_pro_title'), 51),\n",
       " (('krajowy biuro wyborczy', 'nam_org_institution'), 51)]"
      ]
     },
     "execution_count": 81,
     "metadata": {},
     "output_type": "execute_result"
    }
   ],
   "source": [
    "entities_n82_bases_all = [(entity[0], entity[2]) for entity in entities_n82_all]\n",
    "\n",
    "Counter(entities_n82_bases_all).most_common(50)"
   ]
  },
  {
   "attachments": {},
   "cell_type": "markdown",
   "metadata": {},
   "source": [
    "### 11. Display 5 sentences containing at least 2 recognized named entities with different types. Highlight the recognized spans with color."
   ]
  },
  {
   "cell_type": "code",
   "execution_count": 83,
   "metadata": {},
   "outputs": [],
   "source": [
    "sentences_2ners = []\n",
    "\n",
    "for act_id, entities in acts_entities_n82.items():\n",
    "    act_sentences = {}\n",
    "    \n",
    "    for entity in entities:\n",
    "        e_base, e_orth, e_type, s_id = entity\n",
    "        if s_id not in act_sentences.keys():\n",
    "            act_sentences[s_id] = set()\n",
    "        act_sentences[s_id].add(e_type)\n",
    "    \n",
    "    for s_id, types_set in act_sentences.items():\n",
    "        if len(types_set) >= 2:\n",
    "            sentences_2ners.append((act_id, s_id))"
   ]
  },
  {
   "cell_type": "code",
   "execution_count": 94,
   "metadata": {},
   "outputs": [],
   "source": [
    "def find_and_parse_sentence(act_id: str, s_id: str):\n",
    "    act = acts_n82_dir / f\"{act_id}.txt\"\n",
    "    content = act.read_text(encoding=\"utf8\")\n",
    "    tree = ET.fromstring(text=content)\n",
    "    \n",
    "    tokens = []\n",
    "    for sentence in tree.iter(\"sentence\"):\n",
    "        if sentence.attrib[\"id\"] == s_id:\n",
    "            tokens = [token.find(\"orth\").text for token in sentence.iter(\"tok\")]\n",
    "    \n",
    "    entities = []\n",
    "    for entity in acts_entities_n82[act_id]:\n",
    "        e_base, e_orth, e_type, sentence_id = entity\n",
    "        if sentence_id == s_id:\n",
    "            entities.append((e_orth, e_type))\n",
    "    \n",
    "    return tokens, entities "
   ]
  },
  {
   "cell_type": "code",
   "execution_count": 82,
   "metadata": {},
   "outputs": [],
   "source": [
    "import spacy\n",
    "from spacy import displacy"
   ]
  },
  {
   "cell_type": "code",
   "execution_count": 100,
   "metadata": {},
   "outputs": [],
   "source": [
    "# blank language model\n",
    "nlp = spacy.blank(\"pl\")\n",
    "\n",
    "def highlight_sentence(tokens, entities):\n",
    "    sentence = \" \".join(tokens)\n",
    "    doc = nlp.make_doc(sentence)\n",
    "    ents = []\n",
    "    for entity in entities:\n",
    "        e_orth, e_type = entity\n",
    "        start = sentence.index(e_orth)\n",
    "        stop = start + len(e_orth)\n",
    "        ents.append(doc.char_span(start, stop, label=e_type))\n",
    "    \n",
    "    doc.ents = ents\n",
    "    displacy.render(doc, style=\"ent\", jupyter=True)\n",
    "        "
   ]
  },
  {
   "cell_type": "code",
   "execution_count": 101,
   "metadata": {},
   "outputs": [
    {
     "data": {
      "text/html": [
       "<span class=\"tex2jax_ignore\"><div class=\"entities\" style=\"line-height: 2.5; direction: ltr\">Minister właściwy do spraw transportu , w porozumieniu z \n",
       "<mark class=\"entity\" style=\"background: #ddd; padding: 0.45em 0.6em; margin: 0 0.25em; line-height: 1; border-radius: 0.35em;\">\n",
       "    Ministrem Obrony Narodowej\n",
       "    <span style=\"font-size: 0.8em; font-weight: bold; line-height: 1; border-radius: 0.35em; vertical-align: middle; margin-left: 0.5rem\">nam_org_institution</span>\n",
       "</mark>\n",
       " , ministrem właściwym do spraw wewnętrznych oraz ministrem właściwym do spraw łączności , określi , w drodze rozporządzenia , wyjątki od zakazów wymienionych w ust . 1 , dotyczące w szczególności : 1 ) wykonywania lotów akrobacyjnych w wyznaczonej strefie lotów akrobacyjnych nad osiedlem lub innym skupiskiem ludności , z uwzględnieniem najmniejszej dopuszczalnej wysokości takich lotów , 2 ) wykonywania lotów próbnych nad osiedlem lub innym skupiskiem ludności przy zachowaniu bezpiecznej wysokości , 3 ) wykonywania zrzutów , zgodnie z zadaniem lotu , 4 ) wykonywania zdjęć fotograficznych w \n",
       "<mark class=\"entity\" style=\"background: #ddd; padding: 0.45em 0.6em; margin: 0 0.25em; line-height: 1; border-radius: 0.35em;\">\n",
       "    polskiej\n",
       "    <span style=\"font-size: 0.8em; font-weight: bold; line-height: 1; border-radius: 0.35em; vertical-align: middle; margin-left: 0.5rem\">nam_adj_country</span>\n",
       "</mark>\n",
       " przestrzeni powietrznej , z uwzględnieniem warunków dopuszczalności ich wykonywania , 5 ) używania znajdujących się na statku powietrznym urządzeń telekomunikacyjnych w zakresie nie utrudniającym przekazywania i odbierania wiadomości bezpośrednio związanych z bezpieczeństwem statku powietrznego , mając na uwadze bezkolizyjne przekazywanie i odbieranie wiadomości bezpośrednio związanych z bezpieczeństwem statku powietrznego . &quot; ; 10 )</div></span>"
      ],
      "text/plain": [
       "<IPython.core.display.HTML object>"
      ]
     },
     "metadata": {},
     "output_type": "display_data"
    },
    {
     "data": {
      "text/html": [
       "<span class=\"tex2jax_ignore\"><div class=\"entities\" style=\"line-height: 2.5; direction: ltr\">Przychodów ( dochodów ) opodatkowanych w formach zryczałtowanych nie łączy się z przychodami ( dochodami ) z innych źródeł podlegającymi opodatkowaniu na podstawie \n",
       "<mark class=\"entity\" style=\"background: #ddd; padding: 0.45em 0.6em; margin: 0 0.25em; line-height: 1; border-radius: 0.35em;\">\n",
       "    ustawy z dnia 26 lipca 1991 r . o podatku dochodowym od osób fizycznych\n",
       "    <span style=\"font-size: 0.8em; font-weight: bold; line-height: 1; border-radius: 0.35em; vertical-align: middle; margin-left: 0.5rem\">nam_pro_title_document</span>\n",
       "</mark>\n",
       " ( \n",
       "<mark class=\"entity\" style=\"background: #ddd; padding: 0.45em 0.6em; margin: 0 0.25em; line-height: 1; border-radius: 0.35em;\">\n",
       "    Dz . U .\n",
       "    <span style=\"font-size: 0.8em; font-weight: bold; line-height: 1; border-radius: 0.35em; vertical-align: middle; margin-left: 0.5rem\">nam_pro_media_periodic</span>\n",
       "</mark>\n",
       " z 1993 r .</div></span>"
      ],
      "text/plain": [
       "<IPython.core.display.HTML object>"
      ]
     },
     "metadata": {},
     "output_type": "display_data"
    },
    {
     "data": {
      "text/html": [
       "<span class=\"tex2jax_ignore\"><div class=\"entities\" style=\"line-height: 2.5; direction: ltr\">Nr 106 , poz . 668 ) , 6 ) żołnierzy zawodowych , funkcjonariuszy Policji , \n",
       "<mark class=\"entity\" style=\"background: #ddd; padding: 0.45em 0.6em; margin: 0 0.25em; line-height: 1; border-radius: 0.35em;\">\n",
       "    Urzędu Ochrony Państwa\n",
       "    <span style=\"font-size: 0.8em; font-weight: bold; line-height: 1; border-radius: 0.35em; vertical-align: middle; margin-left: 0.5rem\">nam_org_institution</span>\n",
       "</mark>\n",
       " , \n",
       "<mark class=\"entity\" style=\"background: #ddd; padding: 0.45em 0.6em; margin: 0 0.25em; line-height: 1; border-radius: 0.35em;\">\n",
       "    Straży Granicznej\n",
       "    <span style=\"font-size: 0.8em; font-weight: bold; line-height: 1; border-radius: 0.35em; vertical-align: middle; margin-left: 0.5rem\">nam_fac_goe</span>\n",
       "</mark>\n",
       " , \n",
       "<mark class=\"entity\" style=\"background: #ddd; padding: 0.45em 0.6em; margin: 0 0.25em; line-height: 1; border-radius: 0.35em;\">\n",
       "    Służby Więziennej\n",
       "    <span style=\"font-size: 0.8em; font-weight: bold; line-height: 1; border-radius: 0.35em; vertical-align: middle; margin-left: 0.5rem\">nam_org_institution</span>\n",
       "</mark>\n",
       " i \n",
       "<mark class=\"entity\" style=\"background: #ddd; padding: 0.45em 0.6em; margin: 0 0.25em; line-height: 1; border-radius: 0.35em;\">\n",
       "    Państwowej Straży Pożarnej\n",
       "    <span style=\"font-size: 0.8em; font-weight: bold; line-height: 1; border-radius: 0.35em; vertical-align: middle; margin-left: 0.5rem\">nam_org_organization</span>\n",
       "</mark>\n",
       " , 7 ) pracowników jednostek ochrony przeciwpożarowej , o których mowa w art . 15 pkt 1a - 5 i 8 \n",
       "<mark class=\"entity\" style=\"background: #ddd; padding: 0.45em 0.6em; margin: 0 0.25em; line-height: 1; border-radius: 0.35em;\">\n",
       "    ustawy z dnia 24 sierpnia 1991 r . o ochronie przeciwpożarowej\n",
       "    <span style=\"font-size: 0.8em; font-weight: bold; line-height: 1; border-radius: 0.35em; vertical-align: middle; margin-left: 0.5rem\">nam_pro_title_document</span>\n",
       "</mark>\n",
       " ( \n",
       "<mark class=\"entity\" style=\"background: #ddd; padding: 0.45em 0.6em; margin: 0 0.25em; line-height: 1; border-radius: 0.35em;\">\n",
       "    Dz . U .\n",
       "    <span style=\"font-size: 0.8em; font-weight: bold; line-height: 1; border-radius: 0.35em; vertical-align: middle; margin-left: 0.5rem\">nam_pro_media_periodic</span>\n",
       "</mark>\n",
       " Nr 81 , poz . 351 , z 1994 r .</div></span>"
      ],
      "text/plain": [
       "<IPython.core.display.HTML object>"
      ]
     },
     "metadata": {},
     "output_type": "display_data"
    },
    {
     "data": {
      "text/html": [
       "<span class=\"tex2jax_ignore\"><div class=\"entities\" style=\"line-height: 2.5; direction: ltr\">- \n",
       "<mark class=\"entity\" style=\"background: #ddd; padding: 0.45em 0.6em; margin: 0 0.25em; line-height: 1; border-radius: 0.35em;\">\n",
       "    Prawo wodne\n",
       "    <span style=\"font-size: 0.8em; font-weight: bold; line-height: 1; border-radius: 0.35em; vertical-align: middle; margin-left: 0.5rem\">nam_pro_title_document</span>\n",
       "</mark>\n",
       " ( \n",
       "<mark class=\"entity\" style=\"background: #ddd; padding: 0.45em 0.6em; margin: 0 0.25em; line-height: 1; border-radius: 0.35em;\">\n",
       "    Dz . U .\n",
       "    <span style=\"font-size: 0.8em; font-weight: bold; line-height: 1; border-radius: 0.35em; vertical-align: middle; margin-left: 0.5rem\">nam_pro_media_periodic</span>\n",
       "</mark>\n",
       " Nr 38 , poz . 230 , z 1980 r .</div></span>"
      ],
      "text/plain": [
       "<IPython.core.display.HTML object>"
      ]
     },
     "metadata": {},
     "output_type": "display_data"
    },
    {
     "data": {
      "text/html": [
       "<span class=\"tex2jax_ignore\"><div class=\"entities\" style=\"line-height: 2.5; direction: ltr\">Nadzwyczajne posiedzenie rady \n",
       "<mark class=\"entity\" style=\"background: #ddd; padding: 0.45em 0.6em; margin: 0 0.25em; line-height: 1; border-radius: 0.35em;\">\n",
       "    Kasy\n",
       "    <span style=\"font-size: 0.8em; font-weight: bold; line-height: 1; border-radius: 0.35em; vertical-align: middle; margin-left: 0.5rem\">nam_liv_person</span>\n",
       "</mark>\n",
       " Chorych jest zwoływane na wniosek zarządu Kasy , \n",
       "<mark class=\"entity\" style=\"background: #ddd; padding: 0.45em 0.6em; margin: 0 0.25em; line-height: 1; border-radius: 0.35em;\">\n",
       "    Prezesa Urzędu Nadzoru\n",
       "    <span style=\"font-size: 0.8em; font-weight: bold; line-height: 1; border-radius: 0.35em; vertical-align: middle; margin-left: 0.5rem\">nam_org_institution</span>\n",
       "</mark>\n",
       " , \n",
       "<mark class=\"entity\" style=\"background: #ddd; padding: 0.45em 0.6em; margin: 0 0.25em; line-height: 1; border-radius: 0.35em;\">\n",
       "    Ministra Zdrowia i Opieki Społecznej\n",
       "    <span style=\"font-size: 0.8em; font-weight: bold; line-height: 1; border-radius: 0.35em; vertical-align: middle; margin-left: 0.5rem\">nam_org_institution</span>\n",
       "</mark>\n",
       " albo co najmniej 1 / 3 członków rady Kasy , w terminie nie dłuższym niż 14 dni od dnia doręczenia żądania przewodniczącemu rady Kasy lub pełniącemu jego obowiązki wiceprzewodniczącemu . &quot; ; 76 ) art . 79 otrzymuje brzmienie : &quot; Art . 79 .</div></span>"
      ],
      "text/plain": [
       "<IPython.core.display.HTML object>"
      ]
     },
     "metadata": {},
     "output_type": "display_data"
    }
   ],
   "source": [
    "import random\n",
    "\n",
    "for act_id, s_id in random.sample(sentences_2ners, 5):\n",
    "    tokens, entities = find_and_parse_sentence(act_id=act_id, s_id=s_id)\n",
    "    highlight_sentence(tokens=tokens, entities=entities)"
   ]
  },
  {
   "attachments": {},
   "cell_type": "markdown",
   "metadata": {},
   "source": [
    "### 12. Answer the following questions:\n",
    "\n",
    "#### a. Which of the method (counting expressions with capital letters vs. NER) worked better for the task concerned with identification of the proper names?\n",
    "\n",
    "The NER method worked much better, because it could capture a name which parts are not only capitalized words, e.g. `ustawy z dnia 26 lipca 1991 r . o podatku dochodowym od osób fizycznych`.\n",
    "\n",
    "#### b. What are the drawbacks of the method based on capital letters?\n",
    "\n",
    "As mentioned above, it lacked the ability to classify longer, not capitalized word sequences as NERs. ALso, there were many false positive NERs, mainly units or abbreviations, such as `Nr`, `III`.\n",
    "\n",
    "#### c. What are the drawbacks of the method based on NER?\n",
    "\n",
    "The most obvious drawback is that before using a model it must be trained to be able to capture entities correctly.\n",
    "\n",
    "#### d. Which of the coarse-grained NER groups has the best and which has the worst results? Try to justify this observation.\n",
    "\n",
    "In my opinion, the best results has the `nam_org` group, which might be because it is the most common in the corpus. The worst results can be observed for `nam_num` group, as it is very strange to classify a number as a Named Entity on its own rather than with an entity that is being numbered.\n",
    "\n",
    "#### e. Do you think NER is sufficient for identifying different occurrences of the same entity (i.e. consider \"USA\" and \"Stany Zjednoczone\" and \"Stany Zjednoczone Ameryki Północnej\")? If not, can you suggest an algorithm or a tool that would be able to group such names together?\n",
    "\n",
    "I think that NER alone is not sufficient for such a task. A word2vec embedding might be a usefull tool to find similar NER entities.\n",
    "\n",
    "#### f. Can you think of a real world problem that would benefit the most from application of Named Entity Recognition algorithm?\n",
    "\n",
    "A problem requiring looking for keywords in a conversation might use NER algorithm as one way of extracting keywords."
   ]
  }
 ],
 "metadata": {
  "kernelspec": {
   "display_name": "ds",
   "language": "python",
   "name": "python3"
  },
  "language_info": {
   "codemirror_mode": {
    "name": "ipython",
    "version": 3
   },
   "file_extension": ".py",
   "mimetype": "text/x-python",
   "name": "python",
   "nbconvert_exporter": "python",
   "pygments_lexer": "ipython3",
   "version": "3.10.8"
  },
  "orig_nbformat": 4,
  "vscode": {
   "interpreter": {
    "hash": "2886749ed11b87e200011d0e8b34479c2c945318db21e04a15735afb52256eb9"
   }
  }
 },
 "nbformat": 4,
 "nbformat_minor": 2
}
